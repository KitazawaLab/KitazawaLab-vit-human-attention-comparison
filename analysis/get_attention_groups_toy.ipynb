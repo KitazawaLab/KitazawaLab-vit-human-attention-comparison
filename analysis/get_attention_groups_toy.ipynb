{
 "cells": [
  {
   "cell_type": "code",
   "execution_count": 1,
   "id": "bf3601f0-f9a6-40e1-8ebd-5a2be064edd7",
   "metadata": {},
   "outputs": [],
   "source": [
    "import os\n",
    "os.environ[\"CUDA_VISIBLE_DEVICES\"]=\"4\"\n",
    "\n",
    "from tqdm.notebook import tqdm\n",
    "import glob\n",
    "import numpy as np\n",
    "from utils_analysis import *\n",
    "from PIL import Image\n",
    "import matplotlib.pyplot as plt\n",
    "\n",
    "import torch\n",
    "from torch.utils.data import DataLoader\n",
    "from scipy.io import loadmat \n",
    "\n",
    "import seaborn as sns\n",
    "import cv2\n",
    "from skimage import data"
   ]
  },
  {
   "cell_type": "code",
   "execution_count": 2,
   "id": "3d2d2749-cdc8-49e7-be64-3116276716aa",
   "metadata": {},
   "outputs": [],
   "source": [
    "training_methods = [\"dino\", \"supervised\"] \n",
    "depth_list = [8, 12]\n",
    "num_models = 6\n",
    "num_heads = 6\n",
    "\n",
    "patch_size = 16\n",
    "batch_size = 32\n",
    "\n",
    "transform = pth_transforms.Compose([\n",
    "    pth_transforms.ToTensor(),\n",
    "    pth_transforms.Normalize((0.485, 0.456, 0.406), (0.229, 0.224, 0.225))])"
   ]
  },
  {
   "cell_type": "code",
   "execution_count": 3,
   "id": "4fb80438-fdb0-4995-9913-068d23a996d4",
   "metadata": {},
   "outputs": [],
   "source": [
    "image_labels = [\"../dataset/popout/colors.png\",\n",
    "                \"../dataset/popout/size.png\",\n",
    "                \"../dataset/popout/alphabets.png\",\n",
    "                \"../dataset/popout/orientation.png\",\n",
    "                \"../dataset/popout/hatching.png\"]\n",
    "\"\"\"\n",
    "image_labels = [\"../dataset/popout/aaa.png\",\n",
    "                \"../dataset/popout/bbb.png\"]\n",
    "\"\"\"\n",
    "\n",
    "# load frame\n",
    "imgs = []\n",
    "# imagenet\n",
    "for path in image_labels:#imagenet_path:\n",
    "    img = cv2.imread(path)\n",
    "    img = cv2.cvtColor(img, cv2.COLOR_BGR2RGB)\n",
    "    if img.shape != (256, 256):\n",
    "        img = cv2.resize(img, (256, 256), interpolation=cv2.INTER_AREA)\n",
    "    imgs.append(img)    \n",
    "#imgs.append(np.array(get_dot_box(bkg=\"ellipse\")))\n",
    "\n",
    "images = torch.stack([transform(img) for img in imgs])\n",
    "num_imgs = len(images)"
   ]
  },
  {
   "cell_type": "code",
   "execution_count": 4,
   "id": "f0ce680e-a82e-4b41-8279-86403888556a",
   "metadata": {},
   "outputs": [],
   "source": [
    "d_label = np.array([[7,8],[9,10]]) - 1"
   ]
  },
  {
   "cell_type": "code",
   "execution_count": 5,
   "id": "d98f68cb-3cbe-4b49-b494-4b5e98b09d77",
   "metadata": {},
   "outputs": [
    {
     "name": "stdout",
     "output_type": "stream",
     "text": [
      "8\n"
     ]
    },
    {
     "data": {
      "application/vnd.jupyter.widget-view+json": {
       "model_id": "768795f1430748adb82011a382aaaf37",
       "version_major": 2,
       "version_minor": 0
      },
      "text/plain": [
       "  0%|          | 0/6 [00:00<?, ?it/s]"
      ]
     },
     "metadata": {},
     "output_type": "display_data"
    },
    {
     "name": "stdout",
     "output_type": "stream",
     "text": [
      "12\n"
     ]
    },
    {
     "data": {
      "application/vnd.jupyter.widget-view+json": {
       "model_id": "dd7cb9112247456683bb6888f9573ded",
       "version_major": 2,
       "version_minor": 0
      },
      "text/plain": [
       "  0%|          | 0/6 [00:00<?, ?it/s]"
      ]
     },
     "metadata": {},
     "output_type": "display_data"
    }
   ],
   "source": [
    "res_dict = {}\n",
    "tm = training_methods[0]\n",
    "for i, depth in enumerate(depth_list):\n",
    "    print(depth)\n",
    "    attn_depth = []\n",
    "    for trial_idx in tqdm(range(num_models)):\n",
    "        model, device = model_load(tm, trial_idx+1, depth, patch_size)\n",
    "        #num_heads = model.num_heads\n",
    "        with torch.inference_mode():\n",
    "            attentions_list = model.get_fulllayers_selfattention(images.to(device))\n",
    "        \n",
    "        num_samples = len(images)\n",
    "        attn_layer = []\n",
    "        for j in range(2): \n",
    "            attentions = attentions_list[d_label[i,j]]\n",
    "            attentions = attentions[:, :, 0, 1:].reshape(num_samples, num_heads, -1)\n",
    "            attentions = attentions.detach().cpu().numpy()\n",
    "            attn_layer.append(attentions[None, :, : ,:])\n",
    "        attn_layer = np.vstack(attn_layer)\n",
    "        attn_depth.append(attn_layer[None, :, :, :, :])\n",
    "    attn_depth = np.vstack(attn_depth)\n",
    "    attn_depth = attn_depth.transpose(1, 0, 3, 2, 4)#.reshape(2, -1, num_imgs, num_tokens)\n",
    "    res_dict[str(depth)] = attn_depth "
   ]
  },
  {
   "cell_type": "code",
   "execution_count": 6,
   "id": "68335ae3-48d0-4166-b7f7-5b4ff4f90b92",
   "metadata": {},
   "outputs": [],
   "source": [
    "save_dir = \"../results/\"\n",
    "np.savez_compressed(f\"{save_dir}/dino_vit_attention_groups_toy.npz\", **res_dict)"
   ]
  }
 ],
 "metadata": {
  "kernelspec": {
   "display_name": "Python 3 (ipykernel)",
   "language": "python",
   "name": "python3"
  },
  "language_info": {
   "codemirror_mode": {
    "name": "ipython",
    "version": 3
   },
   "file_extension": ".py",
   "mimetype": "text/x-python",
   "name": "python",
   "nbconvert_exporter": "python",
   "pygments_lexer": "ipython3",
   "version": "3.10.11"
  }
 },
 "nbformat": 4,
 "nbformat_minor": 5
}
