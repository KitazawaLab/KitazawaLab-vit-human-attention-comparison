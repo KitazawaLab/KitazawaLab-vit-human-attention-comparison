{
 "cells": [
  {
   "cell_type": "code",
   "execution_count": 1,
   "id": "6eb2e176-5f17-4c53-ad0f-73de46e8a625",
   "metadata": {},
   "outputs": [],
   "source": [
    "import numpy as np\n",
    "import matplotlib.pyplot as plt\n",
    "from tqdm.notebook import tqdm\n",
    "import pandas as pd\n",
    "import seaborn as sns\n",
    "from scipy import stats"
   ]
  },
  {
   "cell_type": "code",
   "execution_count": 2,
   "id": "ddd810ea-f05b-4287-9242-b8313a0e37b7",
   "metadata": {},
   "outputs": [],
   "source": [
    "preproceeed_data_path = \"../dataset/Nakano_etal_2010/preprocessed_data\"\n",
    "df = pd.read_csv(f\"{preproceeed_data_path}/eyeclip_annotation.csv\")\n",
    "obj_pos_upsample = np.load(f\"{preproceeed_data_path}/obj_pos_upsample.npz\")[\"data\"]\n",
    "num_clip = df[\"clip_index\"].max()\n",
    "object_labels = [\"obj\", \"eye\", \"mouth\", \"nose\", \"ear\", \"face\", \"hand\"]\n",
    "num_obj_type = len(object_labels)"
   ]
  },
  {
   "cell_type": "markdown",
   "id": "405ae16f-1e34-4fe9-839d-b10bb5c7ac39",
   "metadata": {},
   "source": [
    "### Subj"
   ]
  },
  {
   "cell_type": "code",
   "execution_count": 3,
   "id": "a68b51a4-4993-4513-97ab-66653b0c53ec",
   "metadata": {},
   "outputs": [],
   "source": [
    "gaze_weight_subj = np.load(f\"{preproceeed_data_path}/gaze_weight_goodsubj.npz\", allow_pickle=True)\n",
    "gaze_weight_goodsubj = gaze_weight_subj['gaze_weight_goodsubj']\n",
    "gr_goodsubj = gaze_weight_subj['gr_goodsubj']\n",
    "group_name = gaze_weight_subj['group_name']\n",
    "num_goodsubj = len(gr_goodsubj)\n",
    "gr_indices = [0, 1, 4, 3]"
   ]
  },
  {
   "cell_type": "code",
   "execution_count": 4,
   "id": "867ef825-5da3-4500-ab7c-79a1bd052466",
   "metadata": {},
   "outputs": [
    {
     "data": {
      "application/vnd.jupyter.widget-view+json": {
       "model_id": "30086edde9cd4222a356bf7d3fb8661c",
       "version_major": 2,
       "version_minor": 0
      },
      "text/plain": [
       "  0%|          | 0/12 [00:00<?, ?it/s]"
      ]
     },
     "metadata": {},
     "output_type": "display_data"
    }
   ],
   "source": [
    "gazew_parts_goodsubj = np.zeros((num_goodsubj, num_clip, num_obj_type))\n",
    "for clip_idx in tqdm(range(num_clip)):\n",
    "    df_clip = df[df[\"clip_index\"] == (clip_idx+1)].reset_index()\n",
    "    sidx = df_clip[\"start_resampled_index\"].unique()[0]\n",
    "    eidx = df_clip[\"end_resampled_index\"].unique()[0]\n",
    "\n",
    "    for i, obj_l in enumerate(object_labels):\n",
    "        obj_indices = df_clip[df_clip[obj_l] > 0].index\n",
    "        if len(obj_indices) > 0:\n",
    "            for obj_idx in obj_indices:\n",
    "                obj_exist = np.sum(~np.isnan(obj_pos_upsample[:, obj_idx, sidx:eidx]), axis=0) > 1\n",
    "                obj_exist_sum = np.sum(obj_exist)\n",
    "                if obj_exist_sum > 0:\n",
    "                    for subj_idx in range(num_goodsubj):\n",
    "                        gazew_clip_obj_subj = gaze_weight_goodsubj[subj_idx, sidx:eidx, obj_idx]\n",
    "                        gazew_parts_goodsubj[subj_idx, clip_idx, i] += np.sum(gazew_clip_obj_subj[obj_exist]) / obj_exist_sum * 100\n",
    "        else:\n",
    "            gazew_parts_goodsubj[:, clip_idx, i] = np.nan"
   ]
  },
  {
   "cell_type": "code",
   "execution_count": 5,
   "id": "3119b4e3-9fd3-4606-962d-75468dd681b1",
   "metadata": {},
   "outputs": [],
   "source": [
    "gazew_parts_goodsubj_dict = {}\n",
    "gazew_parts_goodsubj_dict[\"gazew_parts\"] = {}\n",
    "for gr_idx in gr_indices:\n",
    "    gazew_parts_goodsubj_dict[\"gazew_parts\"][group_name[gr_idx]] = gazew_parts_goodsubj[gr_goodsubj == gr_idx]\n",
    "gazew_parts_goodsubj_dict[\"gr_keys\"] = [group_name[gr_idx] for gr_idx in gr_indices]\n",
    "gazew_parts_goodsubj_dict[\"object_labels\"] = object_labels"
   ]
  },
  {
   "cell_type": "code",
   "execution_count": 6,
   "id": "baa7e5ff-0a6b-4853-9596-addd7ce14a64",
   "metadata": {},
   "outputs": [],
   "source": [
    "np.savez_compressed(\"../results/gazew_parts_goodsubj_N2010.npz\", **gazew_parts_goodsubj_dict)"
   ]
  },
  {
   "cell_type": "markdown",
   "id": "6593f1e0-2ef8-438b-b527-987bb04c7341",
   "metadata": {},
   "source": [
    "### ViT"
   ]
  },
  {
   "cell_type": "code",
   "execution_count": 7,
   "id": "a3092084-fb42-4628-99e4-a49c45eca5ef",
   "metadata": {},
   "outputs": [],
   "source": [
    "gaze_weight_vit = np.load(f\"{preproceeed_data_path}/gaze_weight_vit.npz\", allow_pickle=True)"
   ]
  },
  {
   "cell_type": "code",
   "execution_count": 8,
   "id": "d09a6b9f-8e75-46cd-9e04-a31d1429cf7f",
   "metadata": {},
   "outputs": [
    {
     "data": {
      "text/plain": [
       "['dino', 'supervised', 'dino_deit_small16', 'supervised_deit_small16']"
      ]
     },
     "execution_count": 8,
     "metadata": {},
     "output_type": "execute_result"
    }
   ],
   "source": [
    "gaze_weight_vit.files"
   ]
  },
  {
   "cell_type": "code",
   "execution_count": 9,
   "id": "ae2d7e6a-620b-400d-b5b2-3a8440c67eb7",
   "metadata": {},
   "outputs": [],
   "source": [
    "training_methods = [\"dino\", \"supervised\"] \n",
    "depth_list = [4, 8, 12]\n",
    "num_models, _, _, num_sampling, _ = gaze_weight_vit[\"dino\"].item()[\"4\"].shape\n",
    "num_heads = 6"
   ]
  },
  {
   "cell_type": "code",
   "execution_count": 10,
   "id": "55549238-9023-4e6f-99fe-af86a1b0c41e",
   "metadata": {},
   "outputs": [
    {
     "data": {
      "application/vnd.jupyter.widget-view+json": {
       "model_id": "44356518dbed4165a456f3d0936496e6",
       "version_major": 2,
       "version_minor": 0
      },
      "text/plain": [
       "  0%|          | 0/12 [00:00<?, ?it/s]"
      ]
     },
     "metadata": {},
     "output_type": "display_data"
    },
    {
     "data": {
      "application/vnd.jupyter.widget-view+json": {
       "model_id": "49581264a25e438d9c211c6644acf2b1",
       "version_major": 2,
       "version_minor": 0
      },
      "text/plain": [
       "  0%|          | 0/12 [00:00<?, ?it/s]"
      ]
     },
     "metadata": {},
     "output_type": "display_data"
    },
    {
     "data": {
      "application/vnd.jupyter.widget-view+json": {
       "model_id": "67d2310607b14f5babf469424a7dbd02",
       "version_major": 2,
       "version_minor": 0
      },
      "text/plain": [
       "  0%|          | 0/12 [00:00<?, ?it/s]"
      ]
     },
     "metadata": {},
     "output_type": "display_data"
    },
    {
     "data": {
      "application/vnd.jupyter.widget-view+json": {
       "model_id": "4fc260daa90244658121e00f2957d150",
       "version_major": 2,
       "version_minor": 0
      },
      "text/plain": [
       "  0%|          | 0/12 [00:00<?, ?it/s]"
      ]
     },
     "metadata": {},
     "output_type": "display_data"
    },
    {
     "data": {
      "application/vnd.jupyter.widget-view+json": {
       "model_id": "79d4c2ae3e824562a36903a722a795bb",
       "version_major": 2,
       "version_minor": 0
      },
      "text/plain": [
       "  0%|          | 0/12 [00:00<?, ?it/s]"
      ]
     },
     "metadata": {},
     "output_type": "display_data"
    },
    {
     "data": {
      "application/vnd.jupyter.widget-view+json": {
       "model_id": "279822e5392d4f3fa747737ca6becaa4",
       "version_major": 2,
       "version_minor": 0
      },
      "text/plain": [
       "  0%|          | 0/12 [00:00<?, ?it/s]"
      ]
     },
     "metadata": {},
     "output_type": "display_data"
    }
   ],
   "source": [
    "gazew_parts_vit_dict = {}\n",
    "gazew_parts_vit_dict[\"gazew_parts\"] = {}\n",
    "for tm in training_methods:\n",
    "    gazew_parts_vit_dict[\"gazew_parts\"][tm] = {}\n",
    "    for depth in depth_list:\n",
    "        gazew_parts_vit_depth = np.zeros((num_models, depth, num_heads, num_clip, num_obj_type))\n",
    "        gaze_weight_vit_depth = gaze_weight_vit[tm].item()[str(depth)]\n",
    "        for clip_idx in tqdm(range(num_clip)):\n",
    "            df_clip = df[df[\"clip_index\"] == (clip_idx+1)].reset_index()\n",
    "            sidx = df_clip[\"start_resampled_index\"].unique()[0]\n",
    "            eidx = df_clip[\"end_resampled_index\"].unique()[0]\n",
    "        \n",
    "            for i, obj_l in enumerate(object_labels):\n",
    "                obj_indices = df_clip[df_clip[obj_l] > 0].index\n",
    "                if len(obj_indices) > 0:\n",
    "                    for obj_idx in obj_indices:\n",
    "                        obj_exist = np.sum(~np.isnan(obj_pos_upsample[:, obj_idx, sidx:eidx]), axis=0) > 1\n",
    "                        obj_exist_sum = np.sum(obj_exist)\n",
    "                        if obj_exist_sum > 0:\n",
    "                            for m_idx in range(num_models):\n",
    "                                for d_idx in range(depth):\n",
    "                                    for h_idx in range(num_heads):\n",
    "                                        gazew_obj_head = gaze_weight_vit_depth[m_idx, d_idx, h_idx, sidx:eidx, obj_idx]\n",
    "                                        gazew_parts_vit_depth[m_idx, d_idx, h_idx, clip_idx, i] += np.sum(gazew_obj_head[obj_exist]) / obj_exist_sum * 100\n",
    "                else:\n",
    "                    gazew_parts_vit_depth[:, :, :, clip_idx, i] = np.nan\n",
    "        gazew_parts_vit_dict[\"gazew_parts\"][tm][str(depth)] = gazew_parts_vit_depth"
   ]
  },
  {
   "cell_type": "code",
   "execution_count": 11,
   "id": "46fbc055-4659-4565-be5b-041b04c0893d",
   "metadata": {},
   "outputs": [
    {
     "data": {
      "application/vnd.jupyter.widget-view+json": {
       "model_id": "37afb5dabbf94980ad7b33b1df4409fd",
       "version_major": 2,
       "version_minor": 0
      },
      "text/plain": [
       "  0%|          | 0/12 [00:00<?, ?it/s]"
      ]
     },
     "metadata": {},
     "output_type": "display_data"
    },
    {
     "data": {
      "application/vnd.jupyter.widget-view+json": {
       "model_id": "2a4422165d7e4c36aedb9b5740c3d7a4",
       "version_major": 2,
       "version_minor": 0
      },
      "text/plain": [
       "  0%|          | 0/12 [00:00<?, ?it/s]"
      ]
     },
     "metadata": {},
     "output_type": "display_data"
    }
   ],
   "source": [
    "for tm in training_methods:\n",
    "    gazew_parts_vit_key = np.zeros((depth, num_heads, num_clip, num_obj_type))\n",
    "    gaze_weight_vit_key = gaze_weight_vit[f'{tm}_deit_small16']\n",
    "    depth, _, _, _ = gaze_weight_vit_key.shape\n",
    "    for clip_idx in tqdm(range(num_clip)):\n",
    "        df_clip = df[df[\"clip_index\"] == (clip_idx+1)].reset_index()\n",
    "        sidx = df_clip[\"start_resampled_index\"].unique()[0]\n",
    "        eidx = df_clip[\"end_resampled_index\"].unique()[0]\n",
    "    \n",
    "        for i, obj_l in enumerate(object_labels):\n",
    "            obj_indices = df_clip[df_clip[obj_l] > 0].index\n",
    "            if len(obj_indices) > 0:\n",
    "                for obj_idx in obj_indices:\n",
    "                    obj_exist = np.sum(~np.isnan(obj_pos_upsample[:, obj_idx, sidx:eidx]), axis=0) > 1\n",
    "                    obj_exist_sum = np.sum(obj_exist)\n",
    "                    if obj_exist_sum > 0:\n",
    "                        for d_idx in range(depth):\n",
    "                            for h_idx in range(num_heads):\n",
    "                                gazew_obj_head = gaze_weight_vit_key[d_idx, h_idx, sidx:eidx, obj_idx]\n",
    "                                gazew_parts_vit_key[d_idx, h_idx, clip_idx, i] += np.sum(gazew_obj_head[obj_exist]) / obj_exist_sum * 100\n",
    "            else:\n",
    "                gazew_parts_vit_key[:, :, clip_idx, i] = np.nan\n",
    "    gazew_parts_vit_dict[\"gazew_parts\"][f'{tm}_deit_small16'] = gazew_parts_vit_key"
   ]
  },
  {
   "cell_type": "code",
   "execution_count": 12,
   "id": "693ddb1f-7199-4474-90ff-a458a3d074e3",
   "metadata": {},
   "outputs": [
    {
     "data": {
      "text/plain": [
       "(241,)"
      ]
     },
     "execution_count": 12,
     "metadata": {},
     "output_type": "execute_result"
    }
   ],
   "source": [
    "gazew_obj_head.shape"
   ]
  },
  {
   "cell_type": "code",
   "execution_count": 13,
   "id": "2b29d36f-0cbe-43c4-a630-bc27c91881de",
   "metadata": {},
   "outputs": [],
   "source": [
    "gazew_parts_vit_dict[\"object_labels\"] = object_labels"
   ]
  },
  {
   "cell_type": "code",
   "execution_count": 14,
   "id": "cd87e19a-1459-4724-a423-d0d898a1c30b",
   "metadata": {},
   "outputs": [],
   "source": [
    "np.savez_compressed(\"../results/gazew_parts_vit_N2010.npz\", **gazew_parts_vit_dict)"
   ]
  },
  {
   "cell_type": "markdown",
   "id": "5d1ecb86-1875-4ddb-a82e-f90f997e901d",
   "metadata": {},
   "source": [
    "### GBVS"
   ]
  },
  {
   "cell_type": "code",
   "execution_count": 15,
   "id": "6a6bc631-55d1-4c83-a4fd-a5c4dfeffedf",
   "metadata": {},
   "outputs": [],
   "source": [
    "gaze_weight_gbvs_data = np.load(f\"{preproceeed_data_path}/gaze_weight_gbvs.npz\", allow_pickle=True)\n",
    "gaze_weight_gbvs = gaze_weight_gbvs_data['all_data']\n",
    "gbvs_labels = gaze_weight_gbvs_data[\"labels\"]\n",
    "num_gbvs = len(gbvs_labels)"
   ]
  },
  {
   "cell_type": "code",
   "execution_count": 16,
   "id": "afa547ea-b6b1-467c-84e4-6bdb44e4e8ff",
   "metadata": {},
   "outputs": [
    {
     "data": {
      "application/vnd.jupyter.widget-view+json": {
       "model_id": "7a84c0314e9f424bb1c8cbdace78e386",
       "version_major": 2,
       "version_minor": 0
      },
      "text/plain": [
       "  0%|          | 0/12 [00:00<?, ?it/s]"
      ]
     },
     "metadata": {},
     "output_type": "display_data"
    }
   ],
   "source": [
    "gazew_parts_gbvs_dict = {}\n",
    "gazew_parts_gbvs = np.zeros((num_gbvs, num_clip, num_obj_type))\n",
    "for clip_idx in tqdm(range(num_clip)):\n",
    "    df_clip = df[df[\"clip_index\"] == (clip_idx+1)].reset_index()\n",
    "    sidx = df_clip[\"start_resampled_index\"].unique()[0]\n",
    "    eidx = df_clip[\"end_resampled_index\"].unique()[0]\n",
    "\n",
    "    for i, obj_l in enumerate(object_labels):\n",
    "        obj_indices = df_clip[df_clip[obj_l] > 0].index\n",
    "        if len(obj_indices) > 0:\n",
    "            for obj_idx in obj_indices:\n",
    "                obj_exist = np.sum(~np.isnan(obj_pos_upsample[:, obj_idx, sidx:eidx]), axis=0) > 1\n",
    "                obj_exist_sum = np.sum(obj_exist)\n",
    "                if obj_exist_sum > 0:\n",
    "                    for key_idx in range(num_gbvs):\n",
    "                        gazew_obj_head = gaze_weight_gbvs[key_idx, sidx:eidx, obj_idx]\n",
    "                        gazew_parts_gbvs[key_idx, clip_idx, i] += np.sum(gazew_obj_head[obj_exist]) / obj_exist_sum * 100\n",
    "        else:\n",
    "            gazew_parts_gbvs[:, clip_idx, i] = np.nan\n",
    "gazew_parts_gbvs_dict[\"gazew_parts\"] = gazew_parts_gbvs\n",
    "gazew_parts_gbvs_dict[\"gbvs_labels\"] = gbvs_labels\n",
    "gazew_parts_gbvs_dict[\"object_labels\"] = object_labels"
   ]
  },
  {
   "cell_type": "code",
   "execution_count": 17,
   "id": "ffc4af7b-d9b3-489e-88a8-ca09ab46a246",
   "metadata": {},
   "outputs": [],
   "source": [
    "np.savez_compressed(\"../results/gazew_parts_gbvs_N2010.npz\", **gazew_parts_gbvs_dict)"
   ]
  }
 ],
 "metadata": {
  "kernelspec": {
   "display_name": "Python 3 (ipykernel)",
   "language": "python",
   "name": "python3"
  },
  "language_info": {
   "codemirror_mode": {
    "name": "ipython",
    "version": 3
   },
   "file_extension": ".py",
   "mimetype": "text/x-python",
   "name": "python",
   "nbconvert_exporter": "python",
   "pygments_lexer": "ipython3",
   "version": "3.10.11"
  }
 },
 "nbformat": 4,
 "nbformat_minor": 5
}
