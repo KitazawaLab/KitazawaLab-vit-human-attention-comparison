{
 "cells": [
  {
   "cell_type": "code",
   "execution_count": 1,
   "id": "a00745c1-b35d-4bae-bc36-ac5d9ba761dc",
   "metadata": {},
   "outputs": [],
   "source": [
    "import os\n",
    "os.environ[\"CUDA_VISIBLE_DEVICES\"]=\"0\"\n",
    "\n",
    "from tqdm.notebook import tqdm\n",
    "import glob\n",
    "import numpy as np\n",
    "from utils_analysis import *\n",
    "from PIL import Image\n",
    "#import matplotlib.pyplot as plt\n",
    "\n",
    "import torch\n",
    "from torch.utils.data import DataLoader"
   ]
  },
  {
   "cell_type": "code",
   "execution_count": 2,
   "id": "38a6163d-f0a9-4c41-98be-91aadcc23832",
   "metadata": {},
   "outputs": [],
   "source": [
    "dataset_dir = \"../dataset/animal_parts_dataset/preprocessed_data/resized_images_val\"\n",
    "#dataset_dir = \"../dataset/animal_parts_dataset/preprocessed_data/resized_images\"\n",
    "training_methods = [\"dino\"]#, \"supervised\"] \n",
    "depth_list = [8, 12]\n",
    "num_models = 6\n",
    "num_heads = 6\n",
    "patch_size = 16\n",
    "blur_size = patch_size * 2\n",
    "batch_size = 32\n",
    "\n",
    "transform = pth_transforms.Compose([\n",
    "    pth_transforms.ToTensor(),\n",
    "    pth_transforms.Normalize((0.485, 0.456, 0.406), (0.229, 0.224, 0.225))])"
   ]
  },
  {
   "cell_type": "code",
   "execution_count": 3,
   "id": "881f7f31-d90f-4ddb-903b-0fd6bec57ab0",
   "metadata": {},
   "outputs": [],
   "source": [
    "save_dir = \"../dataset/animal_parts_dataset/preprocessed_data/\""
   ]
  },
  {
   "cell_type": "code",
   "execution_count": 4,
   "id": "520da913-4b1a-4168-b43c-4d01a701d726",
   "metadata": {},
   "outputs": [],
   "source": [
    "image_path_list = sorted(glob.glob(f\"{dataset_dir}/*.png\"))\n",
    "dataset = ImageDataset(image_path_list, transform)\n",
    "dataloader = DataLoader(dataset=dataset, batch_size=batch_size, shuffle=False)"
   ]
  },
  {
   "cell_type": "code",
   "execution_count": 5,
   "id": "4f8c5ac2-6c32-4aaa-894f-f60ea16e85bf",
   "metadata": {},
   "outputs": [],
   "source": [
    "num_images = len(image_path_list)"
   ]
  },
  {
   "cell_type": "code",
   "execution_count": 6,
   "id": "072b8e2c-6b28-485f-851c-c728d2ebfaa9",
   "metadata": {},
   "outputs": [
    {
     "data": {
      "text/plain": [
       "1067"
      ]
     },
     "execution_count": 6,
     "metadata": {},
     "output_type": "execute_result"
    }
   ],
   "source": [
    "num_images"
   ]
  },
  {
   "cell_type": "code",
   "execution_count": 7,
   "id": "ea2fc9e1-9bea-4037-a9c2-058c5b6fb368",
   "metadata": {
    "scrolled": true
   },
   "outputs": [
    {
     "name": "stdout",
     "output_type": "stream",
     "text": [
      "dino 8\n"
     ]
    },
    {
     "data": {
      "application/vnd.jupyter.widget-view+json": {
       "model_id": "6fecd375098e4a54b6f900569d3e921b",
       "version_major": 2,
       "version_minor": 0
      },
      "text/plain": [
       "  0%|          | 0/6 [00:00<?, ?it/s]"
      ]
     },
     "metadata": {},
     "output_type": "display_data"
    },
    {
     "data": {
      "application/vnd.jupyter.widget-view+json": {
       "model_id": "12ba365e1b3342eeb38390d9cf78dcdf",
       "version_major": 2,
       "version_minor": 0
      },
      "text/plain": [
       "  0%|          | 0/34 [00:00<?, ?it/s]"
      ]
     },
     "metadata": {},
     "output_type": "display_data"
    },
    {
     "data": {
      "application/vnd.jupyter.widget-view+json": {
       "model_id": "ae2a5d8c894d4486890c7ed06ff2fbe0",
       "version_major": 2,
       "version_minor": 0
      },
      "text/plain": [
       "  0%|          | 0/34 [00:00<?, ?it/s]"
      ]
     },
     "metadata": {},
     "output_type": "display_data"
    },
    {
     "data": {
      "application/vnd.jupyter.widget-view+json": {
       "model_id": "edc14f524f45470ca4fdc1d1157f8465",
       "version_major": 2,
       "version_minor": 0
      },
      "text/plain": [
       "  0%|          | 0/34 [00:00<?, ?it/s]"
      ]
     },
     "metadata": {},
     "output_type": "display_data"
    },
    {
     "data": {
      "application/vnd.jupyter.widget-view+json": {
       "model_id": "71a3118216ce496f95cc8491a4e7af05",
       "version_major": 2,
       "version_minor": 0
      },
      "text/plain": [
       "  0%|          | 0/34 [00:00<?, ?it/s]"
      ]
     },
     "metadata": {},
     "output_type": "display_data"
    },
    {
     "data": {
      "application/vnd.jupyter.widget-view+json": {
       "model_id": "021d24efa2a04cd9ac9060f646aacdf6",
       "version_major": 2,
       "version_minor": 0
      },
      "text/plain": [
       "  0%|          | 0/34 [00:00<?, ?it/s]"
      ]
     },
     "metadata": {},
     "output_type": "display_data"
    },
    {
     "data": {
      "application/vnd.jupyter.widget-view+json": {
       "model_id": "5f704008ed5b448f8de766e357ccde42",
       "version_major": 2,
       "version_minor": 0
      },
      "text/plain": [
       "  0%|          | 0/34 [00:00<?, ?it/s]"
      ]
     },
     "metadata": {},
     "output_type": "display_data"
    },
    {
     "name": "stdout",
     "output_type": "stream",
     "text": [
      "dino 12\n"
     ]
    },
    {
     "data": {
      "application/vnd.jupyter.widget-view+json": {
       "model_id": "9682b064f74647bf94475f39b53ea15b",
       "version_major": 2,
       "version_minor": 0
      },
      "text/plain": [
       "  0%|          | 0/6 [00:00<?, ?it/s]"
      ]
     },
     "metadata": {},
     "output_type": "display_data"
    },
    {
     "data": {
      "application/vnd.jupyter.widget-view+json": {
       "model_id": "5b5011b8066e4780a2396579a98c80c3",
       "version_major": 2,
       "version_minor": 0
      },
      "text/plain": [
       "  0%|          | 0/34 [00:00<?, ?it/s]"
      ]
     },
     "metadata": {},
     "output_type": "display_data"
    },
    {
     "data": {
      "application/vnd.jupyter.widget-view+json": {
       "model_id": "3eae3d96a52b4271920c1f25ebfe6772",
       "version_major": 2,
       "version_minor": 0
      },
      "text/plain": [
       "  0%|          | 0/34 [00:00<?, ?it/s]"
      ]
     },
     "metadata": {},
     "output_type": "display_data"
    },
    {
     "data": {
      "application/vnd.jupyter.widget-view+json": {
       "model_id": "1374e95e706c404dafa19138cbcf12df",
       "version_major": 2,
       "version_minor": 0
      },
      "text/plain": [
       "  0%|          | 0/34 [00:00<?, ?it/s]"
      ]
     },
     "metadata": {},
     "output_type": "display_data"
    },
    {
     "data": {
      "application/vnd.jupyter.widget-view+json": {
       "model_id": "e9a71226dae349eba7553b1d01dc229b",
       "version_major": 2,
       "version_minor": 0
      },
      "text/plain": [
       "  0%|          | 0/34 [00:00<?, ?it/s]"
      ]
     },
     "metadata": {},
     "output_type": "display_data"
    },
    {
     "data": {
      "application/vnd.jupyter.widget-view+json": {
       "model_id": "c10235c70b424aee9ddcc88c01246a83",
       "version_major": 2,
       "version_minor": 0
      },
      "text/plain": [
       "  0%|          | 0/34 [00:00<?, ?it/s]"
      ]
     },
     "metadata": {},
     "output_type": "display_data"
    },
    {
     "data": {
      "application/vnd.jupyter.widget-view+json": {
       "model_id": "c194334658bf4057aa3d106f19a69b99",
       "version_major": 2,
       "version_minor": 0
      },
      "text/plain": [
       "  0%|          | 0/34 [00:00<?, ?it/s]"
      ]
     },
     "metadata": {},
     "output_type": "display_data"
    }
   ],
   "source": [
    "res_dict = {}\n",
    "res_dict[\"info\"] = [\"num_models\", \"depth\", \"num_head+mean\", \"num_images\", \"xy\"]\n",
    "for tm in training_methods:\n",
    "    res_dict[tm] = {}\n",
    "    for depth in depth_list:\n",
    "        print(tm, depth)\n",
    "        gaze_pos_model_all = np.zeros((num_models, depth, num_heads+1, num_images, 2))\n",
    "        for trial_idx in tqdm(range(num_models)):\n",
    "            model, device = model_load(tm, trial_idx+1, depth, patch_size)\n",
    "            gaze_pos_model_all[trial_idx] = get_gaze_pos_model_dataset(model, device, dataloader, patch_size, blur_size)\n",
    "            del model\n",
    "            torch.cuda.empty_cache()\n",
    "        res_dict[tm][str(depth)] = gaze_pos_model_all\n",
    "np.savez_compressed(f\"{save_dir}/vit_gaze_pos_val.npz\", **res_dict)"
   ]
  }
 ],
 "metadata": {
  "kernelspec": {
   "display_name": "Python 3 (ipykernel)",
   "language": "python",
   "name": "python3"
  },
  "language_info": {
   "codemirror_mode": {
    "name": "ipython",
    "version": 3
   },
   "file_extension": ".py",
   "mimetype": "text/x-python",
   "name": "python",
   "nbconvert_exporter": "python",
   "pygments_lexer": "ipython3",
   "version": "3.10.11"
  }
 },
 "nbformat": 4,
 "nbformat_minor": 5
}
