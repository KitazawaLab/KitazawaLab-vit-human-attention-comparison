{
 "cells": [
  {
   "cell_type": "code",
   "execution_count": 1,
   "id": "83edb98f",
   "metadata": {},
   "outputs": [],
   "source": [
    "import numpy as np\n",
    "import matplotlib.pyplot as plt\n",
    "from tqdm.notebook import tqdm\n",
    "from scipy.io import savemat, loadmat"
   ]
  },
  {
   "cell_type": "code",
   "execution_count": 2,
   "id": "f745cefc-3f61-4d4d-9775-8880c345ab82",
   "metadata": {},
   "outputs": [],
   "source": [
    "from utils_analysis import get_viewing_prop"
   ]
  },
  {
   "cell_type": "code",
   "execution_count": 3,
   "id": "3cf993aa-19a1-4fe3-9e25-b929d2a5fe65",
   "metadata": {},
   "outputs": [],
   "source": [
    "obj_pos_upsample = np.load(\"../dataset/Nakano_etal_2010/preprocessed_data/obj_pos_upsample.npz\")[\"data\"]\n",
    "goodsubj_gaze_pos = np.load(\"../dataset/Nakano_etal_2010/preprocessed_data/goodsubj_gaze_pos.npz\", allow_pickle=True)"
   ]
  },
  {
   "cell_type": "code",
   "execution_count": 4,
   "id": "9641901d-9b66-4e1d-bfdb-dd9108d4aca2",
   "metadata": {},
   "outputs": [],
   "source": [
    "gaze_data_goodsubj = goodsubj_gaze_pos['gaze_data_goodsubj']\n",
    "gr_goodsubj = goodsubj_gaze_pos['gr_goodsubj']\n",
    "group_name = goodsubj_gaze_pos['group_name']"
   ]
  },
  {
   "cell_type": "code",
   "execution_count": 6,
   "id": "21ad644b-857e-4841-9746-362f60977657",
   "metadata": {},
   "outputs": [
    {
     "data": {
      "text/plain": [
       "(array([0, 1, 3, 4], dtype=uint8), array([27, 25, 25, 27]))"
      ]
     },
     "execution_count": 6,
     "metadata": {},
     "output_type": "execute_result"
    }
   ],
   "source": [
    "np.unique(gr_goodsubj, return_counts=True)"
   ]
  },
  {
   "cell_type": "code",
   "execution_count": 9,
   "id": "ef0663b7-98fa-4931-8a1e-069da3c793d4",
   "metadata": {},
   "outputs": [
    {
     "data": {
      "text/plain": [
       "array(['adult control', 'child control', 'child autistic',\n",
       "       'adult autistic'], dtype=object)"
      ]
     },
     "execution_count": 9,
     "metadata": {},
     "output_type": "execute_result"
    }
   ],
   "source": [
    "group_name[[0, 1, 3, 4]]"
   ]
  },
  {
   "cell_type": "code",
   "execution_count": 5,
   "id": "eb1e7fa0-e61d-43b2-948e-9c96f044afac",
   "metadata": {},
   "outputs": [
    {
     "data": {
      "text/plain": [
       "(104, 3883, 2)"
      ]
     },
     "execution_count": 5,
     "metadata": {},
     "output_type": "execute_result"
    }
   ],
   "source": [
    "gaze_data_goodsubj.shape"
   ]
  },
  {
   "cell_type": "code",
   "execution_count": 6,
   "id": "a354ba1a-9a76-4570-bf7e-938c6d7c36c3",
   "metadata": {},
   "outputs": [],
   "source": [
    "num_goodsubj, num_sampling, _ = gaze_data_goodsubj.shape\n",
    "num_obj = obj_pos_upsample.shape[1]"
   ]
  },
  {
   "cell_type": "code",
   "execution_count": 7,
   "id": "84697f27-41a2-4245-b6d5-c28f498bebc1",
   "metadata": {
    "scrolled": true
   },
   "outputs": [
    {
     "data": {
      "application/vnd.jupyter.widget-view+json": {
       "model_id": "15b239e819584b4b8ee7586892116a27",
       "version_major": 2,
       "version_minor": 0
      },
      "text/plain": [
       "  0%|          | 0/104 [00:00<?, ?it/s]"
      ]
     },
     "metadata": {},
     "output_type": "display_data"
    }
   ],
   "source": [
    "gaze_weight_goodsubj = np.zeros((num_goodsubj, num_sampling, num_obj))\n",
    "for i in tqdm(range(num_goodsubj)):\n",
    "    gaze_weight_goodsubj[i] = get_viewing_prop(gaze_data_goodsubj[i], \n",
    "                                               obj_pos_upsample[0], obj_pos_upsample[1])"
   ]
  },
  {
   "cell_type": "code",
   "execution_count": 8,
   "id": "1d8a4522-8a45-4d65-8627-3260aa67c165",
   "metadata": {},
   "outputs": [],
   "source": [
    "gaze_weight_dict = {}\n",
    "gaze_weight_dict[\"gaze_weight_goodsubj\"] = gaze_weight_goodsubj\n",
    "gaze_weight_dict[\"gr_goodsubj\"] = goodsubj_gaze_pos['gr_goodsubj']\n",
    "gaze_weight_dict[\"group_name\"] = goodsubj_gaze_pos['group_name']\n",
    "np.savez_compressed(f\"../dataset/Nakano_etal_2010/preprocessed_data/gaze_weight_goodsubj.npz\", \n",
    "                    **gaze_weight_dict)"
   ]
  }
 ],
 "metadata": {
  "kernelspec": {
   "display_name": "Python 3 (ipykernel)",
   "language": "python",
   "name": "python3"
  },
  "language_info": {
   "codemirror_mode": {
    "name": "ipython",
    "version": 3
   },
   "file_extension": ".py",
   "mimetype": "text/x-python",
   "name": "python",
   "nbconvert_exporter": "python",
   "pygments_lexer": "ipython3",
   "version": "3.10.11"
  }
 },
 "nbformat": 4,
 "nbformat_minor": 5
}
