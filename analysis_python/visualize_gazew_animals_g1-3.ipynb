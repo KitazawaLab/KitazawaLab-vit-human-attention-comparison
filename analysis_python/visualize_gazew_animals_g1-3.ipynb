{
 "cells": [
  {
   "cell_type": "code",
   "execution_count": 1,
   "id": "21e5d405-541b-4950-990d-a2d17e260874",
   "metadata": {},
   "outputs": [],
   "source": [
    "import numpy as np\n",
    "import os\n",
    "import glob\n",
    "import seaborn as sns\n",
    "import matplotlib.pyplot as plt\n",
    "from tqdm.notebook import tqdm\n",
    "from scipy.stats import spearmanr"
   ]
  },
  {
   "cell_type": "code",
   "execution_count": 2,
   "id": "c73416bd-4b51-4a5a-ac4b-efe62a79a588",
   "metadata": {},
   "outputs": [],
   "source": [
    "plt.rcParams[\"font.family\"] = \"Arial\" \n",
    "plt.rcParams['axes.spines.right'] = False\n",
    "plt.rcParams['axes.spines.top'] = False\n",
    "plt.rcParams['axes.axisbelow'] = True\n",
    "plt.rcParams[\"svg.fonttype\"] = \"none\""
   ]
  },
  {
   "cell_type": "code",
   "execution_count": 3,
   "id": "3c5f1b36-c76b-418f-89e8-6d6fe8bdee2b",
   "metadata": {},
   "outputs": [],
   "source": [
    "gazew_dict = np.load(\"../results/gazew_animals_val.npz\", allow_pickle=True)"
   ]
  },
  {
   "cell_type": "code",
   "execution_count": 4,
   "id": "2698a01f-0d59-4049-bdf4-e9e857359d01",
   "metadata": {},
   "outputs": [],
   "source": [
    "labels = np.load(\"../results/attn_best_label_N2010.npy\")"
   ]
  },
  {
   "cell_type": "code",
   "execution_count": 5,
   "id": "e26f5cee-69d9-44e0-97a2-a865c980876f",
   "metadata": {},
   "outputs": [],
   "source": [
    "training_methods = [\"dino\", \"supervised\"] \n",
    "depth_list = [8, 12]\n",
    "num_models = 6\n",
    "num_heads = 6"
   ]
  },
  {
   "cell_type": "code",
   "execution_count": 6,
   "id": "a8a1f1fd-5891-44b1-801c-d105de06ad59",
   "metadata": {},
   "outputs": [],
   "source": [
    "tm = training_methods[0]\n",
    "d_label = np.array([[7,8],[9,10]]) - 1"
   ]
  },
  {
   "cell_type": "code",
   "execution_count": 7,
   "id": "b00ee8cd-8847-4712-adc7-eaedbb891e6d",
   "metadata": {},
   "outputs": [],
   "source": [
    "animal_gazew_dict = {}\n",
    "for label in [\"eye\", \"mouth\"]:\n",
    "    gazew_concat = []\n",
    "    for i, depth in enumerate(depth_list):\n",
    "        gazew = gazew_dict[tm].item()[str(depth)][label]\n",
    "        for j in range(2):\n",
    "            gazew_concat.append(np.mean(gazew[:, d_label[i,j]], axis=-1).flatten())\n",
    "    animal_gazew_dict[label] = np.hstack(gazew_concat) * 100"
   ]
  },
  {
   "cell_type": "code",
   "execution_count": 8,
   "id": "99617527-36bc-448b-8e45-acdc4fdad845",
   "metadata": {},
   "outputs": [],
   "source": [
    "labels_ = 1*(labels == 1) + 2*(labels == 3) + 3*(labels == 2)"
   ]
  },
  {
   "cell_type": "code",
   "execution_count": 9,
   "id": "687dcbae-f73a-428e-abc9-5b3a928586d0",
   "metadata": {},
   "outputs": [],
   "source": [
    "import pandas as pd"
   ]
  },
  {
   "cell_type": "code",
   "execution_count": 10,
   "id": "e1dd1d30-8f4d-4f99-ad7e-c5d829865306",
   "metadata": {},
   "outputs": [],
   "source": [
    "gazew_parts_vit_data = np.load(\"../results/gazew_parts_vit_N2010.npz\", allow_pickle=True)"
   ]
  },
  {
   "cell_type": "code",
   "execution_count": 11,
   "id": "7e2d9f4e-4e5a-4688-b9e7-c3005f8575c0",
   "metadata": {},
   "outputs": [
    {
     "data": {
      "text/plain": [
       "['gazew_parts', 'object_labels']"
      ]
     },
     "execution_count": 11,
     "metadata": {},
     "output_type": "execute_result"
    }
   ],
   "source": [
    "gazew_parts_vit_data.files"
   ]
  },
  {
   "cell_type": "code",
   "execution_count": 12,
   "id": "bcfbe0dc-4d00-4149-b800-a521cdf130af",
   "metadata": {},
   "outputs": [],
   "source": [
    "object_labels = gazew_parts_vit_data[\"object_labels\"]"
   ]
  },
  {
   "cell_type": "code",
   "execution_count": 13,
   "id": "d5c61d58-9946-4f76-ab11-e1f02220a158",
   "metadata": {},
   "outputs": [],
   "source": [
    "clip_indices = np.array([3,7,11]) - 1 "
   ]
  },
  {
   "cell_type": "code",
   "execution_count": 14,
   "id": "abe974d2-340d-48d7-853e-d5631ca25760",
   "metadata": {},
   "outputs": [
    {
     "name": "stderr",
     "output_type": "stream",
     "text": [
      "/tmp/ipykernel_40235/2748043383.py:9: RuntimeWarning: Mean of empty slice\n",
      "  gazew_parts_vit_depth_mean = np.nanmean(gazew_parts_vit_depth[:, :, :, clip_indices, obj_idx], axis=3)\n"
     ]
    }
   ],
   "source": [
    "gazew_parts_vit_means = {}\n",
    "for tm in training_methods:\n",
    "    gazew_parts_vit_means[tm] = {}\n",
    "    for depth in depth_list:\n",
    "        gazew_parts_vit_means[tm][str(depth)] = {}\n",
    "        gazew_parts_vit_depth = gazew_parts_vit_data['gazew_parts'].item()[tm][str(depth)]\n",
    "        for obj_idx, obj_label in enumerate(object_labels):\n",
    "            if obj_label == \"eye\" or \"mouth\" or \"face\":\n",
    "                gazew_parts_vit_depth_mean = np.nanmean(gazew_parts_vit_depth[:, :, :, clip_indices, obj_idx], axis=3)\n",
    "                gazew_parts_vit_means[tm][str(depth)][obj_label] = gazew_parts_vit_depth_mean#.transpose(1, 0, 2).reshape(depth, -1)"
   ]
  },
  {
   "cell_type": "code",
   "execution_count": 15,
   "id": "13cbd513-7f13-4bde-b6d8-1538b1a18be0",
   "metadata": {},
   "outputs": [],
   "source": [
    "\"\"\"\n",
    "head_GMM_label = np.load(\"../results/head_GMM_label.npz\", allow_pickle=True)\n",
    "layer_indices = head_GMM_label[\"layer_indices\"].astype(int)\n",
    "label_rank = head_GMM_label[\"label_rank\"].astype(int)\n",
    "head_label = head_GMM_label[\"head_label\"].astype(int)\n",
    "head_label_proba = head_GMM_label[\"head_label_proba\"]\n",
    "num_groups = len(np.unique(label_rank))\n",
    "\"\"\"\n",
    "head_label = np.load(\"../results/attn_best_label_N2010.npy\").astype(int).reshape(4, 6, 6)"
   ]
  },
  {
   "cell_type": "code",
   "execution_count": 16,
   "id": "68f5f371-4baf-4edf-b79b-37a2d7e8debc",
   "metadata": {},
   "outputs": [
    {
     "data": {
      "text/plain": [
       "'\\ngazew_parts_vit_bh_means = {}\\nfor obj_idx, obj_label in enumerate(object_labels):\\n    gazew_parts_vit_bh_means[obj_label] = []\\n\\ntm = training_methods[0]\\nfor i, depth in enumerate(depth_list):\\n    d_indices = layer_indices[layer_indices[:, 0] == depth][:,1]\\n    for obj_idx, obj_label in enumerate(object_labels):\\n        gazew_parts_obj = gazew_parts_vit_means[tm][str(depth)][obj_label]\\n        for m_idx in range(num_models):\\n            for j, d_idx in enumerate(d_indices):\\n                for h_idx in range(num_heads):\\n                    gazew_parts_vit_bh_means[obj_label].append(gazew_parts_obj[m_idx, d_idx, h_idx])\\n'"
      ]
     },
     "execution_count": 16,
     "metadata": {},
     "output_type": "execute_result"
    }
   ],
   "source": [
    "\"\"\"\n",
    "gazew_parts_vit_bh_means = {}\n",
    "for obj_idx, obj_label in enumerate(object_labels):\n",
    "    gazew_parts_vit_bh_means[obj_label] = []\n",
    "\n",
    "tm = training_methods[0]\n",
    "for i, depth in enumerate(depth_list):\n",
    "    d_indices = layer_indices[layer_indices[:, 0] == depth][:,1]\n",
    "    for obj_idx, obj_label in enumerate(object_labels):\n",
    "        gazew_parts_obj = gazew_parts_vit_means[tm][str(depth)][obj_label]\n",
    "        for m_idx in range(num_models):\n",
    "            for j, d_idx in enumerate(d_indices):\n",
    "                for h_idx in range(num_heads):\n",
    "                    gazew_parts_vit_bh_means[obj_label].append(gazew_parts_obj[m_idx, d_idx, h_idx])\n",
    "\"\"\""
   ]
  },
  {
   "cell_type": "code",
   "execution_count": 17,
   "id": "abd20f90-9f4c-44be-9135-8be436348fd8",
   "metadata": {},
   "outputs": [
    {
     "data": {
      "text/plain": [
       "array(['obj', 'eye', 'mouth', 'nose', 'ear', 'face', 'hand'], dtype='<U5')"
      ]
     },
     "execution_count": 17,
     "metadata": {},
     "output_type": "execute_result"
    }
   ],
   "source": [
    "object_labels"
   ]
  },
  {
   "cell_type": "code",
   "execution_count": 18,
   "id": "3d8ded6a-5a70-4b86-9373-9e902acb8cdd",
   "metadata": {},
   "outputs": [],
   "source": [
    "gazew_human = []\n",
    "tm = training_methods[0]\n",
    "for i, depth in enumerate(depth_list):\n",
    "    gazew = gazew_parts_vit_means[tm][str(depth)][\"face\"]\n",
    "    #gazew = gazew_parts_vit_means[tm][str(depth)][\"eye\"]\n",
    "    #gazew += gazew_parts_vit_means[tm][str(depth)][\"mouth\"]\n",
    "    for j in range(2):\n",
    "        gazew_human.append(gazew[:, d_label[i,j]].flatten())\n",
    "\n",
    "gazew_human = np.hstack(gazew_human)"
   ]
  },
  {
   "cell_type": "code",
   "execution_count": 19,
   "id": "27ec2089-380b-407e-87aa-e5a1075ed53d",
   "metadata": {},
   "outputs": [],
   "source": [
    "gazew_concat = animal_gazew_dict[\"eye\"] + animal_gazew_dict[\"mouth\"]"
   ]
  },
  {
   "cell_type": "code",
   "execution_count": 20,
   "id": "2d8af559-fbfe-4ae7-b544-47073209dbc2",
   "metadata": {},
   "outputs": [],
   "source": [
    "from scipy.stats import pearsonr"
   ]
  },
  {
   "cell_type": "code",
   "execution_count": 21,
   "id": "7eeceb5d-32a6-45d2-959b-572d26277d07",
   "metadata": {},
   "outputs": [],
   "source": [
    "r_s, p = pearsonr(gazew_human, gazew_concat)"
   ]
  },
  {
   "cell_type": "code",
   "execution_count": 22,
   "id": "38b7a4f1-6949-4360-944f-12f4398c4fa0",
   "metadata": {},
   "outputs": [
    {
     "data": {
      "text/plain": [
       "(0.7487768747848489, 3.861193336312359e-27)"
      ]
     },
     "execution_count": 22,
     "metadata": {},
     "output_type": "execute_result"
    }
   ],
   "source": [
    "r_s, p"
   ]
  },
  {
   "cell_type": "code",
   "execution_count": 23,
   "id": "c5cd1e5f-0ba9-4494-a416-94afedb41145",
   "metadata": {},
   "outputs": [],
   "source": [
    "df = pd.DataFrame(np.c_[gazew_human, gazew_concat, labels_], columns=[\"human_gazew\", \"animal_gazew\", \"label\"])"
   ]
  },
  {
   "cell_type": "code",
   "execution_count": 24,
   "id": "91a88a31-f34f-4eea-b8da-28b74a42a172",
   "metadata": {},
   "outputs": [
    {
     "data": {
      "text/html": [
       "<div>\n",
       "<style scoped>\n",
       "    .dataframe tbody tr th:only-of-type {\n",
       "        vertical-align: middle;\n",
       "    }\n",
       "\n",
       "    .dataframe tbody tr th {\n",
       "        vertical-align: top;\n",
       "    }\n",
       "\n",
       "    .dataframe thead th {\n",
       "        text-align: right;\n",
       "    }\n",
       "</style>\n",
       "<table border=\"1\" class=\"dataframe\">\n",
       "  <thead>\n",
       "    <tr style=\"text-align: right;\">\n",
       "      <th></th>\n",
       "      <th>human_gazew</th>\n",
       "      <th>animal_gazew</th>\n",
       "      <th>label</th>\n",
       "    </tr>\n",
       "  </thead>\n",
       "  <tbody>\n",
       "    <tr>\n",
       "      <th>0</th>\n",
       "      <td>92.449541</td>\n",
       "      <td>90.217566</td>\n",
       "      <td>1.0</td>\n",
       "    </tr>\n",
       "    <tr>\n",
       "      <th>1</th>\n",
       "      <td>3.103748</td>\n",
       "      <td>24.131346</td>\n",
       "      <td>3.0</td>\n",
       "    </tr>\n",
       "    <tr>\n",
       "      <th>2</th>\n",
       "      <td>23.867255</td>\n",
       "      <td>49.734620</td>\n",
       "      <td>2.0</td>\n",
       "    </tr>\n",
       "    <tr>\n",
       "      <th>3</th>\n",
       "      <td>5.331124</td>\n",
       "      <td>23.115765</td>\n",
       "      <td>2.0</td>\n",
       "    </tr>\n",
       "    <tr>\n",
       "      <th>4</th>\n",
       "      <td>48.024298</td>\n",
       "      <td>63.427006</td>\n",
       "      <td>2.0</td>\n",
       "    </tr>\n",
       "    <tr>\n",
       "      <th>...</th>\n",
       "      <td>...</td>\n",
       "      <td>...</td>\n",
       "      <td>...</td>\n",
       "    </tr>\n",
       "    <tr>\n",
       "      <th>139</th>\n",
       "      <td>22.326217</td>\n",
       "      <td>50.640721</td>\n",
       "      <td>2.0</td>\n",
       "    </tr>\n",
       "    <tr>\n",
       "      <th>140</th>\n",
       "      <td>94.467496</td>\n",
       "      <td>95.423515</td>\n",
       "      <td>1.0</td>\n",
       "    </tr>\n",
       "    <tr>\n",
       "      <th>141</th>\n",
       "      <td>16.531513</td>\n",
       "      <td>48.368821</td>\n",
       "      <td>2.0</td>\n",
       "    </tr>\n",
       "    <tr>\n",
       "      <th>142</th>\n",
       "      <td>8.355441</td>\n",
       "      <td>16.534928</td>\n",
       "      <td>3.0</td>\n",
       "    </tr>\n",
       "    <tr>\n",
       "      <th>143</th>\n",
       "      <td>35.471738</td>\n",
       "      <td>37.845337</td>\n",
       "      <td>2.0</td>\n",
       "    </tr>\n",
       "  </tbody>\n",
       "</table>\n",
       "<p>144 rows × 3 columns</p>\n",
       "</div>"
      ],
      "text/plain": [
       "     human_gazew  animal_gazew  label\n",
       "0      92.449541     90.217566    1.0\n",
       "1       3.103748     24.131346    3.0\n",
       "2      23.867255     49.734620    2.0\n",
       "3       5.331124     23.115765    2.0\n",
       "4      48.024298     63.427006    2.0\n",
       "..           ...           ...    ...\n",
       "139    22.326217     50.640721    2.0\n",
       "140    94.467496     95.423515    1.0\n",
       "141    16.531513     48.368821    2.0\n",
       "142     8.355441     16.534928    3.0\n",
       "143    35.471738     37.845337    2.0\n",
       "\n",
       "[144 rows x 3 columns]"
      ]
     },
     "execution_count": 24,
     "metadata": {},
     "output_type": "execute_result"
    }
   ],
   "source": [
    "df "
   ]
  },
  {
   "cell_type": "code",
   "execution_count": 25,
   "id": "347ce54c-db7a-452a-bd23-c9f28e4ae5c5",
   "metadata": {},
   "outputs": [
    {
     "data": {
      "text/plain": [
       "human_gazew     92.020091\n",
       "animal_gazew    85.178277\n",
       "label            1.000000\n",
       "dtype: float64"
      ]
     },
     "execution_count": 25,
     "metadata": {},
     "output_type": "execute_result"
    }
   ],
   "source": [
    "df[df[\"label\"] == 1].median()"
   ]
  },
  {
   "cell_type": "code",
   "execution_count": 26,
   "id": "848bdaf7-9c3c-4f6c-aee7-793bfdf1f2d6",
   "metadata": {},
   "outputs": [],
   "source": [
    "#cols = [\"#DC267F\", \"#648FFF\", \"#FFB000\"]\n",
    "cols = [\"#56B4E9\", \"#FFB000\", \"#DC267F\"]#\"#DC267F\", \"#648FFF\", \"#FFB000\"]\n",
    "pal = {i+1: cols[i] for i in range(3)}"
   ]
  },
  {
   "cell_type": "code",
   "execution_count": 27,
   "id": "80c799d2-7ba7-4b5f-b580-7af5553dbdd4",
   "metadata": {},
   "outputs": [
    {
     "data": {
      "image/png": "[encoded data removed]",
      "text/plain": [
       "<Figure size 310x310 with 3 Axes>"
      ]
     },
     "metadata": {},
     "output_type": "display_data"
    }
   ],
   "source": [
    "g = sns.jointplot(data=df, x=\"human_gazew\", y=\"animal_gazew\", hue=\"label\", ratio=4, palette=pal, height=3.1, style=df[\"label\"], legend=False)\n",
    "#g = sns.JointGrid(data=df, x=\"human_gazew\", y=\"animal_gazew\", hue=\"label\", height=3, palette=pal)\n",
    "#g.plot_joint(sns.scatterplot, markers=markers)\n",
    "g.plot_marginals(sns.boxplot, width=1, gap=0.3)\n",
    "plt.xlim(0, 100)\n",
    "plt.ylim(0, 100)\n",
    "plt.axline((0, 0), slope=1, color='tab:gray', linestyle='--', linewidth=1, zorder=-1)\n",
    "\n",
    "plt.text(10, 90, r\"$r=$\"+f\"{np.abs(r_s):.03f}\", fontsize=11, ha=\"left\", va=\"center\",  math_fontfamily='cm')\n",
    "#ax.set_xscale(\"log\")\n",
    "plt.xlabel(\"Human-face\\nviewing proportion (%)\", fontsize=11)\n",
    "#plt.xlabel(\"Human-eye viewing proportion (%)\", fontsize=11)\n",
    "plt.ylabel(\"Animal-face\\nviewing proportion (%)\", fontsize=11)\n",
    "#plt.tight_layout()\n",
    "plt.xticks([0,25,50,75,100])\n",
    "plt.yticks([0,25,50,75,100])\n",
    "for loc in range(25, 100, 25):\n",
    "    plt.axvline(loc, alpha=0.5, color='tab:gray', linestyle='--', linewidth=0.5)\n",
    "    plt.axhline(loc, alpha=0.5, color='tab:gray', linestyle='--', linewidth=0.5)\n",
    "\"\"\"\n",
    "sns.move_legend(\n",
    "    g.ax_joint, \"lower right\",\n",
    "    title=None\n",
    ")\n",
    "\"\"\"\n",
    "plt.minorticks_on()\n",
    "plt.savefig(f\"../figures/face_viewing_prop_human_animal.svg\", dpi=300)"
   ]
  }
 ],
 "metadata": {
  "kernelspec": {
   "display_name": "Python 3 (ipykernel)",
   "language": "python",
   "name": "python3"
  },
  "language_info": {
   "codemirror_mode": {
    "name": "ipython",
    "version": 3
   },
   "file_extension": ".py",
   "mimetype": "text/x-python",
   "name": "python",
   "nbconvert_exporter": "python",
   "pygments_lexer": "ipython3",
   "version": "3.10.11"
  }
 },
 "nbformat": 4,
 "nbformat_minor": 5
}
