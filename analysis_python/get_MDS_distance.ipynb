{
 "cells": [
  {
   "cell_type": "code",
   "execution_count": 1,
   "id": "c623adc2-4b10-4f22-a0b5-f3cba7c2ee10",
   "metadata": {},
   "outputs": [],
   "source": [
    "import numpy as np\n",
    "from scipy.io import loadmat \n",
    "import os\n",
    "import glob\n",
    "from tqdm.notebook import tqdm"
   ]
  },
  {
   "cell_type": "code",
   "execution_count": 2,
   "id": "d966b7e9-bbae-4eba-9bf5-a5af62349979",
   "metadata": {},
   "outputs": [],
   "source": [
    "def compute_mds_dist(matfile_path, training_methods=[\"dino\", \"supervised\"], \n",
    "                     depth_list=[4, 8, 12], num_models=6, with_mean=False):\n",
    "    # load matlab file\n",
    "    matfile = loadmat(matfile_path, simplify_cells=True)['mds_res_all']\n",
    "    \n",
    "    res_dict = {}\n",
    "    dict_keys = [\"mds_centered\", \"mds_dist\", \"mds_dist_min\", \"mds_dist_flatten\"]\n",
    "    for key in dict_keys:\n",
    "        res_dict[key] = {}\n",
    "        for tm in training_methods:\n",
    "            res_dict[key][tm] = {}\n",
    "    \n",
    "    # compute median position\n",
    "    mds_res = matfile[\"mds_res\"]\n",
    "    mds_res_center = np.median(mds_res, 0)\n",
    "    \n",
    "    # subjects\n",
    "    subj_mds_centered = mds_res - mds_res_center\n",
    "    subj_mds_dist = np.linalg.norm(subj_mds_centered, axis=-1)\n",
    "    res_dict[\"mds_centered\"][\"subj\"] = subj_mds_centered\n",
    "    res_dict[\"mds_dist\"][\"subj\"] = subj_mds_dist\n",
    "    \n",
    "    # gbvs\n",
    "    gbvs_mds_centered = matfile[\"gbvs\"] - mds_res_center\n",
    "    gbvs_mds_dist = np.linalg.norm(gbvs_mds_centered, axis=-1)\n",
    "    res_dict[\"mds_centered\"][\"gbvs\"] = gbvs_mds_centered\n",
    "    res_dict[\"mds_dist\"][\"gbvs\"] = gbvs_mds_dist\n",
    "    \n",
    "    # vit\n",
    "    for tm in training_methods:\n",
    "        # vit model\n",
    "        for depth in depth_list:\n",
    "            model_mds = matfile[f\"{tm}_{depth}\"]\n",
    "            model_mds_centered = model_mds - mds_res_center\n",
    "            model_mds_dist = np.linalg.norm(model_mds_centered, axis=-1)\n",
    "            if with_mean:       \n",
    "                res_dict[\"mds_centered\"][tm][str(depth)] = model_mds_centered\n",
    "                res_dict[\"mds_dist\"][tm][str(depth)] = model_mds_dist\n",
    "            else:\n",
    "                res_dict[\"mds_centered\"][tm][str(depth)] = model_mds_centered[:,:,:6]\n",
    "                res_dict[\"mds_dist\"][tm][str(depth)] = model_mds_dist[:,:,:6]\n",
    "        # vit offical model\n",
    "        model_mds = matfile[f\"{tm}_deit_small16\"]\n",
    "        model_mds_centered = model_mds - mds_res_center\n",
    "        model_mds_dist = np.linalg.norm(model_mds_centered, axis=-1)\n",
    "        if with_mean:    \n",
    "            res_dict[\"mds_centered\"][f\"{tm}_deit_small16\"] = model_mds_centered\n",
    "            res_dict[\"mds_dist\"][f\"{tm}_deit_small16\"] = model_mds_dist\n",
    "        else:\n",
    "            res_dict[\"mds_centered\"][f\"{tm}_deit_small16\"] = model_mds_centered[:,:6]\n",
    "            res_dict[\"mds_dist\"][f\"{tm}_deit_small16\"] = model_mds_dist[:,:6]\n",
    "    \n",
    "    for tm in training_methods:\n",
    "        for depth in depth_list:\n",
    "            model_mds_dist = res_dict[\"mds_dist\"][tm][str(depth)]\n",
    "            num_models = len(model_mds_dist)\n",
    "            res_dict[\"mds_dist_min\"][tm][str(depth)] = np.min(model_mds_dist.reshape(num_models, -1), axis=1)\n",
    "            res_dict[\"mds_dist_flatten\"][tm][str(depth)] = model_mds_dist.transpose(0, 2, 1).reshape(-1, depth)\n",
    "        res_dict[\"mds_dist_min\"][f\"{tm}_deit_small16\"] = np.min(res_dict[\"mds_dist\"][f\"{tm}_deit_small16\"])\n",
    "    return res_dict"
   ]
  },
  {
   "cell_type": "code",
   "execution_count": 3,
   "id": "54299be5-f270-4187-a1ed-c59c477fc294",
   "metadata": {},
   "outputs": [],
   "source": [
    "matfile_path_list = sorted(glob.glob(f\"../results/mds_results_*.mat\"))"
   ]
  },
  {
   "cell_type": "code",
   "execution_count": 4,
   "id": "f0232561-f886-4ac3-9a4a-01404f59e795",
   "metadata": {},
   "outputs": [
    {
     "data": {
      "application/vnd.jupyter.widget-view+json": {
       "model_id": "1b4865c1ebf7401589e952310efcad7a",
       "version_major": 2,
       "version_minor": 0
      },
      "text/plain": [
       "  0%|          | 0/40 [00:00<?, ?it/s]"
      ]
     },
     "metadata": {},
     "output_type": "display_data"
    }
   ],
   "source": [
    "for path in tqdm(matfile_path_list):\n",
    "    res_dict = compute_mds_dist(path)\n",
    "    save_name = \"../results/mds_dist_\" + path.split(\"/\")[-1][12:].split(\".\")[0]\n",
    "    np.savez_compressed(save_name, **res_dict)"
   ]
  }
 ],
 "metadata": {
  "kernelspec": {
   "display_name": "Python 3 (ipykernel)",
   "language": "python",
   "name": "python3"
  },
  "language_info": {
   "codemirror_mode": {
    "name": "ipython",
    "version": 3
   },
   "file_extension": ".py",
   "mimetype": "text/x-python",
   "name": "python",
   "nbconvert_exporter": "python",
   "pygments_lexer": "ipython3",
   "version": "3.10.11"
  }
 },
 "nbformat": 4,
 "nbformat_minor": 5
}
