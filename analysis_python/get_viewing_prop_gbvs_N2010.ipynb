{
 "cells": [
  {
   "cell_type": "code",
   "execution_count": 1,
   "id": "83edb98f",
   "metadata": {},
   "outputs": [],
   "source": [
    "import numpy as np\n",
    "import matplotlib.pyplot as plt\n",
    "from tqdm.notebook import tqdm\n",
    "import pandas as pd\n",
    "from utils_analysis import get_viewing_prop"
   ]
  },
  {
   "cell_type": "code",
   "execution_count": 2,
   "id": "3cf993aa-19a1-4fe3-9e25-b929d2a5fe65",
   "metadata": {},
   "outputs": [],
   "source": [
    "obj_pos_upsample = np.load(\"../dataset/Nakano_etal_2010/preprocessed_data/obj_pos_upsample.npz\")[\"data\"]\n",
    "gbvs_gaze_pos = np.load(\"../dataset/Nakano_etal_2010/preprocessed_data/gbvs_gaze_pos.npz\", allow_pickle=True)"
   ]
  },
  {
   "cell_type": "code",
   "execution_count": 3,
   "id": "5952afa2-6e13-445a-a7fb-096cfb9567f0",
   "metadata": {},
   "outputs": [
    {
     "data": {
      "text/plain": [
       "(2, 18, 3883)"
      ]
     },
     "execution_count": 3,
     "metadata": {},
     "output_type": "execute_result"
    }
   ],
   "source": [
    "obj_pos_upsample.shape"
   ]
  },
  {
   "cell_type": "code",
   "execution_count": 4,
   "id": "a329f4d8-0ca7-4f6a-974f-4dab8775839d",
   "metadata": {},
   "outputs": [],
   "source": [
    "gbvs_labels = gbvs_gaze_pos['labels']\n",
    "num_labels = len(gbvs_labels)\n",
    "_, num_objects, num_sampling = obj_pos_upsample.shape"
   ]
  },
  {
   "cell_type": "code",
   "execution_count": 5,
   "id": "59d19d91-626f-4044-bc50-8d2591f65b52",
   "metadata": {},
   "outputs": [],
   "source": [
    "gbvs_gaze_pos_upsample = gbvs_gaze_pos['gaze_pos_upsample']"
   ]
  },
  {
   "cell_type": "code",
   "execution_count": 6,
   "id": "39ee3f6d-8e72-4754-a31e-3658c8c9ae2d",
   "metadata": {},
   "outputs": [],
   "source": [
    "gaze_weight_dict = {}\n",
    "gaze_weight_dict[\"labels\"] = gbvs_labels\n",
    "gaze_weight = np.zeros((num_labels, num_sampling, num_objects))\n",
    "for i in range(num_labels):\n",
    "    gaze_weight[i] = get_viewing_prop(gbvs_gaze_pos_upsample[i], \n",
    "                                      obj_pos_upsample[0], obj_pos_upsample[1])\n",
    "gaze_weight_dict[\"all_data\"] = gaze_weight"
   ]
  },
  {
   "cell_type": "code",
   "execution_count": 7,
   "id": "6e23dfc1-6632-48ad-92e7-06392611a106",
   "metadata": {},
   "outputs": [],
   "source": [
    "preproceeed_data_path = \"../dataset/Nakano_etal_2010/preprocessed_data\"\n",
    "df = pd.read_csv(f\"{preproceeed_data_path}/eyeclip_annotation.csv\")\n",
    "num_clip = df[\"clip_index\"].max()"
   ]
  },
  {
   "cell_type": "code",
   "execution_count": 8,
   "id": "0c8f317c-8255-4185-888e-490d30fc784d",
   "metadata": {},
   "outputs": [
    {
     "data": {
      "application/vnd.jupyter.widget-view+json": {
       "model_id": "93148ac688ac49bcb09fc54b28cb7aac",
       "version_major": 2,
       "version_minor": 0
      },
      "text/plain": [
       "  0%|          | 0/12 [00:00<?, ?it/s]"
      ]
     },
     "metadata": {},
     "output_type": "display_data"
    }
   ],
   "source": [
    "gaze_weight_dict[\"clip_data\"] = {}\n",
    "for clip_idx in tqdm(range(num_clip)):\n",
    "    df_clip = df[df[\"clip_index\"] == (clip_idx+1)].reset_index()\n",
    "    sidx = df_clip[\"start_resampled_index\"].unique()[0]\n",
    "    eidx = df_clip[\"end_resampled_index\"].unique()[0]\n",
    "    subj_idx = df_clip[\"subj\"].unique()\n",
    "    num_faces = len(subj_idx)\n",
    "    len_clip = eidx - sidx\n",
    "    subj_slice = [df_clip[(df_clip[\"subj\"] == s) & (df_clip[\"face\"] == 1)].index.values for s in subj_idx]\n",
    "    gaze_weight_dict[\"clip_data\"][str(clip_idx)] = np.array([np.sum(gaze_weight[:, sidx:eidx, ss], axis=-1) for ss in subj_slice])"
   ]
  },
  {
   "cell_type": "code",
   "execution_count": 10,
   "id": "463a7327-f713-45de-98ff-c876658ae762",
   "metadata": {},
   "outputs": [
    {
     "data": {
      "text/plain": [
       "dict_keys(['labels', 'all_data', 'clip_data'])"
      ]
     },
     "execution_count": 10,
     "metadata": {},
     "output_type": "execute_result"
    }
   ],
   "source": [
    "gaze_weight_dict.keys()"
   ]
  },
  {
   "cell_type": "code",
   "execution_count": 9,
   "id": "1d8a4522-8a45-4d65-8627-3260aa67c165",
   "metadata": {},
   "outputs": [],
   "source": [
    "np.savez_compressed(\"../dataset/Nakano_etal_2010/preprocessed_data/gaze_weight_gbvs.npz\", \n",
    "                    **gaze_weight_dict)"
   ]
  }
 ],
 "metadata": {
  "kernelspec": {
   "display_name": "Python 3 (ipykernel)",
   "language": "python",
   "name": "python3"
  },
  "language_info": {
   "codemirror_mode": {
    "name": "ipython",
    "version": 3
   },
   "file_extension": ".py",
   "mimetype": "text/x-python",
   "name": "python",
   "nbconvert_exporter": "python",
   "pygments_lexer": "ipython3",
   "version": "3.10.11"
  }
 },
 "nbformat": 4,
 "nbformat_minor": 5
}
