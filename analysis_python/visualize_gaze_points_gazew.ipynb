{
 "cells": [
  {
   "cell_type": "code",
   "execution_count": 1,
   "id": "5a7b4978-d2db-493c-aa6d-87e2cb12f396",
   "metadata": {},
   "outputs": [],
   "source": [
    "import numpy as np\n",
    "import matplotlib.pyplot as plt\n",
    "from scipy.io import loadmat \n",
    "import os\n",
    "import glob\n",
    "import seaborn as sns\n",
    "import matplotlib as mpl\n",
    "import pandas as pd\n",
    "from tqdm.notebook import tqdm\n",
    "from scipy import interpolate\n",
    "import itertools\n",
    "\n",
    "from utils_analysis import *\n",
    "from PIL import Image\n",
    "from scipy.stats import gaussian_kde"
   ]
  },
  {
   "cell_type": "code",
   "execution_count": 2,
   "id": "f929c2ec-3ecd-4db2-b6ce-6c35f6f88c4e",
   "metadata": {},
   "outputs": [],
   "source": [
    "plt.rcParams[\"font.family\"] = \"Arial\" \n",
    "#plt.rcParams['axes.spines.right'] = False\n",
    "#plt.rcParams['axes.spines.top'] = False\n",
    "plt.rcParams['axes.axisbelow'] = True\n",
    "plt.rcParams[\"svg.fonttype\"] = \"none\""
   ]
  },
  {
   "cell_type": "code",
   "execution_count": 3,
   "id": "fbaeb5bb-f9d4-4416-b6ed-8cd7a9b5d60d",
   "metadata": {},
   "outputs": [],
   "source": [
    "def delete_nan(arr):\n",
    "    return arr[~np.isnan(arr)]\n",
    "\n",
    "def plot_scatter_density(x, y, ax, cmap, marker, s, alpha):\n",
    "    # Calculate the point density\n",
    "    nan_idx = np.isnan(x) | np.isnan(y)\n",
    "    x = x[~nan_idx]\n",
    "    y = y[~nan_idx]\n",
    "    xy = np.vstack([x,y])\n",
    "    z = gaussian_kde(xy)(xy)\n",
    "    \n",
    "    # Sort the points by density, so that the densest points are plotted last\n",
    "    idx = z.argsort()\n",
    "    x, y, z = x[idx], y[idx], z[idx]\n",
    "    \n",
    "    ax.scatter(x, y, c=z, cmap=cmap, marker=marker, s=s, alpha=alpha, rasterized=False)#True)\n",
    "\n",
    "def im2gray(im):\n",
    "    if im.mode != \"RGB\":\n",
    "        im = im.convert(\"RGB\") # any format to RGB\n",
    "    rgb = np.array(im, dtype=\"float32\");\n",
    "    \n",
    "    rgbL = pow(rgb/255.0, 2.2)\n",
    "    r, g, b = rgbL[:,:,0], rgbL[:,:,1], rgbL[:,:,2]\n",
    "    grayL = 0.299 * r + 0.587 * g + 0.114 * b  # BT.601\n",
    "    gray = pow(grayL, 1.0/2.2)*255\n",
    "    \n",
    "    im_gray = Image.fromarray(gray.astype(\"uint8\"))\n",
    "    return im_gray"
   ]
  },
  {
   "cell_type": "code",
   "execution_count": 4,
   "id": "88547c99-a7a2-4c1c-9960-ce8aeb37e32c",
   "metadata": {},
   "outputs": [],
   "source": [
    "fps = 29.93"
   ]
  },
  {
   "cell_type": "code",
   "execution_count": 5,
   "id": "4c4f63ed-f199-4617-b55f-7294f6d2714f",
   "metadata": {},
   "outputs": [],
   "source": [
    "s_f = [327, 1124, 2004]\n",
    "v_i = [3, 7, 11]\n",
    "#s_f = [1, 156, 554]\n",
    "#v_i = [1, 2, 4]"
   ]
  },
  {
   "cell_type": "code",
   "execution_count": 6,
   "id": "3c2eb869-7738-4578-ac5f-430bec07504f",
   "metadata": {},
   "outputs": [],
   "source": [
    "preproceeed_data_path = \"../dataset/Nakano_etal_2010/preprocessed_data\""
   ]
  },
  {
   "cell_type": "code",
   "execution_count": 7,
   "id": "d4e68356-c152-41dd-be88-2dc39aafd9b4",
   "metadata": {},
   "outputs": [],
   "source": [
    "training_methods = [\"dino\", \"supervised\"] \n",
    "depth_list = [4, 8, 12]\n",
    "num_models = 6\n",
    "num_heads = 6"
   ]
  },
  {
   "cell_type": "code",
   "execution_count": 8,
   "id": "dc94e5b7-5fa5-441d-a568-410bb5fcbaae",
   "metadata": {},
   "outputs": [],
   "source": [
    "vit_gaze_pos = np.load(\"../dataset/Nakano_etal_2010/preprocessed_data/vit_gaze_pos.npz\", allow_pickle=True)\n",
    "vit_official_gaze_pos = np.load(\"../dataset/Nakano_etal_2010/preprocessed_data/vit_official_gaze_pos.npz\", allow_pickle=True)\n",
    "gbvs_gaze_pos = np.load(\"../dataset/Nakano_etal_2010/preprocessed_data/gbvs_gaze_pos.npz\", allow_pickle=True)"
   ]
  },
  {
   "cell_type": "code",
   "execution_count": 9,
   "id": "a92bb663-402c-48a8-9e8f-a6f6872f6082",
   "metadata": {},
   "outputs": [
    {
     "data": {
      "text/plain": [
       "array(['All', 'Intensity', 'Orientation', 'Contrast', 'Flicker', 'Motion',\n",
       "       'DKL_Color'], dtype='<U11')"
      ]
     },
     "execution_count": 9,
     "metadata": {},
     "output_type": "execute_result"
    }
   ],
   "source": [
    "gbvs_gaze_pos[\"labels\"]#.files"
   ]
  },
  {
   "cell_type": "code",
   "execution_count": 10,
   "id": "1425f77d-53b7-47a5-91b6-db8e4cd2060e",
   "metadata": {},
   "outputs": [],
   "source": [
    "subj_gazepos_data = np.load(\"../dataset/Nakano_etal_2010/preprocessed_data/goodsubj_gaze_pos.npz\", allow_pickle=True)\n",
    "gazepos_goodsubj = subj_gazepos_data['gaze_data_goodsubj']\n",
    "gr_goodsubj = subj_gazepos_data['gr_goodsubj']\n",
    "group_name = subj_gazepos_data['group_name']"
   ]
  },
  {
   "cell_type": "code",
   "execution_count": 11,
   "id": "2be11f61-6bb5-4d31-a4a6-2bdc019b0795",
   "metadata": {},
   "outputs": [],
   "source": [
    "patch_size = 16\n",
    "group_name = [\"TD adults\", \"TD children\", \"DINO ViT (G1)\"]\n",
    "gr_indices = [0, 1, 4, 3]"
   ]
  },
  {
   "cell_type": "code",
   "execution_count": 12,
   "id": "7a24987a-0d01-4a31-b3c9-3b4269027c2e",
   "metadata": {},
   "outputs": [],
   "source": [
    "frame_indices = [480, 1180, 2070]#\n",
    "frame_reindices = [np.floor(frame_idx * 3883 / 2327).astype(int) for frame_idx in frame_indices]\n",
    "gazepos_subj_slice = [gazepos_goodsubj[:, frame_reidx] for frame_reidx in frame_reindices]"
   ]
  },
  {
   "cell_type": "code",
   "execution_count": 13,
   "id": "7e2045a7-4fb0-4d59-83c4-be88e89e23e7",
   "metadata": {},
   "outputs": [],
   "source": [
    "# subj data\n",
    "#blur_imgs = [Image.open(\"../figures/masked_frames/frame{0:04}_masked.png\".format(frame_idx)) for frame_idx in frame_indices]\n",
    "blur_imgs = [Image.open(\"../figures/masked_frames/frame{0:04}_masked.png\".format(frame_idx)) for frame_idx in frame_indices]"
   ]
  },
  {
   "cell_type": "code",
   "execution_count": 14,
   "id": "f0d6e64a-e54d-47ec-9e17-99af87901c45",
   "metadata": {},
   "outputs": [],
   "source": [
    "head_GMM_label = np.load(\"../results/head_GMM_label.npz\", allow_pickle=True)\n",
    "layer_indices = head_GMM_label[\"layer_indices\"].astype(int)\n",
    "\"\"\"\n",
    "label_rank = head_GMM_label[\"label_rank\"].astype(int)\n",
    "head_label = head_GMM_label[\"head_label\"].astype(int)\n",
    "head_label_proba = head_GMM_label[\"head_label_proba\"]\n",
    "num_groups = len(np.unique(label_rank))\n",
    "\"\"\"\n",
    "head_label = np.load(\"../results/attn_best_label_N2010.npy\").astype(int).reshape(4, 6, 6)"
   ]
  },
  {
   "cell_type": "code",
   "execution_count": 15,
   "id": "ee198723-bb74-4928-96f6-decd76a5e9bb",
   "metadata": {},
   "outputs": [],
   "source": [
    "frame_idx = frame_indices[-1]\n",
    "img_idx = 2\n",
    "gaze_pos_dict = {}\n",
    "for j, gn in enumerate(group_name):\n",
    "    x, y = [], []\n",
    "    if j < 2:\n",
    "        #for i, gr_idx in enumerate(gr_indices[j*2:(j+1)*2]):\n",
    "        gr_idx  = gr_indices[j]\n",
    "        gr_slice = gr_goodsubj == gr_idx\n",
    "        gaze_pos_dict[gn] = pd.DataFrame(gazepos_subj_slice[img_idx][gr_slice]).dropna().values\n",
    "    else:\n",
    "        vit_pos = []\n",
    "        tm = training_methods[0]\n",
    "        sigma = patch_size/6\n",
    "        for i, depth in enumerate(depth_list[1:]):\n",
    "            gaze_pos_depth = vit_gaze_pos[tm].item()[str(depth)]\n",
    "            d_indices = layer_indices[layer_indices[:, 0] == depth][:,1]\n",
    "            for m_idx in range(num_models):\n",
    "                for j, d_idx in enumerate(d_indices):\n",
    "                    ij = i * 2 + j\n",
    "                    for h_idx in range(num_heads):\n",
    "                        hl = head_label[ij, m_idx, h_idx]\n",
    "                        if hl == 1:\n",
    "                            #if label_rank[hl] == 0:\n",
    "                            vit_pos.append(gaze_pos_depth[m_idx, d_idx, h_idx, frame_idx])\n",
    "        vit_pos = np.stack(vit_pos)\n",
    "        vit_pos += np.random.randn(len(vit_pos), 2) * sigma\n",
    "        gaze_pos_dict[gn] = vit_pos"
   ]
  },
  {
   "cell_type": "code",
   "execution_count": 16,
   "id": "b5f79a4d-23e4-42f0-b76b-600b2018aec4",
   "metadata": {},
   "outputs": [],
   "source": [
    "blur_imgs_gray = [im2gray(im) for im in blur_imgs]"
   ]
  },
  {
   "cell_type": "code",
   "execution_count": 17,
   "id": "2d36eabc-14e6-4a5a-ac4f-f82737ec3f31",
   "metadata": {},
   "outputs": [
    {
     "data": {
      "image/png": "[encoded data removed]",
      "text/plain": [
       "<Figure size 500x200 with 3 Axes>"
      ]
     },
     "metadata": {},
     "output_type": "display_data"
    }
   ],
   "source": [
    "alpha = 1\n",
    "fig, axes = plt.subplots(1, 3, figsize=(5, 2), tight_layout=True)\n",
    "frame_idx = frame_indices[-1]\n",
    "img_idx = 2\n",
    "axes[0].set_ylabel(f\"clip #{v_i[img_idx]}\\n({(frame_indices[img_idx] - s_f[img_idx] - 1)/fps:.2f} sec)\", fontsize=11)\n",
    "for j, gn in enumerate(group_name):\n",
    "    pos = gaze_pos_dict[gn]\n",
    "    plot_scatter_density(pos[:, 0], pos[:, 1], axes[j], cmap='autumn', marker=\"o\", s=10, alpha=1)\n",
    "    axes[j].imshow(blur_imgs_gray[img_idx], cmap=\"gray\")\n",
    "    #axes[j, img_idx].imshow(blur_imgs[img_idx])\n",
    "    axes[j].set_title(gn, fontsize=11)#, rotation=0, ha='center', va='center', labelpad=25)\n",
    "    axes[j].set_xticks([])\n",
    "    axes[j].set_yticks([])\n",
    "plt.tight_layout()\n",
    "fig.savefig(\"../figures/gaze_key_points_examples.svg\", bbox_inches='tight', dpi=300)"
   ]
  },
  {
   "cell_type": "code",
   "execution_count": null,
   "id": "fb5f0b97-56bc-4c7a-b488-c928531bd27c",
   "metadata": {},
   "outputs": [],
   "source": []
  },
  {
   "cell_type": "code",
   "execution_count": null,
   "id": "7c524e09-ad4a-4693-902f-2fd1a86d1bda",
   "metadata": {},
   "outputs": [],
   "source": []
  },
  {
   "cell_type": "code",
   "execution_count": null,
   "id": "6bbc995b-dce5-45ab-bcb7-aefb289f6db7",
   "metadata": {},
   "outputs": [],
   "source": [
    "alpha = 1\n",
    "fig, axes = plt.subplots(1, 3, figsize=(5, 2), tight_layout=True)\n",
    "frame_idx = frame_indices[-1]\n",
    "img_idx = 2\n",
    "axes[0].set_ylabel(f\"clip #{v_i[img_idx]}\\n({(frame_indices[img_idx] - s_f[img_idx] - 1)/fps:.2f} sec)\", fontsize=11)\n",
    "for j, gn in enumerate(group_name):\n",
    "    pos = gaze_pos_dict[gn]\n",
    "    #plot_scatter_density(pos[:, 0], pos[:, 1], axes[j], cmap='autumn', marker=\"o\", s=10, alpha=1)\n",
    "    axes[j].imshow(blur_imgs_gray[img_idx], cmap=\"gray\")\n",
    "    #axes[j, img_idx].imshow(blur_imgs[img_idx])\n",
    "    axes[j].set_title(gn, fontsize=11)#, rotation=0, ha='center', va='center', labelpad=25)\n",
    "    axes[j].set_xticks([])\n",
    "    axes[j].set_yticks([])\n",
    "plt.tight_layout()\n",
    "fig.savefig(\"../figures/gaze_key_points_examples.svg\", bbox_inches='tight', dpi=300)"
   ]
  }
 ],
 "metadata": {
  "kernelspec": {
   "display_name": "Python 3 (ipykernel)",
   "language": "python",
   "name": "python3"
  },
  "language_info": {
   "codemirror_mode": {
    "name": "ipython",
    "version": 3
   },
   "file_extension": ".py",
   "mimetype": "text/x-python",
   "name": "python",
   "nbconvert_exporter": "python",
   "pygments_lexer": "ipython3",
   "version": "3.10.11"
  }
 },
 "nbformat": 4,
 "nbformat_minor": 5
}
