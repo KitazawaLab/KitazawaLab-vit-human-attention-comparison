{
 "cells": [
  {
   "cell_type": "code",
   "execution_count": 1,
   "id": "d61a803b-c811-4b1c-b786-cfd3ed26cf57",
   "metadata": {},
   "outputs": [],
   "source": [
    "import os\n",
    "os.environ[\"CUDA_VISIBLE_DEVICES\"]=\"4\"\n",
    "\n",
    "from tqdm.notebook import tqdm\n",
    "import glob\n",
    "import numpy as np\n",
    "from utils_analysis import *\n",
    "from PIL import Image\n",
    "\n",
    "import matplotlib.pyplot as plt\n",
    "\n",
    "import torch\n",
    "from torch.utils.data import DataLoader\n",
    "from scipy.io import loadmat \n",
    "\n",
    "import seaborn as sns"
   ]
  },
  {
   "cell_type": "code",
   "execution_count": 2,
   "id": "c5b2ff90-77e1-4ef7-a304-0d6e8a551501",
   "metadata": {},
   "outputs": [],
   "source": [
    "plt.rcParams[\"font.family\"] = \"Arial\" \n",
    "plt.rcParams['axes.spines.right'] = False\n",
    "plt.rcParams['axes.spines.top'] = False\n",
    "plt.rcParams['axes.axisbelow'] = True\n",
    "plt.rcParams[\"svg.fonttype\"] = \"none\""
   ]
  },
  {
   "cell_type": "code",
   "execution_count": 3,
   "id": "3d2d2749-cdc8-49e7-be64-3116276716aa",
   "metadata": {},
   "outputs": [],
   "source": [
    "dataset_dir = \"../dataset/Nakano_etal_2010/video_stimuli/frames\"\n",
    "training_methods = [\"dino\", \"supervised\"] \n",
    "depth_list = [8, 12]\n",
    "num_models = 6\n",
    "num_heads = 6\n",
    "num_frames = 2327\n",
    "\n",
    "patch_size = 16\n",
    "batch_size = 32"
   ]
  },
  {
   "cell_type": "code",
   "execution_count": 4,
   "id": "55c5a3bd-7f9f-435e-8ddc-cfee5464020f",
   "metadata": {},
   "outputs": [
    {
     "data": {
      "text/plain": [
       "'\\nattn_dict = np.load(\"../results/dino_vit_attention_g12_N2010.npz\", allow_pickle=True)\\nattn_concat = np.vstack([np.vstack(attn_dict[str(depth)]) for depth in depth_list])\\nattn_concat_flat = attn_concat.reshape(144, -1)\\n\\nfrom sklearn.decomposition import PCA\\npca = PCA(n_components=128)\\nX_ = pca.fit_transform(attn_concat_flat)\\nsave_dir = \"../results/\"\\nnp.savez_compressed(f\"{save_dir}/dino_vit_attention_PCA128_N2010.npz\", embed=X_)\\n\\n# Explained variance\\nexplained_variance_ratio = pca.explained_variance_ratio_\\ntotal_explained_variance_ratio = explained_variance_ratio.sum()\\n\\n# Print results\\nprint(f\"\\nExplained Variance Ratio:\\n{explained_variance_ratio}\")\\nprint(f\"Total Explained Variance Ratio: {total_explained_variance_ratio:.4f}\")\\n'"
      ]
     },
     "execution_count": 4,
     "metadata": {},
     "output_type": "execute_result"
    }
   ],
   "source": [
    "\"\"\"\n",
    "attn_dict = np.load(\"../results/dino_vit_attention_g12_N2010.npz\", allow_pickle=True)\n",
    "attn_concat = np.vstack([np.vstack(attn_dict[str(depth)]) for depth in depth_list])\n",
    "attn_concat_flat = attn_concat.reshape(144, -1)\n",
    "\n",
    "from sklearn.decomposition import PCA\n",
    "pca = PCA(n_components=128)\n",
    "X_ = pca.fit_transform(attn_concat_flat)\n",
    "save_dir = \"../results/\"\n",
    "np.savez_compressed(f\"{save_dir}/dino_vit_attention_PCA128_N2010.npz\", embed=X_)\n",
    "\n",
    "# Explained variance\n",
    "explained_variance_ratio = pca.explained_variance_ratio_\n",
    "total_explained_variance_ratio = explained_variance_ratio.sum()\n",
    "\n",
    "# Print results\n",
    "print(f\"\\nExplained Variance Ratio:\\n{explained_variance_ratio}\")\n",
    "print(f\"Total Explained Variance Ratio: {total_explained_variance_ratio:.4f}\")\n",
    "\"\"\""
   ]
  },
  {
   "cell_type": "code",
   "execution_count": 5,
   "id": "4b70eb7a-de14-48c0-8493-29554154f8c6",
   "metadata": {},
   "outputs": [],
   "source": [
    "from scipy.spatial.distance import pdist\n",
    "from scipy.cluster.hierarchy import dendrogram, linkage\n",
    "from scipy.cluster.hierarchy import leaves_list\n",
    "from scipy.cluster.hierarchy import cophenet\n",
    "from scipy.cluster.hierarchy import fcluster\n",
    "from sklearn.metrics import silhouette_score\n",
    "from scipy.spatial.distance import squareform"
   ]
  },
  {
   "cell_type": "code",
   "execution_count": 6,
   "id": "d84a95a4-48a3-49d3-b593-4ba61556a88d",
   "metadata": {},
   "outputs": [
    {
     "data": {
      "text/plain": [
       "'\\nsave_dir = \"../results/\"\\nnp.savez_compressed(f\"{save_dir}/dino_vit_attention_dist_mat_N2010.npz\", dist_mat=dist_mat)\\n'"
      ]
     },
     "execution_count": 6,
     "metadata": {},
     "output_type": "execute_result"
    }
   ],
   "source": [
    "dist_mat = np.load(\"../results/dino_vit_attention_dist_mat_N2010.npz\")['dist_mat']\n",
    "dist_mat_mean = np.mean(dist_mat, axis=0)\n",
    "\n",
    "\"\"\"\n",
    "save_dir = \"../results/\"\n",
    "np.savez_compressed(f\"{save_dir}/dino_vit_attention_dist_mat_N2010.npz\", dist_mat=dist_mat)\n",
    "\"\"\""
   ]
  },
  {
   "cell_type": "code",
   "execution_count": 7,
   "id": "8dc5db11-dc57-483f-a204-6c8ce70e272c",
   "metadata": {},
   "outputs": [],
   "source": [
    "Z = linkage(dist_mat_mean, 'ward', optimal_ordering=True)"
   ]
  },
  {
   "cell_type": "code",
   "execution_count": 8,
   "id": "34f09f2b-80f4-4651-a1d8-3896390f701d",
   "metadata": {
    "scrolled": true
   },
   "outputs": [],
   "source": [
    "leaves = leaves_list(Z)"
   ]
  },
  {
   "cell_type": "code",
   "execution_count": 9,
   "id": "d5176f08-0fa5-4fbd-a26d-3d6bb26cdcfe",
   "metadata": {},
   "outputs": [],
   "source": [
    "head_indices = np.arange(144).reshape(4, 6, -1)"
   ]
  },
  {
   "cell_type": "code",
   "execution_count": 10,
   "id": "7b1a3ce9-cbeb-44d3-8aac-a84c6a4f154b",
   "metadata": {},
   "outputs": [],
   "source": [
    "hi = head_indices[1, 1]"
   ]
  },
  {
   "cell_type": "code",
   "execution_count": 11,
   "id": "c3794e8c-4fee-4ce4-bc66-6ca0c8861ca6",
   "metadata": {},
   "outputs": [
    {
     "data": {
      "text/plain": [
       "array([42, 43, 44, 45, 46, 47])"
      ]
     },
     "execution_count": 11,
     "metadata": {},
     "output_type": "execute_result"
    }
   ],
   "source": [
    "hi "
   ]
  },
  {
   "cell_type": "code",
   "execution_count": 12,
   "id": "2e42e763-3699-4bc5-827f-40649173b1b9",
   "metadata": {},
   "outputs": [],
   "source": [
    "head_ind_dend = [np.where(leaves==hi[i])[0][0] for i in range(6)]"
   ]
  },
  {
   "cell_type": "code",
   "execution_count": 13,
   "id": "cbecab65-a984-4d02-afd8-13fdf7eaf411",
   "metadata": {},
   "outputs": [],
   "source": [
    "dn = dendrogram(Z, p=5, no_plot=True)\n",
    "ic = np.unique(dn['icoord'])"
   ]
  },
  {
   "cell_type": "code",
   "execution_count": 14,
   "id": "87682f37-0495-49ce-8825-e2728dca04d4",
   "metadata": {},
   "outputs": [],
   "source": [
    "leaf_pos = np.linspace(ic[0], ic[-1], 144)"
   ]
  },
  {
   "cell_type": "code",
   "execution_count": 15,
   "id": "c7b80357-ede2-4e05-974b-e1d456927851",
   "metadata": {},
   "outputs": [],
   "source": [
    "mds_dist_dict = np.load(\"../results/mds_dist_N2010_dim32.npz\", allow_pickle=True)[\"mds_dist\"].item()"
   ]
  },
  {
   "cell_type": "code",
   "execution_count": 16,
   "id": "99582100-a6ef-4601-b7a7-f9fda93298ff",
   "metadata": {},
   "outputs": [],
   "source": [
    "tm = training_methods[0]\n",
    "d_label = np.array([[7,8],[9,10]]) - 1\n",
    "mds_dist_concat = []\n",
    "for i, depth in enumerate(depth_list):\n",
    "    mds_dist = mds_dist_dict[tm][str(depth)]\n",
    "    for j in range(2):\n",
    "        mds_dist_concat.append(mds_dist[:, d_label[i,j]].flatten())\n",
    "\n",
    "mds_dist_concat = np.hstack(mds_dist_concat)"
   ]
  },
  {
   "cell_type": "code",
   "execution_count": 17,
   "id": "9f33fc52-e8f8-486d-bca7-a83fbebe0528",
   "metadata": {},
   "outputs": [
    {
     "data": {
      "image/png": "[encoded data removed]",
      "text/plain": [
       "<Figure size 500x500 with 2 Axes>"
      ]
     },
     "metadata": {},
     "output_type": "display_data"
    }
   ],
   "source": [
    "fig, axes = plt.subplots(2,1, figsize=(5, 5))\n",
    "#plt.title(\"DINO ViT-8; 2nd model, 8th layer\")\n",
    "dn = dendrogram(Z, no_labels=True, ax=axes[0])#, p=5), truncate_mode=\"level\")#, labels=np.arange(1,7))\n",
    "for i in range(6):\n",
    "    axes[0].scatter(leaf_pos[head_ind_dend][i], 0, zorder=10, clip_on=False)\n",
    "#plt.scatter(leaf_pos[head_ind_dend], np.zeros(6), zorder=10, c=np.arange(6), clip_on=False, cmap=\"Set1\")\n",
    "#plt.xlabel(\"attention head #\")\n",
    "axes[1].bar(np.arange(len(leaves)), mds_dist_concat[leaves], width=1)\n",
    "axes[1].set_xlim(0, 144)\n",
    "axes[1].set_ylabel(\"MDS distance\")\n",
    "axes[1].set_xlabel(\"Attention head #\")\n",
    "plt.tight_layout()"
   ]
  },
  {
   "cell_type": "code",
   "execution_count": 18,
   "id": "9ec65666-d069-412d-9322-8de530ec9927",
   "metadata": {},
   "outputs": [],
   "source": [
    "Z = linkage(dist_mat_mean, 'ward', optimal_ordering=True)"
   ]
  },
  {
   "cell_type": "code",
   "execution_count": 19,
   "id": "7fa830c9-554d-45d8-afb5-52b8ecd6f68b",
   "metadata": {},
   "outputs": [
    {
     "data": {
      "text/plain": [
       "(0.6847648988654281,\n",
       " array([2.06675632, 2.06675632, 2.06675632, ..., 1.6781797 , 0.97316212,\n",
       "        1.6781797 ]))"
      ]
     },
     "execution_count": 19,
     "metadata": {},
     "output_type": "execute_result"
    }
   ],
   "source": [
    "cophenet(Z, dist_mat_mean)"
   ]
  },
  {
   "cell_type": "code",
   "execution_count": 20,
   "id": "7da9450f-26fa-49b4-a0f0-f12cf68f1256",
   "metadata": {},
   "outputs": [],
   "source": [
    "labels = fcluster(Z, 3, criterion='maxclust')"
   ]
  },
  {
   "cell_type": "code",
   "execution_count": 21,
   "id": "66801752-56ea-4f42-86aa-69fe80aae8c1",
   "metadata": {},
   "outputs": [
    {
     "name": "stdout",
     "output_type": "stream",
     "text": [
      "[1 3 2 2 2 3 1 3 2 2 2 3 1 3 2 2 2 3 1 3 2 2 2 3 1 3 2 2 2 3 1 3 2 2 2 3 1\n",
      " 2 2 2 3 2 1 2 2 2 3 2 1 2 2 2 3 2 1 2 2 2 3 2 1 2 2 2 3 2 1 2 2 2 3 2 3 2\n",
      " 2 2 2 2 3 1 1 2 2 2 2 2 1 2 2 2 3 2 1 2 2 2 2 2 2 1 2 2 3 2 2 1 2 2 1 2 2\n",
      " 2 3 2 1 2 2 2 3 2 1 2 2 2 3 2 1 2 2 2 3 2 2 2 1 2 3 2 2 2 1 2 3 2]\n"
     ]
    }
   ],
   "source": [
    "print(labels)"
   ]
  },
  {
   "cell_type": "code",
   "execution_count": 22,
   "id": "63dbba3e-224e-409a-ad3f-bf4a374beaac",
   "metadata": {},
   "outputs": [
    {
     "data": {
      "image/png": "[encoded data removed]",
      "text/plain": [
       "<Figure size 200x300 with 1 Axes>"
      ]
     },
     "metadata": {},
     "output_type": "display_data"
    }
   ],
   "source": [
    "fig = plt.figure(figsize=(2, 3))\n",
    "#dn = dendrogram(Z, no_labels=True)#, p=3, truncate_mode=\"lastp\")\n",
    "dn = dendrogram(Z, p=3, truncate_mode=\"lastp\")\n",
    "#plt.scatter([5,15,25], np.zeros(3), zorder=10, clip_on=False)"
   ]
  },
  {
   "cell_type": "code",
   "execution_count": 23,
   "id": "144e84b7-63ef-43df-8e5d-dbaea5af9094",
   "metadata": {},
   "outputs": [],
   "source": [
    "from sklearn.manifold import MDS"
   ]
  },
  {
   "cell_type": "code",
   "execution_count": 24,
   "id": "510bf856-6e5f-40ea-82e0-225302c6683e",
   "metadata": {},
   "outputs": [],
   "source": [
    "X = squareform(dist_mat_mean)"
   ]
  },
  {
   "cell_type": "code",
   "execution_count": 25,
   "id": "a02c0b61-5bfb-4d60-99e9-4ed94c3af53f",
   "metadata": {},
   "outputs": [],
   "source": [
    "embedding = MDS(n_components=2, normalized_stress='auto', dissimilarity='precomputed', random_state=2)\n",
    "X_transformed = embedding.fit_transform(X)"
   ]
  },
  {
   "cell_type": "code",
   "execution_count": 26,
   "id": "6685629c-4801-476b-b72b-17d79f4ff873",
   "metadata": {},
   "outputs": [],
   "source": [
    "cmap = plt.get_cmap(\"Set2\")"
   ]
  },
  {
   "cell_type": "code",
   "execution_count": 27,
   "id": "7afd2ecb-1eea-454f-9a12-7094b25bd82b",
   "metadata": {},
   "outputs": [],
   "source": [
    "from scipy.cluster.hierarchy import set_link_color_palette"
   ]
  },
  {
   "cell_type": "code",
   "execution_count": 28,
   "id": "88f60bd4-b896-4cdd-b541-f20126bfcf33",
   "metadata": {},
   "outputs": [],
   "source": [
    "gidx = np.linspace(0, 144, 5).astype(int)"
   ]
  },
  {
   "cell_type": "code",
   "execution_count": 29,
   "id": "87f08339-bc1d-443c-a7d8-23fb5873e51f",
   "metadata": {},
   "outputs": [],
   "source": [
    "cmap = sns.color_palette(\"colorblind\")"
   ]
  },
  {
   "cell_type": "code",
   "execution_count": 30,
   "id": "b604b8c0-ad77-4a78-b6e2-2d1f24f028ce",
   "metadata": {},
   "outputs": [],
   "source": [
    "layer_labels = [\"7/8\", \"8/8\", \"9/12\", \"10/12\"]"
   ]
  },
  {
   "cell_type": "code",
   "execution_count": 31,
   "id": "a299e8af-c58f-41ea-a231-b2c4bed87601",
   "metadata": {},
   "outputs": [
    {
     "data": {
      "text/plain": [
       "'fig, axes = plt.subplots(1,4, figsize=(9, 2.5), width_ratios=[0.5, 1, 1, 1.2])\\nset_link_color_palette([\"tab:red\",\"tab:purple\",\"tab:blue\"])#([cmap(7), cmap(0), cmap(1), cmap(2)])\\ndn = dendrogram(Z, no_labels=True, ax=axes[0], above_threshold_color=\"tab:gray\")\\naxes[0].axhline(0.7*max(Z[:,2]), linestyle=\"--\", color=\"k\", alpha=0.5)\\n#axes[1].scatter(X_transformed[leaves, 0], X_transformed[leaves, 1], c=cmap(labels[leaves]-1))\\naxes[1].scatter(X_transformed[leaves, 0], X_transformed[leaves, 1], c=dn[\\'leaves_color_list\\'])\\n\\nfor i in range(4):\\n    axes[2].scatter(X_transformed[gidx[i]:gidx[i+1], 0], X_transformed[gidx[i]:gidx[i+1], 1], color=cmap[i], label=layer_labels[i])\\naxes[2].legend()\\nsc = axes[3].scatter(X_transformed[:, 0], X_transformed[:, 1], c=mds_dist_concat)\\nplt.colorbar(sc, label=\\'MDS distance\\')\\naxes[1].set_title(\"Hierarchical clustering\")\\naxes[2].set_title(\"ViT layer/total layer\")\\naxes[3].set_title(\"MDS distance\")\\naxes[0].set_ylabel(\"Cluster distance\")\\naxes[1].set_ylabel(\"MDS 2\")\\naxes[2].set_xlabel(\"MDS 1\")\\n#axes[2].sharey(axes[1])\\naxes[2].set_yticklabels([])\\naxes[3].set_yticklabels([])\\nfor i in range(4):\\n    axes[i].minorticks_on()\\n\\n#axes[2].set_yticks([])\\nfig.tight_layout()\\nfig.savefig(\"../figures/head_grouping.svg\", dpi=300, bbox_inches=\"tight\")\\n'"
      ]
     },
     "execution_count": 31,
     "metadata": {},
     "output_type": "execute_result"
    }
   ],
   "source": [
    "\"\"\"fig, axes = plt.subplots(1,4, figsize=(9, 2.5), width_ratios=[0.5, 1, 1, 1.2])\n",
    "set_link_color_palette([\"tab:red\",\"tab:purple\",\"tab:blue\"])#([cmap(7), cmap(0), cmap(1), cmap(2)])\n",
    "dn = dendrogram(Z, no_labels=True, ax=axes[0], above_threshold_color=\"tab:gray\")\n",
    "axes[0].axhline(0.7*max(Z[:,2]), linestyle=\"--\", color=\"k\", alpha=0.5)\n",
    "#axes[1].scatter(X_transformed[leaves, 0], X_transformed[leaves, 1], c=cmap(labels[leaves]-1))\n",
    "axes[1].scatter(X_transformed[leaves, 0], X_transformed[leaves, 1], c=dn['leaves_color_list'])\n",
    "\n",
    "for i in range(4):\n",
    "    axes[2].scatter(X_transformed[gidx[i]:gidx[i+1], 0], X_transformed[gidx[i]:gidx[i+1], 1], color=cmap[i], label=layer_labels[i])\n",
    "axes[2].legend()\n",
    "sc = axes[3].scatter(X_transformed[:, 0], X_transformed[:, 1], c=mds_dist_concat)\n",
    "plt.colorbar(sc, label='MDS distance')\n",
    "axes[1].set_title(\"Hierarchical clustering\")\n",
    "axes[2].set_title(\"ViT layer/total layer\")\n",
    "axes[3].set_title(\"MDS distance\")\n",
    "axes[0].set_ylabel(\"Cluster distance\")\n",
    "axes[1].set_ylabel(\"MDS 2\")\n",
    "axes[2].set_xlabel(\"MDS 1\")\n",
    "#axes[2].sharey(axes[1])\n",
    "axes[2].set_yticklabels([])\n",
    "axes[3].set_yticklabels([])\n",
    "for i in range(4):\n",
    "    axes[i].minorticks_on()\n",
    "\n",
    "#axes[2].set_yticks([])\n",
    "fig.tight_layout()\n",
    "fig.savefig(\"../figures/head_grouping.svg\", dpi=300, bbox_inches=\"tight\")\n",
    "\"\"\""
   ]
  },
  {
   "cell_type": "code",
   "execution_count": 32,
   "id": "f8873720-f9dc-4ddd-b9a9-76fcbbb87636",
   "metadata": {},
   "outputs": [],
   "source": [
    "import pandas as pd"
   ]
  },
  {
   "cell_type": "code",
   "execution_count": 33,
   "id": "8f4e7a56-d044-4a5c-a395-eeb6107c99b2",
   "metadata": {},
   "outputs": [],
   "source": [
    "df_mds = pd.DataFrame(np.c_[mds_dist_concat[leaves], labels[leaves].astype(int)], columns=[\"mds_dist\", \"label\"])"
   ]
  },
  {
   "cell_type": "code",
   "execution_count": 34,
   "id": "d635afe1-844f-4ab6-bf23-5b941dbf7e6e",
   "metadata": {},
   "outputs": [
    {
     "data": {
      "text/html": [
       "<div>\n",
       "<style scoped>\n",
       "    .dataframe tbody tr th:only-of-type {\n",
       "        vertical-align: middle;\n",
       "    }\n",
       "\n",
       "    .dataframe tbody tr th {\n",
       "        vertical-align: top;\n",
       "    }\n",
       "\n",
       "    .dataframe thead th {\n",
       "        text-align: right;\n",
       "    }\n",
       "</style>\n",
       "<table border=\"1\" class=\"dataframe\">\n",
       "  <thead>\n",
       "    <tr style=\"text-align: right;\">\n",
       "      <th></th>\n",
       "      <th>mds_dist</th>\n",
       "      <th>label</th>\n",
       "    </tr>\n",
       "  </thead>\n",
       "  <tbody>\n",
       "    <tr>\n",
       "      <th>0</th>\n",
       "      <td>66.335506</td>\n",
       "      <td>1.0</td>\n",
       "    </tr>\n",
       "    <tr>\n",
       "      <th>1</th>\n",
       "      <td>69.508063</td>\n",
       "      <td>1.0</td>\n",
       "    </tr>\n",
       "    <tr>\n",
       "      <th>2</th>\n",
       "      <td>56.011912</td>\n",
       "      <td>1.0</td>\n",
       "    </tr>\n",
       "    <tr>\n",
       "      <th>3</th>\n",
       "      <td>62.178611</td>\n",
       "      <td>1.0</td>\n",
       "    </tr>\n",
       "    <tr>\n",
       "      <th>4</th>\n",
       "      <td>65.828025</td>\n",
       "      <td>1.0</td>\n",
       "    </tr>\n",
       "    <tr>\n",
       "      <th>...</th>\n",
       "      <td>...</td>\n",
       "      <td>...</td>\n",
       "    </tr>\n",
       "    <tr>\n",
       "      <th>139</th>\n",
       "      <td>213.325365</td>\n",
       "      <td>3.0</td>\n",
       "    </tr>\n",
       "    <tr>\n",
       "      <th>140</th>\n",
       "      <td>174.706219</td>\n",
       "      <td>3.0</td>\n",
       "    </tr>\n",
       "    <tr>\n",
       "      <th>141</th>\n",
       "      <td>205.303094</td>\n",
       "      <td>3.0</td>\n",
       "    </tr>\n",
       "    <tr>\n",
       "      <th>142</th>\n",
       "      <td>159.021695</td>\n",
       "      <td>3.0</td>\n",
       "    </tr>\n",
       "    <tr>\n",
       "      <th>143</th>\n",
       "      <td>159.313539</td>\n",
       "      <td>3.0</td>\n",
       "    </tr>\n",
       "  </tbody>\n",
       "</table>\n",
       "<p>144 rows × 2 columns</p>\n",
       "</div>"
      ],
      "text/plain": [
       "       mds_dist  label\n",
       "0     66.335506    1.0\n",
       "1     69.508063    1.0\n",
       "2     56.011912    1.0\n",
       "3     62.178611    1.0\n",
       "4     65.828025    1.0\n",
       "..          ...    ...\n",
       "139  213.325365    3.0\n",
       "140  174.706219    3.0\n",
       "141  205.303094    3.0\n",
       "142  159.021695    3.0\n",
       "143  159.313539    3.0\n",
       "\n",
       "[144 rows x 2 columns]"
      ]
     },
     "execution_count": 34,
     "metadata": {},
     "output_type": "execute_result"
    }
   ],
   "source": [
    "df_mds"
   ]
  },
  {
   "cell_type": "code",
   "execution_count": 35,
   "id": "087293a9-10c8-4fd2-a1ce-5af67524b88b",
   "metadata": {},
   "outputs": [],
   "source": [
    "cols = [\"#DC267F\", \"#648FFF\", \"#FFB000\"]#[\"#66C2A5\",\"#FC8D62\",\"#8DA0CB\"]\n",
    "pal = {i+1: cols[i] for i in range(3)}\n",
    "#pal = {1.0: \"tab:red\", 2.0: \"tab:purple\", 3.0: \"tab:blue\"}"
   ]
  },
  {
   "cell_type": "code",
   "execution_count": 36,
   "id": "8d55cad1-eaf8-473f-8893-8aec666f589f",
   "metadata": {},
   "outputs": [
    {
     "data": {
      "text/plain": [
       "{1: '#DC267F', 2: '#648FFF', 3: '#FFB000'}"
      ]
     },
     "execution_count": 36,
     "metadata": {},
     "output_type": "execute_result"
    }
   ],
   "source": [
    "pal"
   ]
  },
  {
   "cell_type": "code",
   "execution_count": 37,
   "id": "63bc3d31-516b-47f5-bbde-464ec83dabe5",
   "metadata": {},
   "outputs": [],
   "source": [
    "labels2 = np.load(\"../results/attn_best_label_N2010.npy\")"
   ]
  },
  {
   "cell_type": "code",
   "execution_count": 38,
   "id": "19e2dff5-47fd-4528-97b5-f5a36b5767b6",
   "metadata": {},
   "outputs": [
    {
     "data": {
      "text/plain": [
       "array([ True,  True,  True,  True,  True,  True,  True,  True,  True,\n",
       "        True,  True,  True,  True,  True,  True,  True,  True,  True,\n",
       "        True,  True,  True,  True,  True,  True,  True,  True,  True,\n",
       "        True,  True,  True,  True,  True,  True,  True,  True,  True,\n",
       "        True,  True,  True,  True,  True,  True,  True,  True,  True,\n",
       "        True,  True,  True,  True,  True,  True,  True,  True,  True,\n",
       "        True,  True,  True,  True,  True,  True,  True,  True,  True,\n",
       "        True,  True,  True,  True,  True,  True,  True,  True,  True,\n",
       "        True,  True,  True,  True,  True,  True,  True,  True,  True,\n",
       "        True,  True,  True,  True,  True,  True,  True,  True,  True,\n",
       "        True,  True,  True,  True,  True,  True,  True,  True,  True,\n",
       "        True,  True,  True,  True,  True,  True,  True,  True,  True,\n",
       "        True,  True,  True,  True,  True,  True,  True,  True,  True,\n",
       "        True,  True,  True,  True,  True,  True,  True,  True,  True,\n",
       "        True,  True,  True,  True,  True,  True,  True,  True,  True,\n",
       "        True,  True,  True,  True,  True,  True,  True,  True,  True])"
      ]
     },
     "execution_count": 38,
     "metadata": {},
     "output_type": "execute_result"
    }
   ],
   "source": [
    "(labels == 3) == (labels2 == 2)"
   ]
  },
  {
   "cell_type": "code",
   "execution_count": 39,
   "id": "6adfc518-834b-4bb5-9002-bfdad086820e",
   "metadata": {},
   "outputs": [],
   "source": [
    "cols = [\"#56B4E9\", \"#FFB000\", \"#DC267F\"]#\"#DC267F\", \"#648FFF\", \"#FFB000\"]\n",
    "pal = {i+1: cols[i] for i in range(3)}"
   ]
  },
  {
   "cell_type": "code",
   "execution_count": 40,
   "id": "8b79787f-8597-4b55-b5ad-a334260faab5",
   "metadata": {},
   "outputs": [
    {
     "data": {
      "text/plain": [
       "{1: '#56B4E9', 2: '#FFB000', 3: '#DC267F'}"
      ]
     },
     "execution_count": 40,
     "metadata": {},
     "output_type": "execute_result"
    }
   ],
   "source": [
    "pal"
   ]
  },
  {
   "cell_type": "code",
   "execution_count": 41,
   "id": "9ab17126-3c51-488b-aaa5-3144cf55d951",
   "metadata": {},
   "outputs": [],
   "source": [
    "dfs = pd.DataFrame(np.c_[X_transformed, labels], columns=[\"x\", \"y\", \"label\"])"
   ]
  },
  {
   "cell_type": "code",
   "execution_count": 42,
   "id": "a4f6c52a-35fe-4bc3-874a-b2724b4b034f",
   "metadata": {},
   "outputs": [
    {
     "data": {
      "image/png": "[encoded data removed]",
      "text/plain": [
       "<Figure size 500x250 with 3 Axes>"
      ]
     },
     "metadata": {},
     "output_type": "display_data"
    }
   ],
   "source": [
    "fig, axes = plt.subplots(1,3, figsize=(5, 2.5), width_ratios=[0.4, 1, 0.4])\n",
    "set_link_color_palette(cols)#([cmap(7), cmap(0), cmap(1), cmap(2)])\n",
    "dn = dendrogram(Z, no_labels=True, ax=axes[0], above_threshold_color=\"tab:gray\")\n",
    "axes[0].axhline(0.7*max(Z[:,2]), linestyle=\"--\", color=\"k\", alpha=0.5)\n",
    "#axes[1].scatter(X_transformed[leaves, 0], X_transformed[leaves, 1], c=cmap(labels[leaves]-1))\n",
    "#axes[1].scatter(X_transformed[leaves, 0], X_transformed[leaves, 1], c=dn['leaves_color_list'], alpha=0.8)\n",
    "sns.scatterplot(data=dfs, x=\"x\", y=\"y\", hue=\"label\", ax=axes[1], palette=pal, style=\"label\", legend=False)\n",
    "axes[1].set_title(\"Hierarchical clustering\")\n",
    "axes[0].set_ylabel(\"Cluster distance\")\n",
    "axes[1].set_ylabel(\"MDS 2\")\n",
    "axes[1].set_xlabel(\"MDS 1\")\n",
    "axes[1].set_box_aspect(1)\n",
    "for i in range(3):\n",
    "    axes[i].minorticks_on()\n",
    "sns.kdeplot(data=df_mds, y=\"mds_dist\", hue=\"label\", ax=axes[2], fill=True, palette=pal)\n",
    "axes[2].set_ylabel(\"MDS distance\")\n",
    "axes[2].set_ylim(0, )\n",
    "axes[2].set_xlim(0, )\n",
    "axes[2].ticklabel_format(\n",
    "    axis='x',\n",
    "    style='sci',\n",
    "    scilimits=(0, -3),  # x10^(-3) 指定\n",
    "    useMathText=True,  # x10^N\n",
    ")\n",
    "#axes[2].set_yticks([])\n",
    "axes[2].get_legend().remove()\n",
    "fig.tight_layout()\n",
    "fig.savefig(\"../figures/head_grouping.svg\", dpi=300, bbox_inches=\"tight\")"
   ]
  },
  {
   "cell_type": "code",
   "execution_count": 43,
   "id": "6bcab5e7-24bf-45ee-a096-a5b888e28751",
   "metadata": {},
   "outputs": [
    {
     "name": "stdout",
     "output_type": "stream",
     "text": [
      "1 12 12\n",
      "2 42 50\n",
      "3 18 10\n"
     ]
    }
   ],
   "source": [
    "gleaves = []\n",
    "for i in range(1, 4):\n",
    "    lidx = np.where(labels == i)[0]\n",
    "    print(i, np.sum(lidx < 72), np.sum(lidx >= 72))"
   ]
  }
 ],
 "metadata": {
  "kernelspec": {
   "display_name": "Python 3 (ipykernel)",
   "language": "python",
   "name": "python3"
  },
  "language_info": {
   "codemirror_mode": {
    "name": "ipython",
    "version": 3
   },
   "file_extension": ".py",
   "mimetype": "text/x-python",
   "name": "python",
   "nbconvert_exporter": "python",
   "pygments_lexer": "ipython3",
   "version": "3.10.11"
  }
 },
 "nbformat": 4,
 "nbformat_minor": 5
}
