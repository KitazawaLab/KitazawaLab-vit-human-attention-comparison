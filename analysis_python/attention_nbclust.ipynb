{
 "cells": [
  {
   "cell_type": "code",
   "execution_count": 1,
   "id": "a0365f2b-16cf-41ef-8495-66ab5324f749",
   "metadata": {},
   "outputs": [],
   "source": [
    "import numpy as np\n",
    "from scipy.spatial.distance import squareform\n",
    "import pyper\n",
    "r = pyper.R(use_pandas='True')\n",
    "r(\"library(NbClust)\")"
   ]
  },
  {
   "cell_type": "code",
   "execution_count": 4,
   "id": "9437ba30-4882-4855-959c-c969f29e0757",
   "metadata": {},
   "outputs": [],
   "source": [
    "dist_mat_all = np.load(\"dino_vit_attention_dist_mat_N2010.npz\")[\"dist_mat\"]\n",
    "dist_mat = np.mean(data, axis=0)\n",
    "dist_mat_sq = squareform(dist_mat)"
   ]
  },
  {
   "cell_type": "code",
   "execution_count": 36,
   "id": "db35bf09-a02e-4288-9bba-c47a27602c6e",
   "metadata": {},
   "outputs": [],
   "source": [
    "attn_pca = np.load(\"dino_vit_attention_PCA128_N2010.npz\")[\"embed\"]"
   ]
  },
  {
   "cell_type": "code",
   "execution_count": 38,
   "id": "a8c35567-59a6-45f7-8a9c-453364eb72d7",
   "metadata": {},
   "outputs": [],
   "source": [
    "r.assign('dist_mat', dist_mat_sq)\n",
    "r('dist_mat = as.dist(dist_mat)')\n",
    "r.assign('data', attn_pca)"
   ]
  },
  {
   "cell_type": "code",
   "execution_count": 74,
   "id": "3900556d-e6b4-4031-a88b-8496207cb427",
   "metadata": {},
   "outputs": [
    {
     "name": "stdout",
     "output_type": "stream",
     "text": [
      "try({res <- NbClust(data, diss=dist_mat, distance=NULL, min.nc=2, max.nc=10, method=\"ward.D2\", index=\"alllong\")})\n",
      "*** : The Hubert index is a graphical method of determining the number of clusters.\n",
      "                In the plot of Hubert index, we seek a significant knee that corresponds to a \n",
      "                significant increase of the value of the measure i.e the significant peak in Hubert\n",
      "                index second differences plot. \n",
      " \n",
      "*** : The D index is a graphical method of determining the number of clusters. \n",
      "                In the plot of D index, we seek a significant knee (the significant peak in Dindex\n",
      "                second differences plot) that corresponds to a significant increase of the value of\n",
      "                the measure. \n",
      " \n",
      "******************************************************************* \n",
      "* Among all indices:                                                \n",
      "* 7 proposed 2 as the best number of clusters \n",
      "* 8 proposed 3 as the best number of clusters \n",
      "* 1 proposed 7 as the best number of clusters \n",
      "* 1 proposed 9 as the best number of clusters \n",
      "* 7 proposed 10 as the best number of clusters \n",
      "\n",
      "                   ***** Conclusion *****                            \n",
      " \n",
      "* According to the majority rule, the best number of clusters is  3 \n",
      " \n",
      " \n",
      "******************************************************************* \n",
      "\n"
     ]
    }
   ],
   "source": [
    "#res_log = r('res <- NbClust(data, diss=dist_mat, distance=NULL, min.nc=2, max.nc=10, method=\"ward.D2\", index=\"alllong\")')\n",
    "res_log = r('res <- NbClust(data, diss=dist_mat, distance=NULL, min.nc=2, max.nc=10, method=\"ward.D2\", index=\"all\")')\n",
    "print(res_log)"
   ]
  },
  {
   "cell_type": "code",
   "execution_count": 66,
   "id": "6a1a336f-caf6-4ab0-a934-92d8be6bac90",
   "metadata": {
    "scrolled": true
   },
   "outputs": [
    {
     "name": "stdout",
     "output_type": "stream",
     "text": [
      "try({res$Best.nc})\n",
      "                    KL     CH Hartigan     CCC    Scott Marriot TrCovW  TraceW\n",
      "Number_clusters 2.0000  2.000   3.0000 10.0000    7.000       3 3.0000  3.0000\n",
      "Value_Index     2.8396 45.871   9.5369  7.1155 1197.524       0 5.8782 12.3629\n",
      "                Friedman   Rubin  Cindex     DB Silhouette Duda PseudoT2 Beale\n",
      "Number_clusters     9.00  3.0000 10.0000 2.0000    10.0000   NA       NA    NA\n",
      "Value_Index      5716.83 -0.0776  0.4073 1.3616     0.3171   NA       NA    NA\n",
      "                Ratkowsky    Ball PtBiserial Frey McClain   Dunn Hubert SDindex\n",
      "Number_clusters   10.0000  3.0000     3.0000    1   2.000 2.0000      0  2.0000\n",
      "Value_Index        0.0584 40.6137     0.5859   NA   0.279 0.2928      0  2.3763\n",
      "                Dindex    SDbw\n",
      "Number_clusters      0 10.0000\n",
      "Value_Index          0  0.2094\n",
      "\n"
     ]
    }
   ],
   "source": [
    "print(r('res$Best.nc'))"
   ]
  },
  {
   "cell_type": "code",
   "execution_count": 75,
   "id": "0609fdbd-767f-4f63-ad21-7d39eb0ba689",
   "metadata": {},
   "outputs": [],
   "source": [
    "best_label = r.get('res$Best.partition')"
   ]
  },
  {
   "cell_type": "code",
   "execution_count": 76,
   "id": "b2912dd5-3a6e-4069-82fe-285d951314a2",
   "metadata": {},
   "outputs": [
    {
     "data": {
      "text/plain": [
       "(array([1, 2, 3]), array([24, 28, 92], dtype=int64))"
      ]
     },
     "execution_count": 76,
     "metadata": {},
     "output_type": "execute_result"
    }
   ],
   "source": [
    "np.unique(best_label, return_counts=True)"
   ]
  },
  {
   "cell_type": "code",
   "execution_count": 77,
   "id": "97b6e0f9-641f-4f1d-b1a6-8b5c3acdd53c",
   "metadata": {},
   "outputs": [],
   "source": [
    "np.save(\"../results/attn_best_label_N2010.npy\", best_label)"
   ]
  }
 ],
 "metadata": {
  "kernelspec": {
   "display_name": "Python 3 (ipykernel)",
   "language": "python",
   "name": "python3"
  },
  "language_info": {
   "codemirror_mode": {
    "name": "ipython",
    "version": 3
   },
   "file_extension": ".py",
   "mimetype": "text/x-python",
   "name": "python",
   "nbconvert_exporter": "python",
   "pygments_lexer": "ipython3",
   "version": "3.10.11"
  }
 },
 "nbformat": 4,
 "nbformat_minor": 5
}
