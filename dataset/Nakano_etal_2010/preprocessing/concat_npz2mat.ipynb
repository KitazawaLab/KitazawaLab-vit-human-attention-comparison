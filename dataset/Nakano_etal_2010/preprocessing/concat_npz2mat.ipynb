{
 "cells": [
  {
   "cell_type": "code",
   "execution_count": 1,
   "id": "f6b98825-67aa-48d5-924e-085bbe5bf9c8",
   "metadata": {},
   "outputs": [],
   "source": [
    "import numpy as np\n",
    "import matplotlib.pyplot as plt\n",
    "from scipy.io import loadmat, savemat\n",
    "import os\n",
    "import glob\n",
    "import pandas as pd"
   ]
  },
  {
   "cell_type": "code",
   "execution_count": 2,
   "id": "912381f2-6c5d-47cc-9323-8808f9e2fcfe",
   "metadata": {},
   "outputs": [],
   "source": [
    "subj2vit_dist = np.load(\"../preprocessed_data/subj2vit_dist.npz\", allow_pickle=True)\n",
    "subj2vit_official_dist = np.load(\"../preprocessed_data/subj2vit_official_dist.npz\", allow_pickle=True)\n",
    "subj2gbvs_dist = np.load(\"../preprocessed_data/subj2gbvs_dist.npz\", allow_pickle=True)\n",
    "subj2subj_dist = np.load(\"../preprocessed_data/subj2subj_dist.npz\", allow_pickle=True)"
   ]
  },
  {
   "cell_type": "code",
   "execution_count": 3,
   "id": "f0c557eb-661b-486c-8b15-33858b2ecf30",
   "metadata": {},
   "outputs": [
    {
     "data": {
      "text/plain": [
       "['dist_mat', 'gr_goodsubj', 'group_name']"
      ]
     },
     "execution_count": 3,
     "metadata": {},
     "output_type": "execute_result"
    }
   ],
   "source": [
    "subj2subj_dist.files"
   ]
  },
  {
   "cell_type": "code",
   "execution_count": 4,
   "id": "ee25d5ca-0737-45a4-b324-527351b0dbc7",
   "metadata": {},
   "outputs": [
    {
     "data": {
      "text/plain": [
       "['dino', 'supervised']"
      ]
     },
     "execution_count": 4,
     "metadata": {},
     "output_type": "execute_result"
    }
   ],
   "source": [
    "subj2vit_dist.files"
   ]
  },
  {
   "cell_type": "code",
   "execution_count": 5,
   "id": "318d065c-6a49-4370-944e-52effcdca9f7",
   "metadata": {},
   "outputs": [],
   "source": [
    "training_methods = [\"dino\", \"supervised\"] \n",
    "official_model_keys = ['dino_deit_small16', 'supervised_deit_small16']\n",
    "depth_list = [4, 8, 12]"
   ]
  },
  {
   "cell_type": "code",
   "execution_count": 6,
   "id": "a053f371-fd31-4353-9483-330ec68e763b",
   "metadata": {},
   "outputs": [],
   "source": [
    "dist_mat_all_dict = {}\n",
    "for tm in training_methods:\n",
    "    for depth in depth_list:\n",
    "        dist_mat_all_dict[f\"{tm}_{str(depth)}\"] = subj2vit_dist[tm].item()[str(depth)]\n",
    "for key in official_model_keys:\n",
    "    dist_mat_all_dict[key] = subj2vit_official_dist[key]"
   ]
  },
  {
   "cell_type": "code",
   "execution_count": 7,
   "id": "407a75a3-89a2-4771-9700-e569028cf357",
   "metadata": {},
   "outputs": [],
   "source": [
    "dist_mat_all_dict[\"subj\"] = subj2subj_dist[\"dist_mat\"]"
   ]
  },
  {
   "cell_type": "code",
   "execution_count": 8,
   "id": "ddc94a1c-2744-426e-9ae0-90f4c1096646",
   "metadata": {},
   "outputs": [
    {
     "data": {
      "text/plain": [
       "['All',\n",
       " 'Intensity',\n",
       " 'Orientation',\n",
       " 'Contrast',\n",
       " 'Flicker',\n",
       " 'Motion',\n",
       " 'DKL_Color']"
      ]
     },
     "execution_count": 8,
     "metadata": {},
     "output_type": "execute_result"
    }
   ],
   "source": [
    "subj2gbvs_dist.files"
   ]
  },
  {
   "cell_type": "code",
   "execution_count": 9,
   "id": "379bba1e-cadc-4f51-817f-3d503fa648d2",
   "metadata": {},
   "outputs": [],
   "source": [
    "subj2gbvs_dist_concat = np.array([subj2gbvs_dist[key] for key in subj2gbvs_dist.files])\n",
    "dist_mat_all_dict[\"gbvs\"] = subj2gbvs_dist_concat.T"
   ]
  },
  {
   "cell_type": "code",
   "execution_count": 10,
   "id": "6908f63b-a512-41a5-beff-d4789e0b32e3",
   "metadata": {},
   "outputs": [
    {
     "data": {
      "text/plain": [
       "dict_keys(['dino_4', 'dino_8', 'dino_12', 'supervised_4', 'supervised_8', 'supervised_12', 'dino_deit_small16', 'supervised_deit_small16', 'subj', 'gbvs'])"
      ]
     },
     "execution_count": 10,
     "metadata": {},
     "output_type": "execute_result"
    }
   ],
   "source": [
    "dist_mat_all_dict.keys()"
   ]
  },
  {
   "cell_type": "code",
   "execution_count": 11,
   "id": "f2b3a4a7-2df9-46b0-8525-6ad494e86f6b",
   "metadata": {},
   "outputs": [],
   "source": [
    "savemat(\"../preprocessed_data/subj2subj_vit_gbvs_N2010.mat\", dist_mat_all_dict)"
   ]
  }
 ],
 "metadata": {
  "kernelspec": {
   "display_name": "Python 3 (ipykernel)",
   "language": "python",
   "name": "python3"
  },
  "language_info": {
   "codemirror_mode": {
    "name": "ipython",
    "version": 3
   },
   "file_extension": ".py",
   "mimetype": "text/x-python",
   "name": "python",
   "nbconvert_exporter": "python",
   "pygments_lexer": "ipython3",
   "version": "3.10.11"
  }
 },
 "nbformat": 4,
 "nbformat_minor": 5
}
