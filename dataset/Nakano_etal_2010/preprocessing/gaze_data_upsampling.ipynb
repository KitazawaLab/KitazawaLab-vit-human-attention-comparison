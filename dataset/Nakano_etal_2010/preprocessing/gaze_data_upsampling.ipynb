{
 "cells": [
  {
   "cell_type": "code",
   "execution_count": 1,
   "id": "80d79d91-ab19-4331-b712-7f0b02fb14d3",
   "metadata": {},
   "outputs": [
    {
     "data": {
      "text/plain": [
       "'\\nx = np.arange(0, 10)\\ny = np.exp(-x/3.0)\\ny[5] = np.nan\\nf = interpolate.interp1d(x, y, kind=\"nearest\")\\n\\nxnew = np.arange(0, 9, 0.1)\\nynew = f(xnew) \\nplt.plot(x, y, \\'o\\', xnew, ynew, \\'-\\')\\n'"
      ]
     },
     "execution_count": 1,
     "metadata": {},
     "output_type": "execute_result"
    }
   ],
   "source": [
    "\"\"\"\n",
    "x = np.arange(0, 10)\n",
    "y = np.exp(-x/3.0)\n",
    "y[5] = np.nan\n",
    "f = interpolate.interp1d(x, y, kind=\"nearest\")\n",
    "\n",
    "xnew = np.arange(0, 9, 0.1)\n",
    "ynew = f(xnew) \n",
    "plt.plot(x, y, 'o', xnew, ynew, '-')\n",
    "\"\"\""
   ]
  },
  {
   "cell_type": "code",
   "execution_count": 2,
   "id": "e0b2d063-3e24-4e5b-88be-96a6e9dd559b",
   "metadata": {},
   "outputs": [],
   "source": [
    "import numpy as np\n",
    "from tqdm.notebook import tqdm\n",
    "from scipy import interpolate\n",
    "import matplotlib.pyplot as plt"
   ]
  },
  {
   "cell_type": "code",
   "execution_count": 3,
   "id": "399c5883-3ace-41c0-aec8-01fb45a3fa1f",
   "metadata": {},
   "outputs": [],
   "source": [
    "blanks = np.hstack(\n",
    "    [np.arange(140, 155), np.arange(311, 326), np.arange(538, 553), \n",
    "     np.arange(740, 772), np.arange(911, 926), np.arange(1094, 1123),\n",
    "     np.arange(1319, 1334), np.arange(1651, 1666), np.arange(1835, 1850), \n",
    "     np.arange(1988, 2003), np.arange(2167, 2182), 2326])"
   ]
  },
  {
   "cell_type": "code",
   "execution_count": 4,
   "id": "949117a3-1610-42ed-937b-2a85f0a5a3b8",
   "metadata": {},
   "outputs": [],
   "source": [
    "training_methods = [\"dino\", \"supervised\"] \n",
    "depth_list = [4, 8, 12]\n",
    "num_models = 6\n",
    "num_heads = 6\n",
    "num_frames = 2327\n",
    "num_sampling = 3883"
   ]
  },
  {
   "cell_type": "code",
   "execution_count": 5,
   "id": "37d4005f-c8ce-4d69-9a6c-62b0a46aa234",
   "metadata": {},
   "outputs": [],
   "source": [
    "time = np.linspace(0, 1.0, num_frames)\n",
    "time_upsample = np.linspace(0, 1.0, num_sampling)"
   ]
  },
  {
   "cell_type": "code",
   "execution_count": 6,
   "id": "aa1b8f43-1634-47ab-bca7-f9d543687b79",
   "metadata": {},
   "outputs": [],
   "source": [
    "vit_gaze_pos_data = np.load(\"../preprocessed_data/vit_gaze_pos.npz\", allow_pickle=True)"
   ]
  },
  {
   "cell_type": "code",
   "execution_count": 7,
   "id": "0173b3de-6b3c-4e93-ac40-160b10d32e80",
   "metadata": {},
   "outputs": [
    {
     "data": {
      "application/vnd.jupyter.widget-view+json": {
       "model_id": "2772e78a18604a62a0a7a4e558fdec20",
       "version_major": 2,
       "version_minor": 0
      },
      "text/plain": [
       "  0%|          | 0/2 [00:00<?, ?it/s]"
      ]
     },
     "metadata": {},
     "output_type": "display_data"
    },
    {
     "name": "stdout",
     "output_type": "stream",
     "text": [
      "dino 4\n",
      "(6, 4, 7, 2327, 2)\n"
     ]
    },
    {
     "data": {
      "application/vnd.jupyter.widget-view+json": {
       "model_id": "4fe83fc595d14d00967810a58f1b5630",
       "version_major": 2,
       "version_minor": 0
      },
      "text/plain": [
       "  0%|          | 0/6 [00:00<?, ?it/s]"
      ]
     },
     "metadata": {},
     "output_type": "display_data"
    },
    {
     "name": "stdout",
     "output_type": "stream",
     "text": [
      "dino 8\n",
      "(6, 8, 7, 2327, 2)\n"
     ]
    },
    {
     "data": {
      "application/vnd.jupyter.widget-view+json": {
       "model_id": "a5347d146a93413e82794c5d1a7bcebd",
       "version_major": 2,
       "version_minor": 0
      },
      "text/plain": [
       "  0%|          | 0/6 [00:00<?, ?it/s]"
      ]
     },
     "metadata": {},
     "output_type": "display_data"
    },
    {
     "name": "stdout",
     "output_type": "stream",
     "text": [
      "dino 12\n",
      "(6, 12, 7, 2327, 2)\n"
     ]
    },
    {
     "data": {
      "application/vnd.jupyter.widget-view+json": {
       "model_id": "3a12c552c80045009e275cf019736434",
       "version_major": 2,
       "version_minor": 0
      },
      "text/plain": [
       "  0%|          | 0/6 [00:00<?, ?it/s]"
      ]
     },
     "metadata": {},
     "output_type": "display_data"
    },
    {
     "name": "stdout",
     "output_type": "stream",
     "text": [
      "supervised 4\n",
      "(6, 4, 7, 2327, 2)\n"
     ]
    },
    {
     "data": {
      "application/vnd.jupyter.widget-view+json": {
       "model_id": "58e4c470b5654aebb26ddbc090b007d5",
       "version_major": 2,
       "version_minor": 0
      },
      "text/plain": [
       "  0%|          | 0/6 [00:00<?, ?it/s]"
      ]
     },
     "metadata": {},
     "output_type": "display_data"
    },
    {
     "name": "stdout",
     "output_type": "stream",
     "text": [
      "supervised 8\n",
      "(6, 8, 7, 2327, 2)\n"
     ]
    },
    {
     "data": {
      "application/vnd.jupyter.widget-view+json": {
       "model_id": "e9843b550a8d47daa64401eef0195abb",
       "version_major": 2,
       "version_minor": 0
      },
      "text/plain": [
       "  0%|          | 0/6 [00:00<?, ?it/s]"
      ]
     },
     "metadata": {},
     "output_type": "display_data"
    },
    {
     "name": "stdout",
     "output_type": "stream",
     "text": [
      "supervised 12\n",
      "(6, 12, 7, 2327, 2)\n"
     ]
    },
    {
     "data": {
      "application/vnd.jupyter.widget-view+json": {
       "model_id": "3c5baa39ab9a46f9af4ea3f5aedf2abd",
       "version_major": 2,
       "version_minor": 0
      },
      "text/plain": [
       "  0%|          | 0/6 [00:00<?, ?it/s]"
      ]
     },
     "metadata": {},
     "output_type": "display_data"
    }
   ],
   "source": [
    "res_dict = {}\n",
    "res_dict[\"info\"] = [\"num_models\", \"depth\", \"num_head+mean\", \"num_sampling\", \"xy\"]\n",
    "for tm in tqdm(training_methods):\n",
    "    gaze_pos_tm = vit_gaze_pos_data[tm].item()\n",
    "    res_dict[tm] = {}\n",
    "    for depth in depth_list:\n",
    "        print(tm, depth)\n",
    "        gaze_pos_depth = gaze_pos_tm[str(depth)]\n",
    "        #gaze_pos_depth[:, :, :, blanks, :] = np.nan\n",
    "        print(gaze_pos_depth.shape)\n",
    "        gaze_pos_upsample = np.zeros((num_models, depth, num_heads+1, num_sampling, 2))\n",
    "        for trial_idx in tqdm(range(num_models)):\n",
    "            for d in range(depth):\n",
    "                for h in range(num_heads+1):\n",
    "                    for i in range(2): # x, y\n",
    "                        gp = gaze_pos_depth[trial_idx, d, h, :, i]\n",
    "                        f = interpolate.interp1d(time, gp, kind=\"nearest\")\n",
    "                        gp_upsample = f(time_upsample) \n",
    "                        gaze_pos_upsample[trial_idx, d, h, :, i] = gp_upsample\n",
    "        res_dict[tm][str(depth)] = gaze_pos_upsample"
   ]
  },
  {
   "cell_type": "code",
   "execution_count": 8,
   "id": "33ee2fb6-8314-43ea-b264-83c92a1eca8a",
   "metadata": {},
   "outputs": [],
   "source": [
    "save_dir = \"../preprocessed_data/\"\n",
    "np.savez_compressed(f\"{save_dir}/vit_gaze_pos_upsample.npz\", **res_dict)"
   ]
  },
  {
   "cell_type": "code",
   "execution_count": null,
   "id": "6f87148c-6953-4c96-8857-4a1144438a80",
   "metadata": {},
   "outputs": [],
   "source": []
  },
  {
   "cell_type": "code",
   "execution_count": null,
   "id": "48132ef3-9544-475a-8415-272b52039892",
   "metadata": {},
   "outputs": [],
   "source": []
  },
  {
   "cell_type": "code",
   "execution_count": 9,
   "id": "b8979fed-1f95-44fb-a199-728a6919a1ac",
   "metadata": {},
   "outputs": [
    {
     "data": {
      "text/plain": [
       "(0.0, 0.3)"
      ]
     },
     "execution_count": 9,
     "metadata": {},
     "output_type": "execute_result"
    },
    {
     "data": {
      "image/png": "[encoded data removed]",
      "text/plain": [
       "<Figure size 640x480 with 1 Axes>"
      ]
     },
     "metadata": {},
     "output_type": "display_data"
    }
   ],
   "source": [
    "plt.plot(time, gp)\n",
    "plt.plot(time_upsample, gp_upsample)\n",
    "plt.xlim(0, 0.3)"
   ]
  }
 ],
 "metadata": {
  "kernelspec": {
   "display_name": "Python 3 (ipykernel)",
   "language": "python",
   "name": "python3"
  },
  "language_info": {
   "codemirror_mode": {
    "name": "ipython",
    "version": 3
   },
   "file_extension": ".py",
   "mimetype": "text/x-python",
   "name": "python",
   "nbconvert_exporter": "python",
   "pygments_lexer": "ipython3",
   "version": "3.10.11"
  }
 },
 "nbformat": 4,
 "nbformat_minor": 5
}
