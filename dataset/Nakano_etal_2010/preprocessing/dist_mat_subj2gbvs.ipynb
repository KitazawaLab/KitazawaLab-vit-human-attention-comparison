{
 "cells": [
  {
   "cell_type": "code",
   "execution_count": 2,
   "id": "acdbb3de-2279-410e-a44c-7756cad72a52",
   "metadata": {},
   "outputs": [],
   "source": [
    "import numpy as np\n",
    "import matplotlib.pyplot as plt\n",
    "from scipy.io import loadmat \n",
    "import os\n",
    "import glob\n",
    "\n",
    "import pandas as pd\n",
    "from tqdm.notebook import tqdm"
   ]
  },
  {
   "cell_type": "code",
   "execution_count": 3,
   "id": "41264837-f1c6-4baf-a2f3-e874918785dc",
   "metadata": {},
   "outputs": [],
   "source": [
    "gbvs_keys = ['All', 'Intensity', 'Orientation', 'Contrast', 'Flicker', 'Motion', 'DKL_Color']"
   ]
  },
  {
   "cell_type": "code",
   "execution_count": 4,
   "id": "89dc030d-4488-4d17-87a4-0b94e355ebcc",
   "metadata": {
    "scrolled": true
   },
   "outputs": [],
   "source": [
    "dist_mat_dict = {}\n",
    "# load subject gaze pos\n",
    "subj_gaze_pos = np.load(\"../preprocessed_data/goodsubj_gaze_pos.npz\", allow_pickle=True)[\"gaze_data_goodsubj\"]\n",
    "num_subj = len(subj_gaze_pos)\n",
    "\n",
    "# load vit gaze pos\n",
    "gbvs_gaze_pos_data = np.load(\"../preprocessed_data/gbvs_gaze_pos.npz\", allow_pickle=True)[\"gaze_pos_upsample\"]\n",
    "num_models = len(gbvs_gaze_pos_data)"
   ]
  },
  {
   "cell_type": "code",
   "execution_count": 6,
   "id": "10c1f00e-bd22-4a9b-999f-a97093e2af90",
   "metadata": {},
   "outputs": [
    {
     "data": {
      "text/plain": [
       "(7, 3883, 2)"
      ]
     },
     "execution_count": 6,
     "metadata": {},
     "output_type": "execute_result"
    }
   ],
   "source": [
    "gbvs_gaze_pos_data.shape"
   ]
  },
  {
   "cell_type": "code",
   "execution_count": 8,
   "id": "7e39254b-0b79-4013-82bc-95885cd90f6f",
   "metadata": {
    "scrolled": true
   },
   "outputs": [],
   "source": [
    "for g in range(num_models):\n",
    "    gbvs_gaze_pos_key = gbvs_gaze_pos_data[g]\n",
    "    dist_mat = np.zeros(num_subj)\n",
    "    for i in range(num_subj):\n",
    "        gaze_diff = gbvs_gaze_pos_key - subj_gaze_pos[i]\n",
    "        diff_norm = np.linalg.norm(gaze_diff, axis=-1)\n",
    "        dist_mat[i] = np.nanmedian(diff_norm, axis=-1)\n",
    "    dist_mat_dict[gbvs_keys[g]] = dist_mat"
   ]
  },
  {
   "cell_type": "code",
   "execution_count": 10,
   "id": "c5ea4d34-e9ff-46c0-bcec-b709e7f13b1e",
   "metadata": {},
   "outputs": [
    {
     "data": {
      "text/plain": [
       "(104,)"
      ]
     },
     "execution_count": 10,
     "metadata": {},
     "output_type": "execute_result"
    }
   ],
   "source": [
    "dist_mat.shape"
   ]
  },
  {
   "cell_type": "code",
   "execution_count": 12,
   "id": "4e41b912-d2f8-41f1-a636-2428116ff24b",
   "metadata": {},
   "outputs": [],
   "source": [
    "np.savez_compressed(\"../preprocessed_data/subj2gbvs_dist.npz\", **dist_mat_dict)"
   ]
  }
 ],
 "metadata": {
  "kernelspec": {
   "display_name": "Python 3 (ipykernel)",
   "language": "python",
   "name": "python3"
  },
  "language_info": {
   "codemirror_mode": {
    "name": "ipython",
    "version": 3
   },
   "file_extension": ".py",
   "mimetype": "text/x-python",
   "name": "python",
   "nbconvert_exporter": "python",
   "pygments_lexer": "ipython3",
   "version": "3.10.11"
  }
 },
 "nbformat": 4,
 "nbformat_minor": 5
}
