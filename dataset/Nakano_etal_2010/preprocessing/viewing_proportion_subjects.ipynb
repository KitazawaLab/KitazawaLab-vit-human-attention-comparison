{
 "cells": [
  {
   "cell_type": "code",
   "execution_count": 1,
   "id": "1b1797f8-227e-48ac-9d55-bbfe064f608c",
   "metadata": {},
   "outputs": [],
   "source": [
    "import numpy as np\n",
    "import matplotlib.pyplot as plt\n",
    "import matplotlib\n",
    "import seaborn as sns\n",
    "import scipy.io\n",
    "import pandas as pd\n",
    "from PIL import Image\n",
    "from tqdm.notebook import tqdm\n",
    "from scipy.io import savemat, loadmat"
   ]
  },
  {
   "cell_type": "code",
   "execution_count": 2,
   "id": "52737596-c63c-4806-bf48-c5c8bf123274",
   "metadata": {},
   "outputs": [],
   "source": [
    "#data_dir = \"../dataset/matfile/\"\n",
    "matfile = scipy.io.loadmat(\"../allclip1.mat\")\n",
    "xx_all = matfile[\"xx_all\"]\n",
    "yy_all = matfile[\"yy_all\"]"
   ]
  },
  {
   "cell_type": "code",
   "execution_count": 8,
   "id": "26386e72-9d5d-441f-a4b0-6a55c8243d00",
   "metadata": {},
   "outputs": [],
   "source": [
    "good_subj_data = np.load(\"../preprocessed_data/goodsubj_gaze_pos.npz\", allow_pickle=True)"
   ]
  },
  {
   "cell_type": "code",
   "execution_count": 9,
   "id": "22cb2efe-2549-4f2f-9bcd-710d325838e6",
   "metadata": {},
   "outputs": [],
   "source": [
    "gaze_data_goodsubj = good_subj_data[\"gaze_data_goodsubj\"]\n",
    "gr_goodsubj = good_subj_data[\"gr_goodsubj\"]\n",
    "group_name = good_subj_data[\"group_name\"]"
   ]
  },
  {
   "cell_type": "code",
   "execution_count": 10,
   "id": "856acddb-3663-4020-a2fd-5bdd054e0f58",
   "metadata": {},
   "outputs": [
    {
     "data": {
      "text/plain": [
       "(104, 3883, 2)"
      ]
     },
     "execution_count": 10,
     "metadata": {},
     "output_type": "execute_result"
    }
   ],
   "source": [
    "gaze_data_goodsubj.shape"
   ]
  },
  {
   "cell_type": "code",
   "execution_count": 11,
   "id": "d5c70207-157e-4710-811d-bf9c5bc44c41",
   "metadata": {},
   "outputs": [],
   "source": [
    "def omitnan(x):\n",
    "    return x[~np.isnan(x)]"
   ]
  },
  {
   "cell_type": "code",
   "execution_count": null,
   "id": "8c5c9a9a-361a-421e-95df-6f3d29098b61",
   "metadata": {},
   "outputs": [],
   "source": [
    "num_keypoints = 18\n",
    "sigma = 30\n",
    "num_subj, num_tracking, _ = gaze_data_goodsubj.shape\n",
    "print(num_subj, num_tracking, num_keypoints)\n",
    "gaze_weight = np.zeros((num_subj, num_tracking, num_keypoints)) # to output\n",
    "for track_idx in tqdm(range(num_tracking)):\n",
    "    if not np.isnan(xx_all[:, track_idx]).all(): # key point is not nan\n",
    "        x_key = omitnan(xx_all[:, track_idx])\n",
    "        y_key = omitnan(yy_all[:, track_idx])\n",
    "        num_not_nan = len(x_key)\n",
    "        for subj_idx in range(num_subj):\n",
    "            x_eye, y_eye = model_eye_pos_all[subj_idx, track_idx]\n",
    "            d = np.exp(- ((x_key - x_eye)**2 + (y_key - y_eye)**2) / (2*(sigma**2)))\n",
    "            if np.sum(d) > 1:\n",
    "                gaze_weight[subj_idx, track_idx, :num_not_nan] = d / np.sum(d) # normalization & save\n",
    "            elif np.sum(d) <= 1 and np.sum(d) > 0:\n",
    "                gaze_weight[subj_idx, track_idx, :num_not_nan] = d"
   ]
  },
  {
   "cell_type": "code",
   "execution_count": null,
   "id": "5389e832-5250-4200-94de-827463e20d02",
   "metadata": {},
   "outputs": [],
   "source": []
  },
  {
   "cell_type": "code",
   "execution_count": null,
   "id": "b29657ae-61b8-4655-bc6c-cc5711aac4ff",
   "metadata": {},
   "outputs": [],
   "source": []
  },
  {
   "cell_type": "code",
   "execution_count": null,
   "id": "0b081554-4e06-45f3-9b52-9ed6a93bede9",
   "metadata": {},
   "outputs": [],
   "source": []
  }
 ],
 "metadata": {
  "kernelspec": {
   "display_name": "Python 3 (ipykernel)",
   "language": "python",
   "name": "python3"
  },
  "language_info": {
   "codemirror_mode": {
    "name": "ipython",
    "version": 3
   },
   "file_extension": ".py",
   "mimetype": "text/x-python",
   "name": "python",
   "nbconvert_exporter": "python",
   "pygments_lexer": "ipython3",
   "version": "3.10.11"
  }
 },
 "nbformat": 4,
 "nbformat_minor": 5
}
