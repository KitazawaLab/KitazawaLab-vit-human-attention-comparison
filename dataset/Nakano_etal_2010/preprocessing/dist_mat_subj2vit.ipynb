{
 "cells": [
  {
   "cell_type": "code",
   "execution_count": 1,
   "id": "acdbb3de-2279-410e-a44c-7756cad72a52",
   "metadata": {},
   "outputs": [],
   "source": [
    "import numpy as np\n",
    "import matplotlib.pyplot as plt\n",
    "from scipy.io import loadmat \n",
    "import os\n",
    "import glob\n",
    "\n",
    "import pandas as pd\n",
    "from tqdm.notebook import tqdm"
   ]
  },
  {
   "cell_type": "code",
   "execution_count": 2,
   "id": "41264837-f1c6-4baf-a2f3-e874918785dc",
   "metadata": {},
   "outputs": [],
   "source": [
    "training_methods = [\"dino\", \"supervised\"] \n",
    "depth_list = [4, 8, 12]\n",
    "num_upsample = 30\n",
    "num_models = 6\n",
    "num_heads = 6"
   ]
  },
  {
   "cell_type": "code",
   "execution_count": 3,
   "id": "db88cd23-298b-441d-bfd2-50eccdb24877",
   "metadata": {
    "scrolled": true
   },
   "outputs": [],
   "source": [
    "dist_mat_dict = {}"
   ]
  },
  {
   "cell_type": "code",
   "execution_count": 4,
   "id": "9174ebb7-01eb-4392-810f-78a7eb8fca71",
   "metadata": {
    "scrolled": true
   },
   "outputs": [],
   "source": [
    "# load subject gaze pos\n",
    "subj_gaze_pos = np.load(\"../preprocessed_data/goodsubj_gaze_pos.npz\", allow_pickle=True)[\"gaze_data_goodsubj\"]\n",
    "num_subj = len(subj_gaze_pos)\n",
    "\n",
    "# load vit gaze pos\n",
    "vit_gaze_pos_data = np.load(\"../preprocessed_data/vit_gaze_pos_upsample.npz\", allow_pickle=True)"
   ]
  },
  {
   "cell_type": "code",
   "execution_count": 5,
   "id": "d7342013-0e5b-4c5d-94c7-eb90ed85552e",
   "metadata": {},
   "outputs": [
    {
     "data": {
      "application/vnd.jupyter.widget-view+json": {
       "model_id": "40bcc21090384cc1af8a4148d348c13f",
       "version_major": 2,
       "version_minor": 0
      },
      "text/plain": [
       "  0%|          | 0/2 [00:00<?, ?it/s]"
      ]
     },
     "metadata": {},
     "output_type": "display_data"
    },
    {
     "data": {
      "application/vnd.jupyter.widget-view+json": {
       "model_id": "422d14e4d3d349d197bba3a0613b89c3",
       "version_major": 2,
       "version_minor": 0
      },
      "text/plain": [
       "  0%|          | 0/3 [00:00<?, ?it/s]"
      ]
     },
     "metadata": {},
     "output_type": "display_data"
    },
    {
     "data": {
      "application/vnd.jupyter.widget-view+json": {
       "model_id": "3d4c2125fecb452e98eea00db27cb167",
       "version_major": 2,
       "version_minor": 0
      },
      "text/plain": [
       "  0%|          | 0/104 [00:00<?, ?it/s]"
      ]
     },
     "metadata": {},
     "output_type": "display_data"
    },
    {
     "data": {
      "application/vnd.jupyter.widget-view+json": {
       "model_id": "69b43dee66674ea180fc5bd37baf1714",
       "version_major": 2,
       "version_minor": 0
      },
      "text/plain": [
       "  0%|          | 0/104 [00:00<?, ?it/s]"
      ]
     },
     "metadata": {},
     "output_type": "display_data"
    },
    {
     "data": {
      "application/vnd.jupyter.widget-view+json": {
       "model_id": "c6d230804637433a8e5c0eeb29ad55da",
       "version_major": 2,
       "version_minor": 0
      },
      "text/plain": [
       "  0%|          | 0/104 [00:00<?, ?it/s]"
      ]
     },
     "metadata": {},
     "output_type": "display_data"
    },
    {
     "data": {
      "application/vnd.jupyter.widget-view+json": {
       "model_id": "a267016423c84e7a9f8c3313de9c3447",
       "version_major": 2,
       "version_minor": 0
      },
      "text/plain": [
       "  0%|          | 0/3 [00:00<?, ?it/s]"
      ]
     },
     "metadata": {},
     "output_type": "display_data"
    },
    {
     "data": {
      "application/vnd.jupyter.widget-view+json": {
       "model_id": "4ab1e79a75bc45888b3a9c338ab68810",
       "version_major": 2,
       "version_minor": 0
      },
      "text/plain": [
       "  0%|          | 0/104 [00:00<?, ?it/s]"
      ]
     },
     "metadata": {},
     "output_type": "display_data"
    },
    {
     "data": {
      "application/vnd.jupyter.widget-view+json": {
       "model_id": "3bfefcb7aba44140860a1fc55cfc3b50",
       "version_major": 2,
       "version_minor": 0
      },
      "text/plain": [
       "  0%|          | 0/104 [00:00<?, ?it/s]"
      ]
     },
     "metadata": {},
     "output_type": "display_data"
    },
    {
     "data": {
      "application/vnd.jupyter.widget-view+json": {
       "model_id": "8d458d76579b463ba98e8ae1d55d675d",
       "version_major": 2,
       "version_minor": 0
      },
      "text/plain": [
       "  0%|          | 0/104 [00:00<?, ?it/s]"
      ]
     },
     "metadata": {},
     "output_type": "display_data"
    }
   ],
   "source": [
    "for tm in tqdm(training_methods):\n",
    "    dist_mat_dict[tm] = {}\n",
    "    vit_gaze_pos_data_tm = vit_gaze_pos_data[tm].item()\n",
    "    for depth in tqdm(depth_list):\n",
    "        vit_gaze_pos_data_depth = vit_gaze_pos_data_tm[str(depth)]\n",
    "\n",
    "        dist_mat = np.zeros((num_subj, num_models, depth, num_heads+1))\n",
    "        for i in tqdm(range(num_subj)):\n",
    "            gaze_diff = vit_gaze_pos_data_depth - subj_gaze_pos[i]\n",
    "            diff_norm = np.linalg.norm(gaze_diff, axis=-1)\n",
    "            dist_mat[i] = np.nanmedian(diff_norm, axis=-1)\n",
    "        dist_mat_dict[tm][str(depth)] = dist_mat"
   ]
  },
  {
   "cell_type": "code",
   "execution_count": 6,
   "id": "4e41b912-d2f8-41f1-a636-2428116ff24b",
   "metadata": {},
   "outputs": [],
   "source": [
    "np.savez_compressed(\"../preprocessed_data/subj2vit_dist.npz\", **dist_mat_dict)"
   ]
  }
 ],
 "metadata": {
  "kernelspec": {
   "display_name": "Python 3 (ipykernel)",
   "language": "python",
   "name": "python3"
  },
  "language_info": {
   "codemirror_mode": {
    "name": "ipython",
    "version": 3
   },
   "file_extension": ".py",
   "mimetype": "text/x-python",
   "name": "python",
   "nbconvert_exporter": "python",
   "pygments_lexer": "ipython3",
   "version": "3.10.11"
  }
 },
 "nbformat": 4,
 "nbformat_minor": 5
}
