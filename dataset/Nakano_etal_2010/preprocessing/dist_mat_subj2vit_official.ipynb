{
 "cells": [
  {
   "cell_type": "code",
   "execution_count": 1,
   "id": "acdbb3de-2279-410e-a44c-7756cad72a52",
   "metadata": {},
   "outputs": [],
   "source": [
    "import numpy as np\n",
    "import matplotlib.pyplot as plt\n",
    "from scipy.io import loadmat, savemat\n",
    "import os\n",
    "import glob\n",
    "from scipy import interpolate\n",
    "import pandas as pd\n",
    "from tqdm.notebook import tqdm"
   ]
  },
  {
   "cell_type": "code",
   "execution_count": 2,
   "id": "c990d475-f16a-4923-be45-2c7048a09687",
   "metadata": {
    "scrolled": true
   },
   "outputs": [],
   "source": [
    "# load subject gaze pos\n",
    "subj_gaze_pos = np.load(\"../preprocessed_data/goodsubj_gaze_pos.npz\", allow_pickle=True)[\"gaze_data_goodsubj\"]\n",
    "num_subj = len(subj_gaze_pos)"
   ]
  },
  {
   "cell_type": "code",
   "execution_count": 3,
   "id": "499204bb-ad4c-4b77-a5e1-5683eff0fdc8",
   "metadata": {
    "scrolled": true
   },
   "outputs": [
    {
     "data": {
      "text/plain": [
       "'\\narch_names = [\"deitsmall\", \"vitbase\"]\\npatch_sizes = [8, 16]\\ndist_mat_dict = {}\\n\\n# load vit gaze pos\\nvit_gaze_pos_data = {}\\nfor arch_name in arch_names:\\n    vit_gaze_pos_data |= np.load(f\"../preprocessed_data/vit_official_{arch_name}_gaze_pos.npz\", allow_pickle=True)\\n'"
      ]
     },
     "execution_count": 3,
     "metadata": {},
     "output_type": "execute_result"
    }
   ],
   "source": [
    "\"\"\"\n",
    "arch_names = [\"deitsmall\", \"vitbase\"]\n",
    "patch_sizes = [8, 16]\n",
    "dist_mat_dict = {}\n",
    "\n",
    "# load vit gaze pos\n",
    "vit_gaze_pos_data = {}\n",
    "for arch_name in arch_names:\n",
    "    vit_gaze_pos_data |= np.load(f\"../preprocessed_data/vit_official_{arch_name}_gaze_pos.npz\", allow_pickle=True)\n",
    "\"\"\""
   ]
  },
  {
   "cell_type": "code",
   "execution_count": 4,
   "id": "3b8b1fc8-8c49-42c6-bba9-5adef6ccce03",
   "metadata": {},
   "outputs": [],
   "source": [
    "vit_gaze_pos_data = np.load(f\"../preprocessed_data/vit_official_gaze_pos.npz\", allow_pickle=True)"
   ]
  },
  {
   "cell_type": "code",
   "execution_count": 5,
   "id": "6096e970-5b79-43a9-b59b-59022d6c3b3c",
   "metadata": {},
   "outputs": [
    {
     "data": {
      "text/plain": [
       "['info', 'dino_deit_small16', 'supervised_deit_small16']"
      ]
     },
     "execution_count": 5,
     "metadata": {},
     "output_type": "execute_result"
    }
   ],
   "source": [
    "vit_gaze_pos_data.files"
   ]
  },
  {
   "cell_type": "code",
   "execution_count": 6,
   "id": "36603c01-b0b9-44ef-8d6c-f4e72f023f13",
   "metadata": {},
   "outputs": [],
   "source": [
    "blanks = np.hstack(\n",
    "    [np.arange(140, 155), np.arange(311, 326), np.arange(538, 553), \n",
    "     np.arange(740, 772), np.arange(911, 926), np.arange(1094, 1123),\n",
    "     np.arange(1319, 1334), np.arange(1651, 1666), np.arange(1835, 1850), \n",
    "     np.arange(1988, 2003), np.arange(2167, 2182), 2326])"
   ]
  },
  {
   "cell_type": "code",
   "execution_count": 7,
   "id": "4f3f5ec5-e63a-4b2e-9ada-08d72006ccf4",
   "metadata": {},
   "outputs": [
    {
     "data": {
      "text/plain": [
       "197"
      ]
     },
     "execution_count": 7,
     "metadata": {},
     "output_type": "execute_result"
    }
   ],
   "source": [
    "len(blanks)"
   ]
  },
  {
   "cell_type": "code",
   "execution_count": 8,
   "id": "371d86cc-a0d8-42af-9551-5f8128719847",
   "metadata": {},
   "outputs": [],
   "source": [
    "num_frames = 2327\n",
    "num_sampling = 3883"
   ]
  },
  {
   "cell_type": "code",
   "execution_count": 9,
   "id": "df5a8ae7-0804-4aea-ab38-8e7f156677d7",
   "metadata": {},
   "outputs": [],
   "source": [
    "time = np.linspace(0, 1.0, num_frames)\n",
    "time_upsample = np.linspace(0, 1.0, num_sampling)"
   ]
  },
  {
   "cell_type": "code",
   "execution_count": 10,
   "id": "7a4065cb-9bc0-4942-bce1-c0bbdd2814af",
   "metadata": {},
   "outputs": [],
   "source": [
    "model_keys = ['dino_deit_small16', 'supervised_deit_small16']"
   ]
  },
  {
   "cell_type": "code",
   "execution_count": 11,
   "id": "8ff1026d-d375-43b8-bc9e-8db832e709b7",
   "metadata": {},
   "outputs": [],
   "source": [
    "vit_gaze_pos_data_upsample = {}\n",
    "for key in model_keys:\n",
    "    vit_gaze_pos_data_tmp = vit_gaze_pos_data[key]\n",
    "    depth, num_heads, _, _ = vit_gaze_pos_data_tmp.shape\n",
    "    vit_gaze_pos_data_tmp[:, :, blanks, :] = np.nan\n",
    "    gaze_pos_upsample = np.zeros((depth, num_heads, num_sampling, 2))\n",
    "    for d in range(depth):\n",
    "        for h in range(num_heads):\n",
    "            for i in range(2): # x, y\n",
    "                gp = vit_gaze_pos_data_tmp[d, h, :, i]\n",
    "                f = interpolate.interp1d(time, gp, kind=\"nearest\")\n",
    "                gp_upsample = f(time_upsample) \n",
    "                gaze_pos_upsample[d, h, :, i] = gp_upsample\n",
    "    vit_gaze_pos_data_upsample[key] = gaze_pos_upsample"
   ]
  },
  {
   "cell_type": "code",
   "execution_count": 12,
   "id": "91aa68cd-a52c-453c-9567-96582e468e77",
   "metadata": {},
   "outputs": [],
   "source": [
    "save_dir = \"../preprocessed_data/\"\n",
    "np.savez_compressed(f\"{save_dir}/vit_official_gaze_pos_upsample.npz\", **vit_gaze_pos_data_upsample)"
   ]
  },
  {
   "cell_type": "code",
   "execution_count": 13,
   "id": "a6d2dcb9-719e-4c01-9260-577792801c0e",
   "metadata": {},
   "outputs": [
    {
     "data": {
      "text/plain": [
       "'\\nvit_gaze_pos_data_upsample = {}\\nfor arch_name in arch_names:\\n    for patch_size in patch_sizes:\\n        vit_gaze_pos_data_tmp = vit_gaze_pos_data[f\"{arch_name}{patch_size}\"]\\n        depth, num_heads, _, _ = vit_gaze_pos_data_tmp.shape\\n        vit_gaze_pos_data_tmp[:, :, blanks, :] = np.nan\\n        gaze_pos_upsample = np.zeros((depth, num_heads, num_sampling, 2))\\n        for d in range(depth):\\n            for h in range(num_heads):\\n                for i in range(2): # x, y\\n                    gp = vit_gaze_pos_data_tmp[d, h, :, i]\\n                    f = interpolate.interp1d(time, gp, kind=\"nearest\")\\n                    gp_upsample = f(time_upsample) \\n                    gaze_pos_upsample[d, h, :, i] = gp_upsample\\n        vit_gaze_pos_data_upsample[f\"{arch_name}{patch_size}\"] = gaze_pos_upsample\\n'"
      ]
     },
     "execution_count": 13,
     "metadata": {},
     "output_type": "execute_result"
    }
   ],
   "source": [
    "\"\"\"\n",
    "vit_gaze_pos_data_upsample = {}\n",
    "for arch_name in arch_names:\n",
    "    for patch_size in patch_sizes:\n",
    "        vit_gaze_pos_data_tmp = vit_gaze_pos_data[f\"{arch_name}{patch_size}\"]\n",
    "        depth, num_heads, _, _ = vit_gaze_pos_data_tmp.shape\n",
    "        vit_gaze_pos_data_tmp[:, :, blanks, :] = np.nan\n",
    "        gaze_pos_upsample = np.zeros((depth, num_heads, num_sampling, 2))\n",
    "        for d in range(depth):\n",
    "            for h in range(num_heads):\n",
    "                for i in range(2): # x, y\n",
    "                    gp = vit_gaze_pos_data_tmp[d, h, :, i]\n",
    "                    f = interpolate.interp1d(time, gp, kind=\"nearest\")\n",
    "                    gp_upsample = f(time_upsample) \n",
    "                    gaze_pos_upsample[d, h, :, i] = gp_upsample\n",
    "        vit_gaze_pos_data_upsample[f\"{arch_name}{patch_size}\"] = gaze_pos_upsample\n",
    "\"\"\""
   ]
  },
  {
   "cell_type": "code",
   "execution_count": 14,
   "id": "84a23deb-1037-4f35-a1ad-63e2d0ffdbf6",
   "metadata": {},
   "outputs": [
    {
     "data": {
      "text/plain": [
       "dict_keys(['dino_deit_small16', 'supervised_deit_small16'])"
      ]
     },
     "execution_count": 14,
     "metadata": {},
     "output_type": "execute_result"
    }
   ],
   "source": [
    "vit_gaze_pos_data_upsample.keys()"
   ]
  },
  {
   "cell_type": "code",
   "execution_count": 15,
   "id": "a2b6195b-5be2-4ef4-b2f6-681aa0178c23",
   "metadata": {},
   "outputs": [
    {
     "data": {
      "application/vnd.jupyter.widget-view+json": {
       "model_id": "5f58c6fe8aa24f1586f799ab3c53cf66",
       "version_major": 2,
       "version_minor": 0
      },
      "text/plain": [
       "  0%|          | 0/104 [00:00<?, ?it/s]"
      ]
     },
     "metadata": {},
     "output_type": "display_data"
    },
    {
     "data": {
      "application/vnd.jupyter.widget-view+json": {
       "model_id": "80032fd0168d4f77b3d1b1de98bebb7c",
       "version_major": 2,
       "version_minor": 0
      },
      "text/plain": [
       "  0%|          | 0/104 [00:00<?, ?it/s]"
      ]
     },
     "metadata": {},
     "output_type": "display_data"
    }
   ],
   "source": [
    "dist_mat_dict = {}\n",
    "for key in model_keys:\n",
    "    vit_gaze_pos_data_tmp = vit_gaze_pos_data_upsample[key]\n",
    "    depth, num_heads, _, _ = vit_gaze_pos_data_tmp.shape\n",
    "    dist_mat = np.zeros((num_subj, depth, num_heads))\n",
    "    for i in tqdm(range(num_subj)):\n",
    "        gaze_diff = vit_gaze_pos_data_tmp - subj_gaze_pos[i]\n",
    "        diff_norm = np.linalg.norm(gaze_diff, axis=-1)\n",
    "        dist_mat[i] = np.nanmedian(diff_norm, axis=-1)\n",
    "    dist_mat_dict[key] = dist_mat"
   ]
  },
  {
   "cell_type": "code",
   "execution_count": 16,
   "id": "d7342013-0e5b-4c5d-94c7-eb90ed85552e",
   "metadata": {},
   "outputs": [
    {
     "data": {
      "text/plain": [
       "'\\nfor arch_name in arch_names:\\n    for patch_size in patch_sizes:\\n        vit_gaze_pos_data_tmp = vit_gaze_pos_data_upsample[f\"{arch_name}{patch_size}\"]\\n        depth, num_heads, _, _ = vit_gaze_pos_data_tmp.shape\\n        dist_mat = np.zeros((num_subj, depth, num_heads))\\n        for i in tqdm(range(num_subj)):\\n            gaze_diff = vit_gaze_pos_data_tmp - subj_gaze_pos[i]\\n            diff_norm = np.linalg.norm(gaze_diff, axis=-1)\\n            dist_mat[i] = np.nanmedian(diff_norm, axis=-1)\\n        dist_mat_dict[f\"{arch_name}{patch_size}\"] = dist_mat\\n'"
      ]
     },
     "execution_count": 16,
     "metadata": {},
     "output_type": "execute_result"
    }
   ],
   "source": [
    "\"\"\"\n",
    "for arch_name in arch_names:\n",
    "    for patch_size in patch_sizes:\n",
    "        vit_gaze_pos_data_tmp = vit_gaze_pos_data_upsample[f\"{arch_name}{patch_size}\"]\n",
    "        depth, num_heads, _, _ = vit_gaze_pos_data_tmp.shape\n",
    "        dist_mat = np.zeros((num_subj, depth, num_heads))\n",
    "        for i in tqdm(range(num_subj)):\n",
    "            gaze_diff = vit_gaze_pos_data_tmp - subj_gaze_pos[i]\n",
    "            diff_norm = np.linalg.norm(gaze_diff, axis=-1)\n",
    "            dist_mat[i] = np.nanmedian(diff_norm, axis=-1)\n",
    "        dist_mat_dict[f\"{arch_name}{patch_size}\"] = dist_mat\n",
    "\"\"\""
   ]
  },
  {
   "cell_type": "code",
   "execution_count": 17,
   "id": "10ca38da-425b-4264-9ce8-b4817c061f31",
   "metadata": {},
   "outputs": [],
   "source": [
    "np.savez_compressed(\"../preprocessed_data/subj2vit_official_dist.npz\", **dist_mat_dict)"
   ]
  }
 ],
 "metadata": {
  "kernelspec": {
   "display_name": "Python 3 (ipykernel)",
   "language": "python",
   "name": "python3"
  },
  "language_info": {
   "codemirror_mode": {
    "name": "ipython",
    "version": 3
   },
   "file_extension": ".py",
   "mimetype": "text/x-python",
   "name": "python",
   "nbconvert_exporter": "python",
   "pygments_lexer": "ipython3",
   "version": "3.10.11"
  }
 },
 "nbformat": 4,
 "nbformat_minor": 5
}
