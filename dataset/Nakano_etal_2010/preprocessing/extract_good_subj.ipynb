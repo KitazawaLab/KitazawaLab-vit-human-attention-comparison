{
 "cells": [
  {
   "cell_type": "code",
   "execution_count": 1,
   "id": "41141e6c-e88a-4dd3-9547-a3dafe790ab8",
   "metadata": {},
   "outputs": [],
   "source": [
    "import numpy as np\n",
    "#from numpy.linalg import norm\n",
    "import matplotlib.pyplot as plt\n",
    "from scipy.io import loadmat \n",
    "import os\n",
    "import glob\n",
    "import pandas as pd\n",
    "from tqdm.notebook import tqdm"
   ]
  },
  {
   "cell_type": "markdown",
   "id": "43350241-e2b4-4c74-99b8-5b754c0dc697",
   "metadata": {},
   "source": [
    "downsamplingまでやる"
   ]
  },
  {
   "cell_type": "code",
   "execution_count": 2,
   "id": "330b1714-5d89-4f54-8682-bb0b0d8e2980",
   "metadata": {},
   "outputs": [],
   "source": [
    "data = loadmat(\"../allclip1.mat\", simplify_cells=True)"
   ]
  },
  {
   "cell_type": "code",
   "execution_count": 3,
   "id": "76792d60-63ef-46e7-947e-4d081b63624f",
   "metadata": {},
   "outputs": [
    {
     "data": {
      "text/plain": [
       "dict_keys(['__header__', '__version__', '__globals__', 'xx_size', 'xx_all', 'yy_all', 'startf', 'gr5', 'prepost_sj', 'prepost_name', 'age', 'age_n120', 'gr3_a', 'gr2', 'clip_frame', 'clip_name', 'clip_frame_time', 'distmat_clip12', 'md2_clip12', 'distmat_clip12_only', 'md2_clip12_only', 'mean_sd', 'asd_age_scale', 'mean_sd_norm', 'ch_md2', 'adASD_md2', 'ASDfam_md2', 'ad_md2', 'chASD_md2', 'md2_group6', 'rank_result', 'endf', 'd', 'asd_ad_dis', 'norm_ad_dis', 'fam_ad_dis', 'subj', 'tini', 'yo', 'c', 'group', 'eyeclip1', 'distance', 'distmat', 'md2_re', 'group2', 'gazew', 'gr', 'frametobii', 'framedur', 'gazedurratio', 'gr4', 'group_name', 'gr3', 'dthre', 'gazedur', 'gazeduration', 'eyerel', 'mouthrel', 'facerel', 'data', 'dage_n166', 'sex', 'sex_gr', 'md2_ch', 'ch_g', 'ad_g', 'md2_ad', 'gooddata', 'goodsubj', 'goodnumber', 'eyepos', 'ROI', 'st_dat', 'rank_res_p', 'rank_res_h', 'rank_sum'])"
      ]
     },
     "execution_count": 3,
     "metadata": {},
     "output_type": "execute_result"
    }
   ],
   "source": [
    "data.keys()"
   ]
  },
  {
   "cell_type": "code",
   "execution_count": 4,
   "id": "176754cc-8994-4bb9-bf2e-f2ac0a16e7ea",
   "metadata": {},
   "outputs": [],
   "source": [
    "eyeclip1 = data['eyeclip1']\n",
    "group_name = data['group_name']\n",
    "gr = data['gr']\n",
    "goodsubj = data['goodsubj']"
   ]
  },
  {
   "cell_type": "code",
   "execution_count": 10,
   "id": "45b9a634-ba5c-4397-b7d7-b87e638097a1",
   "metadata": {},
   "outputs": [],
   "source": [
    "eyeclip1_goodsubj = eyeclip1[goodsubj-1] # matlab to numpy index\n",
    "eyeclip1_goodsubj = np.array([gaze for gaze in eyeclip1_goodsubj])"
   ]
  },
  {
   "cell_type": "code",
   "execution_count": 11,
   "id": "eac86f38-8024-4ee0-bbca-63619d83b6f0",
   "metadata": {},
   "outputs": [
    {
     "data": {
      "text/plain": [
       "(104, 3883, 2)"
      ]
     },
     "execution_count": 11,
     "metadata": {},
     "output_type": "execute_result"
    }
   ],
   "source": [
    "eyeclip1_goodsubj.shape"
   ]
  },
  {
   "cell_type": "code",
   "execution_count": 12,
   "id": "e9f48a8b-5003-4467-89ad-8c5ba6d64126",
   "metadata": {},
   "outputs": [],
   "source": [
    "gr_goodsubj = gr[goodsubj-1] - 1 # matlab to numpy index"
   ]
  },
  {
   "cell_type": "code",
   "execution_count": 16,
   "id": "6db4582c-f9dd-4ee1-9b89-67f3251f3758",
   "metadata": {},
   "outputs": [],
   "source": [
    "data_dict = {}\n",
    "data_dict[\"gaze_data_goodsubj\"] = eyeclip1_goodsubj\n",
    "data_dict[\"gr_goodsubj\"] = gr_goodsubj\n",
    "data_dict[\"group_name\"] = group_name"
   ]
  },
  {
   "cell_type": "code",
   "execution_count": 17,
   "id": "65d901dc-6a63-4ddd-91d8-9ce000f69775",
   "metadata": {},
   "outputs": [],
   "source": [
    "np.savez_compressed(\"../preprocessed_data/goodsubj_gaze_pos.npz\", **data_dict)"
   ]
  }
 ],
 "metadata": {
  "kernelspec": {
   "display_name": "Python 3 (ipykernel)",
   "language": "python",
   "name": "python3"
  },
  "language_info": {
   "codemirror_mode": {
    "name": "ipython",
    "version": 3
   },
   "file_extension": ".py",
   "mimetype": "text/x-python",
   "name": "python",
   "nbconvert_exporter": "python",
   "pygments_lexer": "ipython3",
   "version": "3.10.11"
  }
 },
 "nbformat": 4,
 "nbformat_minor": 5
}
