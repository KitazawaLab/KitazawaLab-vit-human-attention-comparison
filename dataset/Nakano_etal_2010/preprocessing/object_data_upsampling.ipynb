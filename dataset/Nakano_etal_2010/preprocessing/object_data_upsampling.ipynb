{
 "cells": [
  {
   "cell_type": "code",
   "execution_count": 1,
   "id": "e0b2d063-3e24-4e5b-88be-96a6e9dd559b",
   "metadata": {},
   "outputs": [],
   "source": [
    "import numpy as np\n",
    "from tqdm.notebook import tqdm\n",
    "from scipy import interpolate\n",
    "import matplotlib.pyplot as plt\n",
    "from scipy.io import savemat, loadmat"
   ]
  },
  {
   "cell_type": "code",
   "execution_count": 2,
   "id": "399c5883-3ace-41c0-aec8-01fb45a3fa1f",
   "metadata": {},
   "outputs": [],
   "source": [
    "blanks = np.hstack(\n",
    "    [np.arange(140, 155), np.arange(311, 326), np.arange(538, 553), \n",
    "     np.arange(740, 772), np.arange(911, 926), np.arange(1094, 1123),\n",
    "     np.arange(1319, 1334), np.arange(1651, 1666), np.arange(1835, 1850), \n",
    "     np.arange(1988, 2003), np.arange(2167, 2182), 2326])"
   ]
  },
  {
   "cell_type": "code",
   "execution_count": 3,
   "id": "949117a3-1610-42ed-937b-2a85f0a5a3b8",
   "metadata": {},
   "outputs": [],
   "source": [
    "num_frames = 2327\n",
    "num_sampling = 3883"
   ]
  },
  {
   "cell_type": "code",
   "execution_count": 4,
   "id": "37d4005f-c8ce-4d69-9a6c-62b0a46aa234",
   "metadata": {},
   "outputs": [],
   "source": [
    "time = np.linspace(0, 1.0, num_frames)\n",
    "time_upsample = np.linspace(0, 1.0, num_sampling)"
   ]
  },
  {
   "cell_type": "code",
   "execution_count": 5,
   "id": "aa1b8f43-1634-47ab-bca7-f9d543687b79",
   "metadata": {},
   "outputs": [],
   "source": [
    "matfile = loadmat(\"../allclip1.mat\")\n",
    "xx_all = matfile[\"xx_all\"]\n",
    "yy_all = matfile[\"yy_all\"]\n",
    "num_obj = len(xx_all)"
   ]
  },
  {
   "cell_type": "code",
   "execution_count": 6,
   "id": "2c6ee9c6-0391-4184-9d30-277c77bc2949",
   "metadata": {},
   "outputs": [
    {
     "data": {
      "text/plain": [
       "(18, 2326)"
      ]
     },
     "execution_count": 6,
     "metadata": {},
     "output_type": "execute_result"
    }
   ],
   "source": [
    "xx_all.shape"
   ]
  },
  {
   "cell_type": "code",
   "execution_count": 7,
   "id": "ec6d1b79-891a-46f1-850b-0fd99e421ed6",
   "metadata": {
    "scrolled": true
   },
   "outputs": [],
   "source": [
    "obj_pos_all = [xx_all, yy_all]\n",
    "obj_pos_upsample = np.zeros((2, num_obj, num_sampling))\n",
    "\n",
    "for i, obj_pos in enumerate(obj_pos_all):\n",
    "    for j, op in enumerate(obj_pos):\n",
    "        op = np.r_[op, np.nan]\n",
    "        f = interpolate.interp1d(time, op, kind=\"nearest\")\n",
    "        obj_pos_upsample[i, j] = f(time_upsample)"
   ]
  },
  {
   "cell_type": "code",
   "execution_count": 9,
   "id": "33ee2fb6-8314-43ea-b264-83c92a1eca8a",
   "metadata": {},
   "outputs": [],
   "source": [
    "save_dir = \"../preprocessed_data/\"\n",
    "np.savez_compressed(f\"{save_dir}/obj_pos_upsample.npz\", data=obj_pos_upsample)"
   ]
  }
 ],
 "metadata": {
  "kernelspec": {
   "display_name": "Python 3 (ipykernel)",
   "language": "python",
   "name": "python3"
  },
  "language_info": {
   "codemirror_mode": {
    "name": "ipython",
    "version": 3
   },
   "file_extension": ".py",
   "mimetype": "text/x-python",
   "name": "python",
   "nbconvert_exporter": "python",
   "pygments_lexer": "ipython3",
   "version": "3.10.11"
  }
 },
 "nbformat": 4,
 "nbformat_minor": 5
}
