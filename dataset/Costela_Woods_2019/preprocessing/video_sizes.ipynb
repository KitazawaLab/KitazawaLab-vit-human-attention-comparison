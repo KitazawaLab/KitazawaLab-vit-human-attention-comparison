{
 "cells": [
  {
   "cell_type": "code",
   "execution_count": 1,
   "id": "f6115c78-c984-4d23-b4de-f54e12b52119",
   "metadata": {},
   "outputs": [],
   "source": [
    "import numpy as np\n",
    "import pandas as pd"
   ]
  },
  {
   "cell_type": "code",
   "execution_count": 2,
   "id": "cbc213f2-507a-4e9b-b47e-dc876a79100f",
   "metadata": {},
   "outputs": [],
   "source": [
    "data_info = pd.read_csv(\"../30s_segment_description.csv\")"
   ]
  },
  {
   "cell_type": "code",
   "execution_count": 15,
   "id": "7e5f36c6-5f11-4ed8-a7d8-adb92964d91c",
   "metadata": {},
   "outputs": [],
   "source": [
    "size = np.array([np.array(s.split(\"x\")).astype(int) for s in data_info[\"size\"][:200]])"
   ]
  },
  {
   "cell_type": "code",
   "execution_count": 17,
   "id": "fc4bf000-64b5-419f-ac60-2986adc6179a",
   "metadata": {},
   "outputs": [
    {
     "data": {
      "text/plain": [
       "array([848.285, 437.32 ])"
      ]
     },
     "execution_count": 17,
     "metadata": {},
     "output_type": "execute_result"
    }
   ],
   "source": [
    "np.mean(size, axis=0)"
   ]
  },
  {
   "cell_type": "code",
   "execution_count": 19,
   "id": "4384bd4d-9bd1-40d9-a3ac-638fead622d1",
   "metadata": {
    "scrolled": true
   },
   "outputs": [
    {
     "data": {
      "text/plain": [
       "array([794, 354])"
      ]
     },
     "execution_count": 19,
     "metadata": {},
     "output_type": "execute_result"
    }
   ],
   "source": [
    "np.min(size, axis=0)"
   ]
  },
  {
   "cell_type": "code",
   "execution_count": 21,
   "id": "8e73c2cd-14ad-4f9d-84a8-d29602924466",
   "metadata": {},
   "outputs": [
    {
     "data": {
      "text/plain": [
       "array([853, 480])"
      ]
     },
     "execution_count": 21,
     "metadata": {},
     "output_type": "execute_result"
    }
   ],
   "source": [
    "np.max(size, axis=0)"
   ]
  }
 ],
 "metadata": {
  "kernelspec": {
   "display_name": "Python 3 (ipykernel)",
   "language": "python",
   "name": "python3"
  },
  "language_info": {
   "codemirror_mode": {
    "name": "ipython",
    "version": 3
   },
   "file_extension": ".py",
   "mimetype": "text/x-python",
   "name": "python",
   "nbconvert_exporter": "python",
   "pygments_lexer": "ipython3",
   "version": "3.10.11"
  }
 },
 "nbformat": 4,
 "nbformat_minor": 5
}
