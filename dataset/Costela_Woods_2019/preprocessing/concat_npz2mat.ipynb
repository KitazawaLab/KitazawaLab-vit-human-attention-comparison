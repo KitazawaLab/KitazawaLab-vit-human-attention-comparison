{
 "cells": [
  {
   "cell_type": "code",
   "execution_count": 1,
   "id": "f6b98825-67aa-48d5-924e-085bbe5bf9c8",
   "metadata": {},
   "outputs": [],
   "source": [
    "import numpy as np\n",
    "import matplotlib.pyplot as plt\n",
    "from scipy.io import loadmat, savemat\n",
    "import os\n",
    "import glob\n",
    "import pandas as pd"
   ]
  },
  {
   "cell_type": "code",
   "execution_count": 2,
   "id": "912381f2-6c5d-47cc-9323-8808f9e2fcfe",
   "metadata": {},
   "outputs": [],
   "source": [
    "subj2vit_mean_dist = np.load(\"../preprocessed_data/subj2vit_mean_dist.npz\", allow_pickle=True)\n",
    "subj2vit_official_mean_dist = np.load(\"../preprocessed_data/subj2vit_official_mean_dist.npz\", allow_pickle=True)\n",
    "subj2gbvs_mean_dist = np.load(\"../preprocessed_data/subj2gbvs_mean_dist.npz\", allow_pickle=True)\n",
    "subj2subj_dist = np.load(\"../preprocessed_data/subj2subj_dist.npz\", allow_pickle=True)"
   ]
  },
  {
   "cell_type": "code",
   "execution_count": 3,
   "id": "ee25d5ca-0737-45a4-b324-527351b0dbc7",
   "metadata": {},
   "outputs": [
    {
     "data": {
      "text/plain": [
       "['dino', 'supervised']"
      ]
     },
     "execution_count": 3,
     "metadata": {},
     "output_type": "execute_result"
    }
   ],
   "source": [
    "subj2vit_mean_dist.files"
   ]
  },
  {
   "cell_type": "code",
   "execution_count": 4,
   "id": "318d065c-6a49-4370-944e-52effcdca9f7",
   "metadata": {},
   "outputs": [],
   "source": [
    "training_methods = [\"dino\", \"supervised\"] \n",
    "official_model_keys = ['dino_deit_small16', 'supervised_deit_small16']\n",
    "depth_list = [4, 8, 12]"
   ]
  },
  {
   "cell_type": "code",
   "execution_count": 5,
   "id": "a053f371-fd31-4353-9483-330ec68e763b",
   "metadata": {},
   "outputs": [],
   "source": [
    "dist_mat_all_dict = {}\n",
    "for tm in training_methods:\n",
    "    for depth in depth_list:\n",
    "        dist_mat_all_dict[f\"{tm}_{str(depth)}\"] = subj2vit_mean_dist[tm].item()[str(depth)]"
   ]
  },
  {
   "cell_type": "code",
   "execution_count": 6,
   "id": "cdb50278-6949-4518-934f-197723938cf1",
   "metadata": {},
   "outputs": [],
   "source": [
    "for key in official_model_keys:\n",
    "    dist_mat_all_dict[key] = subj2vit_official_mean_dist[key]"
   ]
  },
  {
   "cell_type": "code",
   "execution_count": 7,
   "id": "ce06ab49-10f4-434f-8a0e-2e2afa27862b",
   "metadata": {},
   "outputs": [],
   "source": [
    "subj2subj = subj2subj_dist[\"all_nanmean\"]\n",
    "#plt.imshow(subj2subj)"
   ]
  },
  {
   "cell_type": "code",
   "execution_count": 10,
   "id": "a23dcbb0-fa7e-49f9-bac7-66c057019afe",
   "metadata": {},
   "outputs": [],
   "source": [
    "df = pd.DataFrame(data=subj2subj)\n",
    "df = df.fillna(df.median())"
   ]
  },
  {
   "cell_type": "code",
   "execution_count": 13,
   "id": "27e5c6b1-3853-4465-ac94-3ca33a5725c9",
   "metadata": {},
   "outputs": [],
   "source": [
    "df = pd.DataFrame(data=subj2subj)\n",
    "df = df.fillna(df.median())\n",
    "subj2subj_fillnan = (df.values + df.values.T)/2"
   ]
  },
  {
   "cell_type": "code",
   "execution_count": null,
   "id": "f077d0ad-5dbe-44cc-b9ed-d0a4b55b1635",
   "metadata": {},
   "outputs": [],
   "source": [
    "dist_mat_all_dict[\"subj\"] = subj2subj_fillnan\n",
    "#dist_mat_all_dict[\"subj\"] = subj2subj_dist[\"all_nanmean\"]"
   ]
  },
  {
   "cell_type": "code",
   "execution_count": 8,
   "id": "379bba1e-cadc-4f51-817f-3d503fa648d2",
   "metadata": {},
   "outputs": [],
   "source": [
    "subj2gbvs_mean_dist_concat = np.array([subj2gbvs_mean_dist[key] for key in subj2gbvs_mean_dist.files])\n",
    "dist_mat_all_dict[\"gbvs\"] = subj2gbvs_mean_dist_concat.T"
   ]
  },
  {
   "cell_type": "code",
   "execution_count": 9,
   "id": "6908f63b-a512-41a5-beff-d4789e0b32e3",
   "metadata": {},
   "outputs": [
    {
     "data": {
      "text/plain": [
       "dict_keys(['dino_4', 'dino_8', 'dino_12', 'supervised_4', 'supervised_8', 'supervised_12', 'dino_deit_small16', 'supervised_deit_small16', 'subj', 'gbvs'])"
      ]
     },
     "execution_count": 9,
     "metadata": {},
     "output_type": "execute_result"
    }
   ],
   "source": [
    "dist_mat_all_dict.keys()"
   ]
  },
  {
   "cell_type": "code",
   "execution_count": 10,
   "id": "f2b3a4a7-2df9-46b0-8525-6ad494e86f6b",
   "metadata": {},
   "outputs": [],
   "source": [
    "savemat(\"../preprocessed_data/subj2subj_vit_gbvs_CW2019.mat\", dist_mat_all_dict)"
   ]
  }
 ],
 "metadata": {
  "kernelspec": {
   "display_name": "Python 3 (ipykernel)",
   "language": "python",
   "name": "python3"
  },
  "language_info": {
   "codemirror_mode": {
    "name": "ipython",
    "version": 3
   },
   "file_extension": ".py",
   "mimetype": "text/x-python",
   "name": "python",
   "nbconvert_exporter": "python",
   "pygments_lexer": "ipython3",
   "version": "3.10.11"
  }
 },
 "nbformat": 4,
 "nbformat_minor": 5
}
