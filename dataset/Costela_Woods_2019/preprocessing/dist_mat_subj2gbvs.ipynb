{
 "cells": [
  {
   "cell_type": "code",
   "execution_count": 1,
   "id": "acdbb3de-2279-410e-a44c-7756cad72a52",
   "metadata": {},
   "outputs": [],
   "source": [
    "import numpy as np\n",
    "import matplotlib.pyplot as plt\n",
    "from scipy.io import loadmat \n",
    "import os\n",
    "import glob"
   ]
  },
  {
   "cell_type": "code",
   "execution_count": 2,
   "id": "348d860e-9c09-43b3-9f07-b18a8ee989c0",
   "metadata": {},
   "outputs": [],
   "source": [
    "import pandas as pd\n",
    "from tqdm.notebook import tqdm\n",
    "from scipy import interpolate"
   ]
  },
  {
   "cell_type": "code",
   "execution_count": 3,
   "id": "d65860e0-c941-4eb6-9ce5-136fcf57357f",
   "metadata": {},
   "outputs": [],
   "source": [
    "movie_info = np.load(\"../preprocessed_data/clips_png/movie_info.npz\", allow_pickle=True)"
   ]
  },
  {
   "cell_type": "code",
   "execution_count": 4,
   "id": "a32eae35-f90e-4128-b5a1-845ee00e73fb",
   "metadata": {},
   "outputs": [],
   "source": [
    "subj_data_dir = \"../preprocessed_data/subj_gaze_pos_upsampled/\"\n",
    "dirs = os.listdir(subj_data_dir)\n",
    "video_names = sorted([os.path.splitext(os.path.basename(f))[0] for f in dirs])"
   ]
  },
  {
   "cell_type": "code",
   "execution_count": 5,
   "id": "b20a9ed0-ca8a-4951-a522-8d15b4170b72",
   "metadata": {},
   "outputs": [],
   "source": [
    "gaze_path = \"../GazeData/NV/\"\n",
    "dirs = os.listdir(gaze_path)\n",
    "subj_names = sorted([f for f in dirs if os.path.isdir(os.path.join(gaze_path, f))])"
   ]
  },
  {
   "cell_type": "code",
   "execution_count": 6,
   "id": "37289ea0-04e0-40a9-8eec-dde6928d5211",
   "metadata": {},
   "outputs": [
    {
     "data": {
      "text/plain": [
       "63"
      ]
     },
     "execution_count": 6,
     "metadata": {},
     "output_type": "execute_result"
    }
   ],
   "source": [
    "len(subj_names)"
   ]
  },
  {
   "cell_type": "code",
   "execution_count": 7,
   "id": "41264837-f1c6-4baf-a2f3-e874918785dc",
   "metadata": {},
   "outputs": [],
   "source": [
    "num_upsample = 30\n",
    "gbvs_keys = ['All', 'Intensity', 'Orientation', 'Contrast', 'Flicker', 'Motion', 'DKL_Color']"
   ]
  },
  {
   "cell_type": "code",
   "execution_count": 7,
   "id": "d37d6a16-1663-4708-a887-5dd07515b657",
   "metadata": {
    "scrolled": true
   },
   "outputs": [
    {
     "data": {
      "text/plain": [
       "['ADVEN_12a',\n",
       " 'ADVEN_15a',\n",
       " 'ADVEN_18a',\n",
       " 'ADVEN_24a',\n",
       " 'ADVEN_3a',\n",
       " 'ADVEN_9a',\n",
       " 'AMAZI_14a',\n",
       " 'AMAZI_20a',\n",
       " 'AMAZI_2a',\n",
       " 'AMAZI_2b',\n",
       " 'AMAZI_8a',\n",
       " 'APPAL_10a',\n",
       " 'APPAL_18a',\n",
       " 'APPAL_2a',\n",
       " 'APPAL_5a',\n",
       " 'APPAL_7b',\n",
       " 'BATM_15a',\n",
       " 'BATM_18a',\n",
       " 'BATM_21a',\n",
       " 'BATM_37a',\n",
       " 'BATM_6a',\n",
       " 'BATM_9a',\n",
       " 'BLIND_5a',\n",
       " 'BOOKC_11a',\n",
       " 'BOOKC_15a',\n",
       " 'BOOKC_23a',\n",
       " 'BOOKC_27a',\n",
       " 'BOOKC_3a',\n",
       " 'BURY_15a',\n",
       " 'BURY_1b',\n",
       " 'BURY_3a',\n",
       " 'BURY_5b',\n",
       " 'BURY_7a',\n",
       " 'CORAL_11a',\n",
       " 'CORAL_14a',\n",
       " 'CORAL_17a',\n",
       " 'CORAL_5a',\n",
       " 'CORAL_5b',\n",
       " 'CORAL_8a',\n",
       " 'Cloud_13a',\n",
       " 'Cloud_17a',\n",
       " 'Cloud_17b',\n",
       " 'Cloud_20a',\n",
       " 'Cloud_24a',\n",
       " 'Cloud_3a',\n",
       " 'Cloud_6a',\n",
       " 'Cloud_9a',\n",
       " 'DEEPB_11a',\n",
       " 'DEEPB_13a',\n",
       " 'DEEPB_3a',\n",
       " 'DEEPB_5a',\n",
       " 'DEEPB_5b',\n",
       " 'DEEPB_7a',\n",
       " 'DEEPB_9a',\n",
       " 'DEEPB_9b',\n",
       " 'DEEPB_9c',\n",
       " 'DREAMG_3a',\n",
       " 'DREAMG_9a',\n",
       " 'EASTE_11a',\n",
       " 'EASTE_15a',\n",
       " 'EASTE_19a',\n",
       " 'EASTE_2a',\n",
       " 'EASTE_8b',\n",
       " 'FOODI_10a',\n",
       " 'FOODI_2a',\n",
       " 'FOODI_2b',\n",
       " 'FOODI_4a',\n",
       " 'FOODI_6a',\n",
       " 'FOODI_8a',\n",
       " 'FORGE_11a',\n",
       " 'FORGE_14a',\n",
       " 'FORGE_17a',\n",
       " 'FORGE_8a',\n",
       " 'FREED_12a',\n",
       " 'FREED_14a',\n",
       " 'FREED_16a',\n",
       " 'FREED_2a',\n",
       " 'FREED_8a',\n",
       " 'GERIS_a',\n",
       " 'HESJU_12a',\n",
       " 'HESJU_16b',\n",
       " 'HESJU_30a',\n",
       " 'HESJU_4a',\n",
       " 'HESJU_8b',\n",
       " 'HURT_5a',\n",
       " 'HURT_7a',\n",
       " 'JULIE_10a',\n",
       " 'JULIE_10b',\n",
       " 'JULIE_14a',\n",
       " 'JULIE_18a',\n",
       " 'JULIE_22a',\n",
       " 'JULIE_6a',\n",
       " 'LARS_12a',\n",
       " 'LARS_16a',\n",
       " 'LARS_20a',\n",
       " 'LARS_24a',\n",
       " 'LARS_4a',\n",
       " 'LIFTE_a',\n",
       " 'LOOP_5a',\n",
       " 'MARCH_10a',\n",
       " 'MARCH_12a',\n",
       " 'MARCH_14a',\n",
       " 'MARCH_16a',\n",
       " 'MARCH_16b',\n",
       " 'MARCH_18a',\n",
       " 'MARCH_3a',\n",
       " 'MARCH_3b',\n",
       " 'MARCH_6a',\n",
       " 'MARCH_6b',\n",
       " 'MARCH_8a',\n",
       " 'MARGO_2a',\n",
       " 'MARGO_4a',\n",
       " 'MARGO_4b',\n",
       " 'MARGO_6b',\n",
       " 'MARGO_8a',\n",
       " 'MICRO_11a',\n",
       " 'MICRO_12a',\n",
       " 'MICRO_2a',\n",
       " 'MICRO_2b',\n",
       " 'MICRO_3a',\n",
       " 'MICRO_5a',\n",
       " 'MISSP_12a',\n",
       " 'MISSP_15a',\n",
       " 'MISSP_3a',\n",
       " 'MISSP_6a',\n",
       " 'MISSP_9a',\n",
       " 'MULAN_11a',\n",
       " 'MULAN_15a',\n",
       " 'MULAN_19a',\n",
       " 'MULAN_3a',\n",
       " 'MULAN_7a',\n",
       " 'NANN_15a',\n",
       " 'NANN_3a',\n",
       " 'NANN_6a',\n",
       " 'OCTOB_11c',\n",
       " 'OCTOB_13a',\n",
       " 'OCTOB_3a',\n",
       " 'OCTOB_5b',\n",
       " 'OCTOB_7a',\n",
       " 'OFFIC_24a',\n",
       " 'OFFIC_4a',\n",
       " 'PAYIT_13a',\n",
       " 'PAYIT_27a',\n",
       " 'PAYIT_3a',\n",
       " 'RECOUNT_2a',\n",
       " 'RECOUNT_4a',\n",
       " 'RECOUNT_4b',\n",
       " 'RECOUNT_8a',\n",
       " 'RECOUNT_8c',\n",
       " 'SHAKE_16a',\n",
       " 'SHAKE_20a',\n",
       " 'SHAKE_24a',\n",
       " 'SHAKE_28a',\n",
       " 'SHAKE_8c',\n",
       " 'SHREK_10a',\n",
       " 'SHREK_10b',\n",
       " 'SHREK_13b',\n",
       " 'SHREK_15a',\n",
       " 'SHREK_15b',\n",
       " 'SHREK_3a',\n",
       " 'SHREK_3b',\n",
       " 'SHREK_5a',\n",
       " 'SHREK_5b',\n",
       " 'SHREK_8a',\n",
       " 'SIMPS_11a',\n",
       " 'SIMPS_14a',\n",
       " 'SIMPS_17a',\n",
       " 'SIMPS_19a',\n",
       " 'SIMPS_22a',\n",
       " 'SIMPS_22b',\n",
       " 'SIMPS_3a',\n",
       " 'SIMPS_6a',\n",
       " 'SIMPS_9a',\n",
       " 'SQUID_12c',\n",
       " 'SQUID_2a',\n",
       " 'SQUID_4a',\n",
       " 'SQUID_6a',\n",
       " 'SQUID_8a',\n",
       " 'STARD_16a',\n",
       " 'STARD_2a',\n",
       " 'STARD_4a',\n",
       " 'STARD_4c',\n",
       " 'STARD_7a',\n",
       " 'STEPF_16a',\n",
       " 'STEPF_23a',\n",
       " 'STEPF_4a',\n",
       " 'STEPF_5a',\n",
       " 'Spide_16a',\n",
       " 'Spide_30a',\n",
       " 'Spide_40a',\n",
       " 'Spide_4a',\n",
       " 'Spide_8a',\n",
       " 'WINGE_12a',\n",
       " 'WINGE_15a',\n",
       " 'WINGE_18a',\n",
       " 'WINGE_18b',\n",
       " 'WINGE_21a',\n",
       " 'WINGE_3a',\n",
       " 'WINGE_6a',\n",
       " 'WINGE_9a']"
      ]
     },
     "execution_count": 7,
     "metadata": {},
     "output_type": "execute_result"
    }
   ],
   "source": [
    "video_names"
   ]
  },
  {
   "cell_type": "code",
   "execution_count": 11,
   "id": "e1c1751f-3ddd-43a9-bd7e-fe4f897154ac",
   "metadata": {},
   "outputs": [],
   "source": [
    "gbvs_data_dir = \"../preprocessed_data/gbvs_gaze_pos\"\n",
    "num_subj = len(subj_names)"
   ]
  },
  {
   "cell_type": "code",
   "execution_count": 35,
   "id": "2f809df6-152d-4f05-9d12-2dc270da9fab",
   "metadata": {
    "scrolled": true
   },
   "outputs": [
    {
     "data": {
      "application/vnd.jupyter.widget-view+json": {
       "model_id": "dc409e3cdccf43a9809189fdec20f89a",
       "version_major": 2,
       "version_minor": 0
      },
      "text/plain": [
       "  0%|          | 0/200 [00:00<?, ?it/s]"
      ]
     },
     "metadata": {},
     "output_type": "display_data"
    },
    {
     "name": "stdout",
     "output_type": "stream",
     "text": [
      "ADVEN_12a ADVEN_12a_c\n",
      "ADVEN_15a ADVEN_15a_c\n",
      "ADVEN_18a ADVEN_18a_c\n",
      "ADVEN_24a ADVEN_24a_c\n",
      "ADVEN_3a ADVEN_3a_c\n",
      "ADVEN_9a ADVEN_9a_c\n",
      "AMAZI_14a AMAZI_14a_c\n",
      "AMAZI_20a AMAZI_20a_c\n",
      "AMAZI_2a AMAZI_2a_c\n",
      "AMAZI_2b AMAZI_2b_c\n",
      "AMAZI_8a AMAZI_8a_c\n",
      "APPAL_10a APPAL_10a_c\n",
      "APPAL_18a APPAL_18a_c\n",
      "APPAL_2a APPAL_2a_c\n",
      "APPAL_5a APPAL_5a_c\n",
      "APPAL_7b APPAL_7b_c\n",
      "BATM_15a BATM_15a_c\n",
      "BATM_18a BATM_18a_c\n",
      "BATM_21a BATM_21a_c\n",
      "BATM_37a BATM_37a_c\n",
      "BATM_6a BATM_6a_c\n",
      "BATM_9a BATM_9a_c\n",
      "BLIND_5a BLIND_5a_c\n",
      "BOOKC_11a BOOKC_11a_c\n",
      "BOOKC_15a BOOKC_15a_c\n",
      "BOOKC_23a BOOKC_23a_c\n",
      "BOOKC_27a BOOKC_27a_c\n",
      "BOOKC_3a BOOKC_3a_c\n",
      "BURY_15a BURY_15a_c\n",
      "BURY_1b BURY_1b_c\n",
      "BURY_3a BURY_3a_c\n",
      "BURY_5b BURY_5b_c\n",
      "BURY_7a BURY_7a_c\n",
      "CORAL_11a CORAL_11a_c\n",
      "CORAL_14a CORAL_14a_c\n",
      "CORAL_17a CORAL_17a_c\n",
      "CORAL_5a CORAL_5a_c\n",
      "CORAL_5b CORAL_5b_c\n",
      "CORAL_8a CORAL_8a_c\n",
      "Cloud_13a Cloud_13a_c\n",
      "Cloud_17a Cloud_17a_c\n",
      "Cloud_17b Cloud_17b_c\n",
      "Cloud_20a Cloud_20a_c\n",
      "Cloud_24a Cloud_24a_c\n",
      "Cloud_3a Cloud_3a_c\n",
      "Cloud_6a Cloud_6a_c\n",
      "Cloud_9a Cloud_9a_c\n",
      "DEEPB_11a DEEPB_11a_c\n",
      "DEEPB_13a DEEPB_13a_c\n",
      "DEEPB_3a DEEPB_3a_c\n",
      "DEEPB_5a DEEPB_5a_c\n",
      "DEEPB_5b DEEPB_5b_c\n",
      "DEEPB_7a DEEPB_7a_c\n",
      "DEEPB_9a DEEPB_9a_c\n",
      "DEEPB_9b DEEPB_9b_c\n",
      "DEEPB_9c DEEPB_9c_c\n",
      "DREAMG_3a DREAMG_3a_c\n",
      "DREAMG_9a DREAMG_9a_c\n",
      "EASTE_11a EASTE_11a_c\n",
      "EASTE_15a EASTE_15a_c\n",
      "EASTE_19a EASTE_19a_c\n",
      "EASTE_2a EASTE_2a_c\n",
      "EASTE_8b EASTE_8b_c\n",
      "FOODI_10a FOODI_10a_c\n",
      "FOODI_2a FOODI_2a_c\n",
      "FOODI_2b FOODI_2b_c\n",
      "FOODI_4a FOODI_4a_c\n",
      "FOODI_6a FOODI_6a_c\n",
      "FOODI_8a FOODI_8a_c\n",
      "FORGE_11a FORGE_11a_c\n",
      "FORGE_14a FORGE_14a_c\n",
      "FORGE_17a FORGE_17a_c\n",
      "FORGE_8a FORGE_8a_c\n",
      "FREED_12a FREED_12a_c\n",
      "FREED_14a FREED_14a_c\n",
      "FREED_16a FREED_16a_c\n",
      "FREED_2a FREED_2a_c\n",
      "FREED_8a FREED_8a_c\n",
      "GERIS_a GERIS_a_c\n",
      "HESJU_12a HESJU_12a_c\n",
      "HESJU_16b HESJU_16b_c\n",
      "HESJU_30a HESJU_30a_c\n",
      "HESJU_4a HESJU_4a_c\n",
      "HESJU_8b HESJU_8b_c\n",
      "HURT_5a HURT_5a_c\n",
      "HURT_7a HURT_7a_c\n",
      "JULIE_10a JULIE_10a_c\n",
      "JULIE_10b JULIE_10b_c\n",
      "JULIE_14a JULIE_14a_c\n",
      "JULIE_18a JULIE_18a_c\n",
      "JULIE_22a JULIE_22a_c\n",
      "JULIE_6a JULIE_6a_c\n",
      "LARS_12a LARS_12a_c\n",
      "LARS_16a LARS_16a_c\n",
      "LARS_20a LARS_20a_c\n",
      "LARS_24a LARS_24a_c\n",
      "LARS_4a LARS_4a_c\n",
      "LIFTE_a LIFTE_a_c\n",
      "LOOP_5a LOOP_5a_c\n",
      "MARCH_10a MARCH_10a_c\n",
      "MARCH_12a MARCH_12a_c\n",
      "MARCH_14a MARCH_14a_c\n",
      "MARCH_16a MARCH_16a_c\n",
      "MARCH_16b MARCH_16b_c\n",
      "MARCH_18a MARCH_18a_c\n",
      "MARCH_3a MARCH_3a_c\n",
      "MARCH_3b MARCH_3b_c\n",
      "MARCH_6a MARCH_6a_c\n",
      "MARCH_6b MARCH_6b_c\n",
      "MARCH_8a MARCH_8a_c\n",
      "MARGO_2a MARGO_2a_c\n",
      "MARGO_4a MARGO_4a_c\n",
      "MARGO_4b MARGO_4b_c\n",
      "MARGO_6b MARGO_6b_c\n",
      "MARGO_8a MARGO_8a_c\n",
      "MICRO_11a MICRO_11a_c\n",
      "MICRO_12a MICRO_12a_c\n",
      "MICRO_2a MICRO_2a_c\n",
      "MICRO_2b MICRO_2b_c\n",
      "MICRO_3a MICRO_3a_c\n",
      "MICRO_5a MICRO_5a_c\n",
      "MISSP_12a MISSP_12a_c\n",
      "MISSP_15a MISSP_15a_c\n",
      "MISSP_3a MISSP_3a_c\n",
      "MISSP_6a MISSP_6a_c\n",
      "MISSP_9a MISSP_9a_c\n",
      "MULAN_11a MULAN_11a_c\n",
      "MULAN_15a MULAN_15a_c\n",
      "MULAN_19a MULAN_19a_c\n",
      "MULAN_3a MULAN_3a_c\n",
      "MULAN_7a MULAN_7a_c\n",
      "NANN_15a NANN_15a_c\n",
      "NANN_3a NANN_3a_c\n",
      "NANN_6a NANN_6a_c\n",
      "OCTOB_11c OCTOB_11c_c\n",
      "OCTOB_13a OCTOB_13a_c\n",
      "OCTOB_3a OCTOB_3a_c\n",
      "OCTOB_5b OCTOB_5b_c\n",
      "OCTOB_7a OCTOB_7a_c\n",
      "OFFIC_24a OFFIC_24a_c\n",
      "OFFIC_4a OFFIC_4a_c\n",
      "PAYIT_13a PAYIT_13a_c\n",
      "PAYIT_27a PAYIT_27a_c\n",
      "PAYIT_3a PAYIT_3a_c\n",
      "RECOUNT_2a RECOUNT_2a_c\n",
      "RECOUNT_4a RECOUNT_4a_c\n",
      "RECOUNT_4b RECOUNT_4b_c\n",
      "RECOUNT_8a RECOUNT_8a_c\n",
      "RECOUNT_8c RECOUNT_8c_c\n",
      "SHAKE_16a SHAKE_16a_c\n",
      "SHAKE_20a SHAKE_20a_c\n",
      "SHAKE_24a SHAKE_24a_c\n",
      "SHAKE_28a SHAKE_28a_c\n",
      "SHAKE_8c SHAKE_8c_c\n",
      "SHREK_10a SHREK_10a_c\n",
      "SHREK_10b SHREK_10b_c\n",
      "SHREK_13b SHREK_13b_c\n",
      "SHREK_15a SHREK_15a_c\n",
      "SHREK_15b SHREK_15b_c\n",
      "SHREK_3a SHREK_3a_c\n",
      "SHREK_3b SHREK_3b_c\n",
      "SHREK_5a SHREK_5a_c\n",
      "SHREK_5b SHREK_5b_c\n",
      "SHREK_8a SHREK_8a_c\n",
      "SIMPS_11a SIMPS_11a_c\n",
      "SIMPS_14a SIMPS_14a_c\n",
      "SIMPS_17a SIMPS_17a_c\n",
      "SIMPS_19a SIMPS_19a_c\n",
      "SIMPS_22a SIMPS_22a_c\n",
      "SIMPS_22b SIMPS_22b_c\n",
      "SIMPS_3a SIMPS_3a_c\n",
      "SIMPS_6a SIMPS_6a_c\n",
      "SIMPS_9a SIMPS_9a_c\n",
      "SQUID_12c SQUID_12c_c\n",
      "SQUID_2a SQUID_2a_c\n",
      "SQUID_4a SQUID_4a_c\n",
      "SQUID_6a SQUID_6a_c\n",
      "SQUID_8a SQUID_8a_c\n",
      "STARD_16a STARD_16a_c\n",
      "STARD_2a STARD_2a_c\n",
      "STARD_4a STARD_4a_c\n",
      "STARD_4c STARD_4c_c\n",
      "STARD_7a STARD_7a_c\n",
      "STEPF_16a STEPF_16a_c\n",
      "STEPF_23a STEPF_23a_c\n",
      "STEPF_4a STEPF_4a_c\n",
      "STEPF_5a STEPF_5a_c\n",
      "Spide_16a Spide_16a_c\n",
      "Spide_30a Spide_30a_c\n",
      "Spide_40a Spide_40a_c\n",
      "Spide_4a Spide_4a_c\n",
      "Spide_8a Spide_8a_c\n",
      "WINGE_12a WINGE_12a_c\n",
      "WINGE_15a WINGE_15a_c\n",
      "WINGE_18a WINGE_18a_c\n",
      "WINGE_18b WINGE_18b_c\n",
      "WINGE_21a WINGE_21a_c\n",
      "WINGE_3a WINGE_3a_c\n",
      "WINGE_6a WINGE_6a_c\n",
      "WINGE_9a WINGE_9a_c\n"
     ]
    }
   ],
   "source": [
    "#v = video_names[0]\n",
    "dist_mat_dict = {}\n",
    "for v in tqdm(video_names):\n",
    "    movie_info_key = None\n",
    "    for key in movie_info.files:\n",
    "        if v in key:\n",
    "            movie_info_key = key\n",
    "    print(v, movie_info_key)\n",
    "    dist_mat_dict[v] = {}\n",
    "    \n",
    "    # load subject gaze pos\n",
    "    subj_gaze_pos = np.load(f\"{subj_data_dir}/{v}.npz\", allow_pickle=True)\n",
    "    \n",
    "    # load vit gaze pos\n",
    "    gbvs_gaze_pos_data = loadmat(f\"{gbvs_data_dir}/{movie_info_key}.mat\", simplify_cells=True)[\"gbvs_res\"]\n",
    "    \n",
    "    for gbvs_key in gbvs_keys:\n",
    "        gbvs_gaze_pos_key = gbvs_gaze_pos_data[gbvs_key]\n",
    "        \n",
    "        # upsampling \n",
    "        gbvs_gaze_pos_key_upsampled = np.repeat(gbvs_gaze_pos_key, num_upsample, axis=0)\n",
    "        dist_mat = np.zeros(num_subj)\n",
    "        for i in range(num_subj):\n",
    "            si = subj_names[i]\n",
    "            if subj_gaze_pos.get(si) is not None:\n",
    "                gaze_diff = gbvs_gaze_pos_key_upsampled - subj_gaze_pos[si].T\n",
    "                diff_norm = np.linalg.norm(gaze_diff, axis=-1)\n",
    "                dist_mat[i] = np.nanmedian(diff_norm, axis=-1)\n",
    "            else:\n",
    "                dist_mat[i] = np.nan\n",
    "        dist_mat_dict[v][gbvs_key] = dist_mat"
   ]
  },
  {
   "cell_type": "code",
   "execution_count": 36,
   "id": "4e41b912-d2f8-41f1-a636-2428116ff24b",
   "metadata": {},
   "outputs": [],
   "source": [
    "np.savez_compressed(\"../preprocessed_data/subj2gbvs_dist.npz\", **dist_mat_dict)"
   ]
  },
  {
   "cell_type": "code",
   "execution_count": 37,
   "id": "c2dfc90d-f08d-408c-acea-1d8ad519b58d",
   "metadata": {},
   "outputs": [],
   "source": [
    "subj2subj_data = np.load(\"../preprocessed_data/subj2subj_dist.npz\", allow_pickle=True)"
   ]
  },
  {
   "cell_type": "code",
   "execution_count": 38,
   "id": "0e35d298-2f0e-4391-8fb2-00a6fe060f51",
   "metadata": {
    "scrolled": true
   },
   "outputs": [],
   "source": [
    "dist_nanmedian = subj2subj_data[\"dist_nanmedian\"]"
   ]
  },
  {
   "cell_type": "code",
   "execution_count": 40,
   "id": "53329b2f-31bb-4aaf-9209-d771ab9b13a7",
   "metadata": {},
   "outputs": [
    {
     "data": {
      "application/vnd.jupyter.widget-view+json": {
       "model_id": "2a55dca636ba4258a89289ce47d0a31e",
       "version_major": 2,
       "version_minor": 0
      },
      "text/plain": [
       "0it [00:00, ?it/s]"
      ]
     },
     "metadata": {},
     "output_type": "display_data"
    },
    {
     "data": {
      "application/vnd.jupyter.widget-view+json": {
       "model_id": "231a642c3a144a9498154efe93a2c4f8",
       "version_major": 2,
       "version_minor": 0
      },
      "text/plain": [
       "0it [00:00, ?it/s]"
      ]
     },
     "metadata": {},
     "output_type": "display_data"
    },
    {
     "data": {
      "application/vnd.jupyter.widget-view+json": {
       "model_id": "69bd3c85e4d64a609e96e119ae332984",
       "version_major": 2,
       "version_minor": 0
      },
      "text/plain": [
       "0it [00:00, ?it/s]"
      ]
     },
     "metadata": {},
     "output_type": "display_data"
    },
    {
     "data": {
      "application/vnd.jupyter.widget-view+json": {
       "model_id": "56c8091cf3ae40bfaca20638de0530c7",
       "version_major": 2,
       "version_minor": 0
      },
      "text/plain": [
       "0it [00:00, ?it/s]"
      ]
     },
     "metadata": {},
     "output_type": "display_data"
    },
    {
     "data": {
      "application/vnd.jupyter.widget-view+json": {
       "model_id": "93ee4ec269e5475a9c77937d4726ccd8",
       "version_major": 2,
       "version_minor": 0
      },
      "text/plain": [
       "0it [00:00, ?it/s]"
      ]
     },
     "metadata": {},
     "output_type": "display_data"
    },
    {
     "data": {
      "application/vnd.jupyter.widget-view+json": {
       "model_id": "95b12757fc3f492fa4f21d650f91cac5",
       "version_major": 2,
       "version_minor": 0
      },
      "text/plain": [
       "0it [00:00, ?it/s]"
      ]
     },
     "metadata": {},
     "output_type": "display_data"
    },
    {
     "data": {
      "application/vnd.jupyter.widget-view+json": {
       "model_id": "56e39f9f3541449b8a587650d7d84655",
       "version_major": 2,
       "version_minor": 0
      },
      "text/plain": [
       "0it [00:00, ?it/s]"
      ]
     },
     "metadata": {},
     "output_type": "display_data"
    }
   ],
   "source": [
    "dist_mat_mean_dict = {}\n",
    "for gbvs_key in gbvs_keys:\n",
    "    dist_mat_all = []\n",
    "    for i, v in tqdm(enumerate(video_names)):\n",
    "        dist_mat = dist_mat_dict[v][gbvs_key]\n",
    "        dist_mat_normalized = dist_mat / dist_nanmedian[i]\n",
    "        dist_mat_all.append(dist_mat_normalized)\n",
    "    dist_mat_all = np.array(dist_mat_all)\n",
    "    dist_mat_mean_dict[gbvs_key] = np.nanmean(dist_mat_all, axis=0)"
   ]
  },
  {
   "cell_type": "code",
   "execution_count": 43,
   "id": "613258d6-9f73-4765-8067-ea13edc0be9e",
   "metadata": {},
   "outputs": [],
   "source": [
    "np.savez_compressed(\"../preprocessed_data/subj2gbvs_mean_dist.npz\", **dist_mat_mean_dict)"
   ]
  }
 ],
 "metadata": {
  "kernelspec": {
   "display_name": "Python 3 (ipykernel)",
   "language": "python",
   "name": "python3"
  },
  "language_info": {
   "codemirror_mode": {
    "name": "ipython",
    "version": 3
   },
   "file_extension": ".py",
   "mimetype": "text/x-python",
   "name": "python",
   "nbconvert_exporter": "python",
   "pygments_lexer": "ipython3",
   "version": "3.10.11"
  }
 },
 "nbformat": 4,
 "nbformat_minor": 5
}
