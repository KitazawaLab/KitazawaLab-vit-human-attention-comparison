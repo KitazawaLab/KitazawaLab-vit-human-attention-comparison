{
 "cells": [
  {
   "cell_type": "code",
   "execution_count": 1,
   "id": "bb6092aa",
   "metadata": {},
   "outputs": [],
   "source": [
    "import numpy as np\n",
    "import matplotlib.pyplot as plt\n",
    "from scipy.io import loadmat \n",
    "import os\n",
    "import glob"
   ]
  },
  {
   "cell_type": "code",
   "execution_count": 2,
   "id": "d50e3ae5-c243-4025-bbce-181409e93b39",
   "metadata": {},
   "outputs": [],
   "source": [
    "import pandas as pd\n",
    "from tqdm.notebook import tqdm"
   ]
  },
  {
   "cell_type": "markdown",
   "id": "56971413-1538-40d8-b5d7-c0f8200765c3",
   "metadata": {},
   "source": [
    "> The gaze of each subject was tracked monocularly (best or preferred eye) as they viewed an iMac (Apple, Cupertino, CA), mid-2010, 2700\n",
    "display (60 x 34 cm; 60Hz; 2560 by 1440 pixels; 16:9 aspect ratio) or a Barco F50 projector (Gamle Fredrikstad, Norway) and Stewart Filmscreen (Torrance, CA) Aeroview 70 rear-projection screen to create a 27”display (60 34 cm; 120 Hz; 1920 x 1080 pixels 16:9 aspect ratio) from 1 m away for a 3319\n",
    "potential viewing area."
   ]
  },
  {
   "cell_type": "code",
   "execution_count": 4,
   "id": "5f80d610-b5ab-4ef5-8077-bbcfcc39e0d4",
   "metadata": {},
   "outputs": [],
   "source": [
    "data_info = pd.read_csv(\"../30s_segment_description.csv\")"
   ]
  },
  {
   "cell_type": "code",
   "execution_count": 5,
   "id": "8850e552-118d-4d5f-b7da-7cd9ca4629a1",
   "metadata": {
    "scrolled": true
   },
   "outputs": [
    {
     "data": {
      "text/html": [
       "<div>\n",
       "<style scoped>\n",
       "    .dataframe tbody tr th:only-of-type {\n",
       "        vertical-align: middle;\n",
       "    }\n",
       "\n",
       "    .dataframe tbody tr th {\n",
       "        vertical-align: top;\n",
       "    }\n",
       "\n",
       "    .dataframe thead th {\n",
       "        text-align: right;\n",
       "    }\n",
       "</style>\n",
       "<table border=\"1\" class=\"dataframe\">\n",
       "  <thead>\n",
       "    <tr style=\"text-align: right;\">\n",
       "      <th></th>\n",
       "      <th>index</th>\n",
       "      <th>file name</th>\n",
       "      <th>movie name</th>\n",
       "      <th>ch</th>\n",
       "      <th>location in ch (min/frames)</th>\n",
       "      <th>length</th>\n",
       "      <th>AR (approx)</th>\n",
       "      <th>size</th>\n",
       "      <th>genre (IMDB)</th>\n",
       "      <th>genre category</th>\n",
       "      <th>...</th>\n",
       "      <th>human figures (0-5)</th>\n",
       "      <th>nature (0-5)</th>\n",
       "      <th>man-made objects (0-5)</th>\n",
       "      <th>environment</th>\n",
       "      <th>light (0-5)</th>\n",
       "      <th>light category</th>\n",
       "      <th>aud. Info</th>\n",
       "      <th>possible question</th>\n",
       "      <th>possible answers</th>\n",
       "      <th>content elements</th>\n",
       "    </tr>\n",
       "  </thead>\n",
       "  <tbody>\n",
       "    <tr>\n",
       "      <th>0</th>\n",
       "      <td>NaN</td>\n",
       "      <td>STEPF_3a</td>\n",
       "      <td>The Stepfather</td>\n",
       "      <td>3</td>\n",
       "      <td>00:33.03/792-01:03.05/1511</td>\n",
       "      <td>30.01s</td>\n",
       "      <td>21x9</td>\n",
       "      <td>853x360</td>\n",
       "      <td>mystery/thriller</td>\n",
       "      <td>a demo (drama/other)</td>\n",
       "      <td>...</td>\n",
       "      <td>3</td>\n",
       "      <td>0</td>\n",
       "      <td>2</td>\n",
       "      <td>indoor</td>\n",
       "      <td>2</td>\n",
       "      <td>low</td>\n",
       "      <td>4</td>\n",
       "      <td>NaN</td>\n",
       "      <td>NaN</td>\n",
       "      <td>NaN</td>\n",
       "    </tr>\n",
       "    <tr>\n",
       "      <th>1</th>\n",
       "      <td>NaN</td>\n",
       "      <td>APPAL_7a</td>\n",
       "      <td>Appaloosa</td>\n",
       "      <td>7</td>\n",
       "      <td>00:01.70/41-00:31.73/761</td>\n",
       "      <td>30.03s</td>\n",
       "      <td>21x9</td>\n",
       "      <td>853x360</td>\n",
       "      <td>action/crime/drama (Western?)</td>\n",
       "      <td>a demo (drama/other)</td>\n",
       "      <td>...</td>\n",
       "      <td>4</td>\n",
       "      <td>3</td>\n",
       "      <td>0</td>\n",
       "      <td>outdoor</td>\n",
       "      <td>5</td>\n",
       "      <td>high</td>\n",
       "      <td>3</td>\n",
       "      <td>its hard to tell which characters are speaking...</td>\n",
       "      <td>NaN</td>\n",
       "      <td>NaN</td>\n",
       "    </tr>\n",
       "    <tr>\n",
       "      <th>2</th>\n",
       "      <td>NaN</td>\n",
       "      <td>STARD_2b</td>\n",
       "      <td>Stardust</td>\n",
       "      <td>2</td>\n",
       "      <td>04:05.52/5886-04:35.57/6607</td>\n",
       "      <td>30.04s</td>\n",
       "      <td>21x9</td>\n",
       "      <td>853x356</td>\n",
       "      <td>adventure/comedy/family (fantasy?)</td>\n",
       "      <td>a demo (drama/other)</td>\n",
       "      <td>...</td>\n",
       "      <td>3</td>\n",
       "      <td>3</td>\n",
       "      <td>2</td>\n",
       "      <td>outdoor</td>\n",
       "      <td>1</td>\n",
       "      <td>low</td>\n",
       "      <td>3</td>\n",
       "      <td>describe what the characters are doing</td>\n",
       "      <td>candlelight picnic, candles on branches, champ...</td>\n",
       "      <td>NaN</td>\n",
       "    </tr>\n",
       "    <tr>\n",
       "      <th>3</th>\n",
       "      <td>1.0</td>\n",
       "      <td>Cloud_13a</td>\n",
       "      <td>Cloudy with a Chance of Meatballs</td>\n",
       "      <td>13</td>\n",
       "      <td>00:48.36/1160-01:18.38/1880</td>\n",
       "      <td>30.01s</td>\n",
       "      <td>16x9 (may be 1.77:1 to 1.85:1)</td>\n",
       "      <td>853x480</td>\n",
       "      <td>animation/comedy/family</td>\n",
       "      <td>cartoon/animation</td>\n",
       "      <td>...</td>\n",
       "      <td>3</td>\n",
       "      <td>2</td>\n",
       "      <td>1</td>\n",
       "      <td>outdoor</td>\n",
       "      <td>4</td>\n",
       "      <td>high</td>\n",
       "      <td>3</td>\n",
       "      <td>describe the man's expressions and body langua...</td>\n",
       "      <td>NaN</td>\n",
       "      <td>NaN</td>\n",
       "    </tr>\n",
       "    <tr>\n",
       "      <th>4</th>\n",
       "      <td>2.0</td>\n",
       "      <td>Cloud_17a</td>\n",
       "      <td>Cloudy with a Chance of Meatballs</td>\n",
       "      <td>17</td>\n",
       "      <td>00:00.00/0-00:30.02/720</td>\n",
       "      <td>30.02s</td>\n",
       "      <td>16x9 (may be 1.77:1 to 1.85:1)</td>\n",
       "      <td>853x480</td>\n",
       "      <td>animation/comedy/family</td>\n",
       "      <td>cartoon/animation</td>\n",
       "      <td>...</td>\n",
       "      <td>4</td>\n",
       "      <td>0</td>\n",
       "      <td>4</td>\n",
       "      <td>outdoor</td>\n",
       "      <td>4</td>\n",
       "      <td>high</td>\n",
       "      <td>3</td>\n",
       "      <td>describe the mayor</td>\n",
       "      <td>extremely obese, white shirt, grey/blue jacket...</td>\n",
       "      <td>NaN</td>\n",
       "    </tr>\n",
       "    <tr>\n",
       "      <th>...</th>\n",
       "      <td>...</td>\n",
       "      <td>...</td>\n",
       "      <td>...</td>\n",
       "      <td>...</td>\n",
       "      <td>...</td>\n",
       "      <td>...</td>\n",
       "      <td>...</td>\n",
       "      <td>...</td>\n",
       "      <td>...</td>\n",
       "      <td>...</td>\n",
       "      <td>...</td>\n",
       "      <td>...</td>\n",
       "      <td>...</td>\n",
       "      <td>...</td>\n",
       "      <td>...</td>\n",
       "      <td>...</td>\n",
       "      <td>...</td>\n",
       "      <td>...</td>\n",
       "      <td>...</td>\n",
       "      <td>...</td>\n",
       "      <td>...</td>\n",
       "    </tr>\n",
       "    <tr>\n",
       "      <th>204</th>\n",
       "      <td>202.0</td>\n",
       "      <td>BLUE_10a_POR</td>\n",
       "      <td>Blue Planet</td>\n",
       "      <td>10</td>\n",
       "      <td>00:00/00-00:30:00/922</td>\n",
       "      <td>30:00s</td>\n",
       "      <td>NaN</td>\n",
       "      <td>480x240</td>\n",
       "      <td>documentary</td>\n",
       "      <td>doc/nature</td>\n",
       "      <td>...</td>\n",
       "      <td>0</td>\n",
       "      <td>5</td>\n",
       "      <td>0</td>\n",
       "      <td>outdoor</td>\n",
       "      <td>4</td>\n",
       "      <td>high</td>\n",
       "      <td>4</td>\n",
       "      <td>NaN</td>\n",
       "      <td>NaN</td>\n",
       "      <td>NaN</td>\n",
       "    </tr>\n",
       "    <tr>\n",
       "      <th>205</th>\n",
       "      <td>203.0</td>\n",
       "      <td>NETW_7a_POR</td>\n",
       "      <td>Network</td>\n",
       "      <td>7</td>\n",
       "      <td>00:00/00-00:30:00/922</td>\n",
       "      <td>30:00s</td>\n",
       "      <td>NaN</td>\n",
       "      <td>480x240</td>\n",
       "      <td>drama/history</td>\n",
       "      <td>drama/other</td>\n",
       "      <td>...</td>\n",
       "      <td>5</td>\n",
       "      <td>0</td>\n",
       "      <td>5</td>\n",
       "      <td>indoor</td>\n",
       "      <td>3</td>\n",
       "      <td>medium</td>\n",
       "      <td>3</td>\n",
       "      <td>NaN</td>\n",
       "      <td>NaN</td>\n",
       "      <td>NaN</td>\n",
       "    </tr>\n",
       "    <tr>\n",
       "      <th>206</th>\n",
       "      <td>204.0</td>\n",
       "      <td>QUIZ_8a_POR</td>\n",
       "      <td>Quiz Show</td>\n",
       "      <td>8</td>\n",
       "      <td>00:00/00-00:29:00/893</td>\n",
       "      <td>29:00s</td>\n",
       "      <td>NaN</td>\n",
       "      <td>480x256</td>\n",
       "      <td>drama/history</td>\n",
       "      <td>drama/other</td>\n",
       "      <td>...</td>\n",
       "      <td>5</td>\n",
       "      <td>0</td>\n",
       "      <td>5</td>\n",
       "      <td>indoor</td>\n",
       "      <td>3</td>\n",
       "      <td>medium</td>\n",
       "      <td>3</td>\n",
       "      <td>NaN</td>\n",
       "      <td>NaN</td>\n",
       "      <td>NaN</td>\n",
       "    </tr>\n",
       "    <tr>\n",
       "      <th>207</th>\n",
       "      <td>205.0</td>\n",
       "      <td>SHAKE_11a_POR</td>\n",
       "      <td>Shakespeare in Love</td>\n",
       "      <td>11</td>\n",
       "      <td>00:00/00-00:30:00/910</td>\n",
       "      <td>30:00s</td>\n",
       "      <td>NaN</td>\n",
       "      <td>480x192</td>\n",
       "      <td>drama/romance</td>\n",
       "      <td>drama/other</td>\n",
       "      <td>...</td>\n",
       "      <td>4</td>\n",
       "      <td>3</td>\n",
       "      <td>1</td>\n",
       "      <td>outdoor</td>\n",
       "      <td>2</td>\n",
       "      <td>low</td>\n",
       "      <td>3</td>\n",
       "      <td>NaN</td>\n",
       "      <td>NaN</td>\n",
       "      <td>NaN</td>\n",
       "    </tr>\n",
       "    <tr>\n",
       "      <th>208</th>\n",
       "      <td>206.0</td>\n",
       "      <td>SUND_36a_POR</td>\n",
       "      <td>Any Given Sunday</td>\n",
       "      <td>36</td>\n",
       "      <td>00:00/00-00:30:00/916</td>\n",
       "      <td>30:00s</td>\n",
       "      <td>NaN</td>\n",
       "      <td>480x176</td>\n",
       "      <td>drama/sports</td>\n",
       "      <td>drama/other</td>\n",
       "      <td>...</td>\n",
       "      <td>5</td>\n",
       "      <td>1</td>\n",
       "      <td>5</td>\n",
       "      <td>outdoor</td>\n",
       "      <td>5</td>\n",
       "      <td>high</td>\n",
       "      <td>4</td>\n",
       "      <td>NaN</td>\n",
       "      <td>NaN</td>\n",
       "      <td>NaN</td>\n",
       "    </tr>\n",
       "  </tbody>\n",
       "</table>\n",
       "<p>209 rows × 22 columns</p>\n",
       "</div>"
      ],
      "text/plain": [
       "     index      file name                         movie name  ch  \\\n",
       "0      NaN       STEPF_3a                     The Stepfather   3   \n",
       "1      NaN       APPAL_7a                          Appaloosa   7   \n",
       "2      NaN       STARD_2b                           Stardust   2   \n",
       "3      1.0      Cloud_13a  Cloudy with a Chance of Meatballs  13   \n",
       "4      2.0      Cloud_17a  Cloudy with a Chance of Meatballs  17   \n",
       "..     ...            ...                                ...  ..   \n",
       "204  202.0   BLUE_10a_POR                        Blue Planet  10   \n",
       "205  203.0    NETW_7a_POR                            Network   7   \n",
       "206  204.0    QUIZ_8a_POR                          Quiz Show   8   \n",
       "207  205.0  SHAKE_11a_POR                Shakespeare in Love  11   \n",
       "208  206.0   SUND_36a_POR                   Any Given Sunday  36   \n",
       "\n",
       "     location in ch (min/frames)  length                     AR (approx)  \\\n",
       "0     00:33.03/792-01:03.05/1511  30.01s                            21x9   \n",
       "1       00:01.70/41-00:31.73/761  30.03s                            21x9   \n",
       "2    04:05.52/5886-04:35.57/6607  30.04s                            21x9   \n",
       "3    00:48.36/1160-01:18.38/1880  30.01s  16x9 (may be 1.77:1 to 1.85:1)   \n",
       "4        00:00.00/0-00:30.02/720  30.02s  16x9 (may be 1.77:1 to 1.85:1)   \n",
       "..                           ...     ...                             ...   \n",
       "204        00:00/00-00:30:00/922  30:00s                             NaN   \n",
       "205        00:00/00-00:30:00/922  30:00s                             NaN   \n",
       "206        00:00/00-00:29:00/893  29:00s                             NaN   \n",
       "207        00:00/00-00:30:00/910  30:00s                             NaN   \n",
       "208        00:00/00-00:30:00/916  30:00s                             NaN   \n",
       "\n",
       "        size                        genre (IMDB)        genre category  ...  \\\n",
       "0    853x360                    mystery/thriller  a demo (drama/other)  ...   \n",
       "1    853x360       action/crime/drama (Western?)  a demo (drama/other)  ...   \n",
       "2    853x356  adventure/comedy/family (fantasy?)  a demo (drama/other)  ...   \n",
       "3    853x480             animation/comedy/family     cartoon/animation  ...   \n",
       "4    853x480             animation/comedy/family     cartoon/animation  ...   \n",
       "..       ...                                 ...                   ...  ...   \n",
       "204  480x240                         documentary            doc/nature  ...   \n",
       "205  480x240                       drama/history           drama/other  ...   \n",
       "206  480x256                       drama/history           drama/other  ...   \n",
       "207  480x192                       drama/romance           drama/other  ...   \n",
       "208  480x176                        drama/sports           drama/other  ...   \n",
       "\n",
       "     human figures (0-5)  nature (0-5) man-made objects (0-5)  environment  \\\n",
       "0                      3             0                      2       indoor   \n",
       "1                      4             3                      0      outdoor   \n",
       "2                      3             3                      2      outdoor   \n",
       "3                      3             2                      1      outdoor   \n",
       "4                      4             0                      4      outdoor   \n",
       "..                   ...           ...                    ...          ...   \n",
       "204                    0             5                      0      outdoor   \n",
       "205                    5             0                      5       indoor   \n",
       "206                    5             0                      5       indoor   \n",
       "207                    4             3                      1      outdoor   \n",
       "208                    5             1                      5      outdoor   \n",
       "\n",
       "     light (0-5) light category  aud. Info  \\\n",
       "0              2            low          4   \n",
       "1              5           high          3   \n",
       "2              1            low          3   \n",
       "3              4           high          3   \n",
       "4              4           high          3   \n",
       "..           ...            ...        ...   \n",
       "204            4           high          4   \n",
       "205            3         medium          3   \n",
       "206            3         medium          3   \n",
       "207            2            low          3   \n",
       "208            5           high          4   \n",
       "\n",
       "                                     possible question  \\\n",
       "0                                                  NaN   \n",
       "1    its hard to tell which characters are speaking...   \n",
       "2               describe what the characters are doing   \n",
       "3    describe the man's expressions and body langua...   \n",
       "4                                   describe the mayor   \n",
       "..                                                 ...   \n",
       "204                                                NaN   \n",
       "205                                                NaN   \n",
       "206                                                NaN   \n",
       "207                                                NaN   \n",
       "208                                                NaN   \n",
       "\n",
       "                                      possible answers content elements  \n",
       "0                                                  NaN              NaN  \n",
       "1                                                  NaN              NaN  \n",
       "2    candlelight picnic, candles on branches, champ...              NaN  \n",
       "3                                                  NaN              NaN  \n",
       "4    extremely obese, white shirt, grey/blue jacket...              NaN  \n",
       "..                                                 ...              ...  \n",
       "204                                                NaN              NaN  \n",
       "205                                                NaN              NaN  \n",
       "206                                                NaN              NaN  \n",
       "207                                                NaN              NaN  \n",
       "208                                                NaN              NaN  \n",
       "\n",
       "[209 rows x 22 columns]"
      ]
     },
     "execution_count": 5,
     "metadata": {},
     "output_type": "execute_result"
    }
   ],
   "source": [
    "data_info"
   ]
  },
  {
   "cell_type": "code",
   "execution_count": 6,
   "id": "22c4e8f8-b523-431a-ab39-4fea3c063dfc",
   "metadata": {},
   "outputs": [],
   "source": [
    "data_dir = \"../preprocessed_data/gaze_pos_dist\""
   ]
  },
  {
   "cell_type": "code",
   "execution_count": 7,
   "id": "79514711-c350-437d-b21f-bd06ff37885c",
   "metadata": {},
   "outputs": [],
   "source": [
    "data_path = glob.glob(f\"{data_dir}/*.npz\")"
   ]
  },
  {
   "cell_type": "code",
   "execution_count": 8,
   "id": "fc40104a-ad6f-4fac-acad-51e45041ecfd",
   "metadata": {
    "scrolled": true
   },
   "outputs": [
    {
     "data": {
      "text/plain": [
       "['../preprocessed_data/gaze_pos_dist/SHAKE_16a.npz',\n",
       " '../preprocessed_data/gaze_pos_dist/MULAN_7a.npz',\n",
       " '../preprocessed_data/gaze_pos_dist/MISSP_3a.npz',\n",
       " '../preprocessed_data/gaze_pos_dist/MULAN_3a.npz',\n",
       " '../preprocessed_data/gaze_pos_dist/BURY_3a.npz',\n",
       " '../preprocessed_data/gaze_pos_dist/APPAL_18a.npz',\n",
       " '../preprocessed_data/gaze_pos_dist/MULAN_19a.npz',\n",
       " '../preprocessed_data/gaze_pos_dist/FOODI_4a.npz',\n",
       " '../preprocessed_data/gaze_pos_dist/MARCH_14a.npz',\n",
       " '../preprocessed_data/gaze_pos_dist/MICRO_12a.npz',\n",
       " '../preprocessed_data/gaze_pos_dist/OFFIC_24a.npz',\n",
       " '../preprocessed_data/gaze_pos_dist/HESJU_4a.npz',\n",
       " '../preprocessed_data/gaze_pos_dist/MICRO_11a.npz',\n",
       " '../preprocessed_data/gaze_pos_dist/APPAL_7b.npz',\n",
       " '../preprocessed_data/gaze_pos_dist/MARCH_18a.npz',\n",
       " '../preprocessed_data/gaze_pos_dist/FREED_16a.npz',\n",
       " '../preprocessed_data/gaze_pos_dist/DEEPB_13a.npz',\n",
       " '../preprocessed_data/gaze_pos_dist/APPAL_5a.npz',\n",
       " '../preprocessed_data/gaze_pos_dist/MICRO_3a.npz',\n",
       " '../preprocessed_data/gaze_pos_dist/BATM_15a.npz',\n",
       " '../preprocessed_data/gaze_pos_dist/APPAL_2a.npz',\n",
       " '../preprocessed_data/gaze_pos_dist/JULIE_10a.npz',\n",
       " '../preprocessed_data/gaze_pos_dist/BURY_5b.npz',\n",
       " '../preprocessed_data/gaze_pos_dist/GERIS_a.npz',\n",
       " '../preprocessed_data/gaze_pos_dist/SHREK_10b.npz',\n",
       " '../preprocessed_data/gaze_pos_dist/SHREK_8a.npz',\n",
       " '../preprocessed_data/gaze_pos_dist/SHREK_5a.npz',\n",
       " '../preprocessed_data/gaze_pos_dist/STARD_4a.npz',\n",
       " '../preprocessed_data/gaze_pos_dist/Cloud_6a.npz',\n",
       " '../preprocessed_data/gaze_pos_dist/BURY_1b.npz',\n",
       " '../preprocessed_data/gaze_pos_dist/STARD_2a.npz',\n",
       " '../preprocessed_data/gaze_pos_dist/RECOUNT_2a.npz',\n",
       " '../preprocessed_data/gaze_pos_dist/SQUID_2a.npz',\n",
       " '../preprocessed_data/gaze_pos_dist/MARCH_8a.npz',\n",
       " '../preprocessed_data/gaze_pos_dist/OCTOB_7a.npz',\n",
       " '../preprocessed_data/gaze_pos_dist/EASTE_11a.npz',\n",
       " '../preprocessed_data/gaze_pos_dist/SHAKE_28a.npz',\n",
       " '../preprocessed_data/gaze_pos_dist/FREED_12a.npz',\n",
       " '../preprocessed_data/gaze_pos_dist/OCTOB_11c.npz',\n",
       " '../preprocessed_data/gaze_pos_dist/Spide_40a.npz',\n",
       " '../preprocessed_data/gaze_pos_dist/Cloud_13a.npz',\n",
       " '../preprocessed_data/gaze_pos_dist/DEEPB_3a.npz',\n",
       " '../preprocessed_data/gaze_pos_dist/APPAL_10a.npz',\n",
       " '../preprocessed_data/gaze_pos_dist/ADVEN_9a.npz',\n",
       " '../preprocessed_data/gaze_pos_dist/NANN_6a.npz',\n",
       " '../preprocessed_data/gaze_pos_dist/HURT_5a.npz',\n",
       " '../preprocessed_data/gaze_pos_dist/SIMPS_9a.npz',\n",
       " '../preprocessed_data/gaze_pos_dist/AMAZI_20a.npz',\n",
       " '../preprocessed_data/gaze_pos_dist/FOODI_6a.npz',\n",
       " '../preprocessed_data/gaze_pos_dist/BOOKC_23a.npz',\n",
       " '../preprocessed_data/gaze_pos_dist/SIMPS_22b.npz',\n",
       " '../preprocessed_data/gaze_pos_dist/BATM_21a.npz',\n",
       " '../preprocessed_data/gaze_pos_dist/ADVEN_12a.npz',\n",
       " '../preprocessed_data/gaze_pos_dist/WINGE_18a.npz',\n",
       " '../preprocessed_data/gaze_pos_dist/MICRO_2b.npz',\n",
       " '../preprocessed_data/gaze_pos_dist/WINGE_15a.npz',\n",
       " '../preprocessed_data/gaze_pos_dist/AMAZI_2b.npz',\n",
       " '../preprocessed_data/gaze_pos_dist/SHREK_3a.npz',\n",
       " '../preprocessed_data/gaze_pos_dist/SQUID_4a.npz',\n",
       " '../preprocessed_data/gaze_pos_dist/MARGO_8a.npz',\n",
       " '../preprocessed_data/gaze_pos_dist/Cloud_24a.npz',\n",
       " '../preprocessed_data/gaze_pos_dist/SIMPS_19a.npz',\n",
       " '../preprocessed_data/gaze_pos_dist/MARCH_16a.npz',\n",
       " '../preprocessed_data/gaze_pos_dist/FORGE_14a.npz',\n",
       " '../preprocessed_data/gaze_pos_dist/SIMPS_11a.npz',\n",
       " '../preprocessed_data/gaze_pos_dist/PAYIT_3a.npz',\n",
       " '../preprocessed_data/gaze_pos_dist/SQUID_12c.npz',\n",
       " '../preprocessed_data/gaze_pos_dist/MARCH_6a.npz',\n",
       " '../preprocessed_data/gaze_pos_dist/LARS_12a.npz',\n",
       " '../preprocessed_data/gaze_pos_dist/MARGO_2a.npz',\n",
       " '../preprocessed_data/gaze_pos_dist/BATM_6a.npz',\n",
       " '../preprocessed_data/gaze_pos_dist/MICRO_2a.npz',\n",
       " '../preprocessed_data/gaze_pos_dist/LARS_20a.npz',\n",
       " '../preprocessed_data/gaze_pos_dist/SHREK_13b.npz',\n",
       " '../preprocessed_data/gaze_pos_dist/RECOUNT_4b.npz',\n",
       " '../preprocessed_data/gaze_pos_dist/SHAKE_24a.npz',\n",
       " '../preprocessed_data/gaze_pos_dist/ADVEN_15a.npz',\n",
       " '../preprocessed_data/gaze_pos_dist/BOOKC_15a.npz',\n",
       " '../preprocessed_data/gaze_pos_dist/AMAZI_14a.npz',\n",
       " '../preprocessed_data/gaze_pos_dist/SIMPS_17a.npz',\n",
       " '../preprocessed_data/gaze_pos_dist/HESJU_16b.npz',\n",
       " '../preprocessed_data/gaze_pos_dist/BATM_18a.npz',\n",
       " '../preprocessed_data/gaze_pos_dist/JULIE_6a.npz',\n",
       " '../preprocessed_data/gaze_pos_dist/FOODI_2b.npz',\n",
       " '../preprocessed_data/gaze_pos_dist/SHREK_15a.npz',\n",
       " '../preprocessed_data/gaze_pos_dist/MISSP_6a.npz',\n",
       " '../preprocessed_data/gaze_pos_dist/SQUID_6a.npz',\n",
       " '../preprocessed_data/gaze_pos_dist/SIMPS_3a.npz',\n",
       " '../preprocessed_data/gaze_pos_dist/LOOP_5a.npz',\n",
       " '../preprocessed_data/gaze_pos_dist/DEEPB_7a.npz',\n",
       " '../preprocessed_data/gaze_pos_dist/DREAMG_3a.npz',\n",
       " '../preprocessed_data/gaze_pos_dist/STEPF_4a.npz',\n",
       " '../preprocessed_data/gaze_pos_dist/FOODI_10a.npz',\n",
       " '../preprocessed_data/gaze_pos_dist/CORAL_14a.npz',\n",
       " '../preprocessed_data/gaze_pos_dist/BATM_9a.npz',\n",
       " '../preprocessed_data/gaze_pos_dist/STEPF_23a.npz',\n",
       " '../preprocessed_data/gaze_pos_dist/JULIE_22a.npz',\n",
       " '../preprocessed_data/gaze_pos_dist/ADVEN_18a.npz',\n",
       " '../preprocessed_data/gaze_pos_dist/CORAL_11a.npz',\n",
       " '../preprocessed_data/gaze_pos_dist/LARS_4a.npz',\n",
       " '../preprocessed_data/gaze_pos_dist/BOOKC_3a.npz',\n",
       " '../preprocessed_data/gaze_pos_dist/Cloud_20a.npz',\n",
       " '../preprocessed_data/gaze_pos_dist/WINGE_12a.npz',\n",
       " '../preprocessed_data/gaze_pos_dist/JULIE_10b.npz',\n",
       " '../preprocessed_data/gaze_pos_dist/DREAMG_9a.npz',\n",
       " '../preprocessed_data/gaze_pos_dist/DEEPB_5a.npz',\n",
       " '../preprocessed_data/gaze_pos_dist/Spide_4a.npz',\n",
       " '../preprocessed_data/gaze_pos_dist/SIMPS_6a.npz',\n",
       " '../preprocessed_data/gaze_pos_dist/LARS_24a.npz',\n",
       " '../preprocessed_data/gaze_pos_dist/WINGE_3a.npz',\n",
       " '../preprocessed_data/gaze_pos_dist/NANN_15a.npz',\n",
       " '../preprocessed_data/gaze_pos_dist/MISSP_12a.npz',\n",
       " '../preprocessed_data/gaze_pos_dist/SHREK_5b.npz',\n",
       " '../preprocessed_data/gaze_pos_dist/HURT_7a.npz',\n",
       " '../preprocessed_data/gaze_pos_dist/MARCH_3a.npz',\n",
       " '../preprocessed_data/gaze_pos_dist/WINGE_21a.npz',\n",
       " '../preprocessed_data/gaze_pos_dist/OCTOB_13a.npz',\n",
       " '../preprocessed_data/gaze_pos_dist/EASTE_15a.npz',\n",
       " '../preprocessed_data/gaze_pos_dist/CORAL_17a.npz',\n",
       " '../preprocessed_data/gaze_pos_dist/FREED_14a.npz',\n",
       " '../preprocessed_data/gaze_pos_dist/OCTOB_3a.npz',\n",
       " '../preprocessed_data/gaze_pos_dist/BOOKC_27a.npz',\n",
       " '../preprocessed_data/gaze_pos_dist/SQUID_8a.npz',\n",
       " '../preprocessed_data/gaze_pos_dist/STARD_7a.npz',\n",
       " '../preprocessed_data/gaze_pos_dist/Cloud_3a.npz',\n",
       " '../preprocessed_data/gaze_pos_dist/MISSP_15a.npz',\n",
       " '../preprocessed_data/gaze_pos_dist/FOODI_8a.npz',\n",
       " '../preprocessed_data/gaze_pos_dist/SHAKE_20a.npz',\n",
       " '../preprocessed_data/gaze_pos_dist/MICRO_5a.npz',\n",
       " '../preprocessed_data/gaze_pos_dist/MARGO_4b.npz',\n",
       " '../preprocessed_data/gaze_pos_dist/ADVEN_24a.npz',\n",
       " '../preprocessed_data/gaze_pos_dist/JULIE_18a.npz',\n",
       " '../preprocessed_data/gaze_pos_dist/EASTE_8b.npz',\n",
       " '../preprocessed_data/gaze_pos_dist/CORAL_5a.npz',\n",
       " '../preprocessed_data/gaze_pos_dist/STARD_16a.npz',\n",
       " '../preprocessed_data/gaze_pos_dist/MARCH_16b.npz',\n",
       " '../preprocessed_data/gaze_pos_dist/FORGE_11a.npz',\n",
       " '../preprocessed_data/gaze_pos_dist/BURY_7a.npz',\n",
       " '../preprocessed_data/gaze_pos_dist/FORGE_17a.npz',\n",
       " '../preprocessed_data/gaze_pos_dist/MARGO_6b.npz',\n",
       " '../preprocessed_data/gaze_pos_dist/DEEPB_11a.npz',\n",
       " '../preprocessed_data/gaze_pos_dist/OFFIC_4a.npz',\n",
       " '../preprocessed_data/gaze_pos_dist/DEEPB_5b.npz',\n",
       " '../preprocessed_data/gaze_pos_dist/AMAZI_2a.npz',\n",
       " '../preprocessed_data/gaze_pos_dist/Cloud_17b.npz',\n",
       " '../preprocessed_data/gaze_pos_dist/MARCH_3b.npz',\n",
       " '../preprocessed_data/gaze_pos_dist/Cloud_9a.npz',\n",
       " '../preprocessed_data/gaze_pos_dist/LARS_16a.npz',\n",
       " '../preprocessed_data/gaze_pos_dist/RECOUNT_4a.npz',\n",
       " '../preprocessed_data/gaze_pos_dist/AMAZI_8a.npz',\n",
       " '../preprocessed_data/gaze_pos_dist/PAYIT_27a.npz',\n",
       " '../preprocessed_data/gaze_pos_dist/HESJU_8b.npz',\n",
       " '../preprocessed_data/gaze_pos_dist/SHREK_10a.npz',\n",
       " '../preprocessed_data/gaze_pos_dist/Spide_8a.npz',\n",
       " '../preprocessed_data/gaze_pos_dist/BURY_15a.npz',\n",
       " '../preprocessed_data/gaze_pos_dist/HESJU_12a.npz',\n",
       " '../preprocessed_data/gaze_pos_dist/FORGE_8a.npz',\n",
       " '../preprocessed_data/gaze_pos_dist/FOODI_2a.npz',\n",
       " '../preprocessed_data/gaze_pos_dist/RECOUNT_8a.npz',\n",
       " '../preprocessed_data/gaze_pos_dist/FREED_8a.npz',\n",
       " '../preprocessed_data/gaze_pos_dist/WINGE_18b.npz',\n",
       " '../preprocessed_data/gaze_pos_dist/SHREK_3b.npz',\n",
       " '../preprocessed_data/gaze_pos_dist/Spide_30a.npz',\n",
       " '../preprocessed_data/gaze_pos_dist/BOOKC_11a.npz',\n",
       " '../preprocessed_data/gaze_pos_dist/Cloud_17a.npz',\n",
       " '../preprocessed_data/gaze_pos_dist/MARCH_6b.npz',\n",
       " '../preprocessed_data/gaze_pos_dist/RECOUNT_8c.npz',\n",
       " '../preprocessed_data/gaze_pos_dist/DEEPB_9c.npz',\n",
       " '../preprocessed_data/gaze_pos_dist/LIFTE_a.npz',\n",
       " '../preprocessed_data/gaze_pos_dist/SIMPS_22a.npz',\n",
       " '../preprocessed_data/gaze_pos_dist/STEPF_16a.npz',\n",
       " '../preprocessed_data/gaze_pos_dist/NANN_3a.npz',\n",
       " '../preprocessed_data/gaze_pos_dist/ADVEN_3a.npz',\n",
       " '../preprocessed_data/gaze_pos_dist/SIMPS_14a.npz',\n",
       " '../preprocessed_data/gaze_pos_dist/CORAL_5b.npz',\n",
       " '../preprocessed_data/gaze_pos_dist/MISSP_9a.npz',\n",
       " '../preprocessed_data/gaze_pos_dist/EASTE_2a.npz',\n",
       " '../preprocessed_data/gaze_pos_dist/BATM_37a.npz',\n",
       " '../preprocessed_data/gaze_pos_dist/DEEPB_9b.npz',\n",
       " '../preprocessed_data/gaze_pos_dist/BLIND_5a.npz',\n",
       " '../preprocessed_data/gaze_pos_dist/MARCH_10a.npz',\n",
       " '../preprocessed_data/gaze_pos_dist/JULIE_14a.npz',\n",
       " '../preprocessed_data/gaze_pos_dist/OCTOB_5b.npz',\n",
       " '../preprocessed_data/gaze_pos_dist/SHAKE_8c.npz',\n",
       " '../preprocessed_data/gaze_pos_dist/WINGE_9a.npz',\n",
       " '../preprocessed_data/gaze_pos_dist/FREED_2a.npz',\n",
       " '../preprocessed_data/gaze_pos_dist/SHREK_15b.npz',\n",
       " '../preprocessed_data/gaze_pos_dist/EASTE_19a.npz',\n",
       " '../preprocessed_data/gaze_pos_dist/MULAN_11a.npz',\n",
       " '../preprocessed_data/gaze_pos_dist/STEPF_5a.npz',\n",
       " '../preprocessed_data/gaze_pos_dist/HESJU_30a.npz',\n",
       " '../preprocessed_data/gaze_pos_dist/MULAN_15a.npz',\n",
       " '../preprocessed_data/gaze_pos_dist/CORAL_8a.npz',\n",
       " '../preprocessed_data/gaze_pos_dist/MARGO_4a.npz',\n",
       " '../preprocessed_data/gaze_pos_dist/MARCH_12a.npz',\n",
       " '../preprocessed_data/gaze_pos_dist/DEEPB_9a.npz',\n",
       " '../preprocessed_data/gaze_pos_dist/WINGE_6a.npz',\n",
       " '../preprocessed_data/gaze_pos_dist/Spide_16a.npz',\n",
       " '../preprocessed_data/gaze_pos_dist/STARD_4c.npz',\n",
       " '../preprocessed_data/gaze_pos_dist/PAYIT_13a.npz']"
      ]
     },
     "execution_count": 8,
     "metadata": {},
     "output_type": "execute_result"
    }
   ],
   "source": [
    "data_path"
   ]
  },
  {
   "cell_type": "code",
   "execution_count": 15,
   "id": "8f9d6790-5402-4a75-b32c-9825396300e3",
   "metadata": {},
   "outputs": [],
   "source": [
    "training_methods = [\"dino\", \"supervised\"] \n",
    "depth_list = [4, 8, 12]"
   ]
  },
  {
   "cell_type": "code",
   "execution_count": 32,
   "id": "c202a214-6419-42e0-bb47-ca7b146757f5",
   "metadata": {
    "scrolled": true
   },
   "outputs": [
    {
     "data": {
      "application/vnd.jupyter.widget-view+json": {
       "model_id": "bc125acf841941f7b8b9389e79263d3d",
       "version_major": 2,
       "version_minor": 0
      },
      "text/plain": [
       "  0%|          | 0/200 [00:00<?, ?it/s]"
      ]
     },
     "metadata": {},
     "output_type": "display_data"
    },
    {
     "name": "stdout",
     "output_type": "stream",
     "text": [
      "../preprocessed_data/gaze_pos_dist/SHAKE_16a.npz\n",
      "../preprocessed_data/gaze_pos_dist/MULAN_7a.npz\n",
      "../preprocessed_data/gaze_pos_dist/MISSP_3a.npz\n",
      "../preprocessed_data/gaze_pos_dist/MULAN_3a.npz\n",
      "../preprocessed_data/gaze_pos_dist/BURY_3a.npz\n",
      "../preprocessed_data/gaze_pos_dist/APPAL_18a.npz\n",
      "../preprocessed_data/gaze_pos_dist/MULAN_19a.npz\n",
      "../preprocessed_data/gaze_pos_dist/FOODI_4a.npz\n",
      "../preprocessed_data/gaze_pos_dist/MARCH_14a.npz\n",
      "../preprocessed_data/gaze_pos_dist/MICRO_12a.npz\n",
      "../preprocessed_data/gaze_pos_dist/OFFIC_24a.npz\n",
      "../preprocessed_data/gaze_pos_dist/HESJU_4a.npz\n",
      "../preprocessed_data/gaze_pos_dist/MICRO_11a.npz\n",
      "../preprocessed_data/gaze_pos_dist/APPAL_7b.npz\n",
      "../preprocessed_data/gaze_pos_dist/MARCH_18a.npz\n",
      "../preprocessed_data/gaze_pos_dist/FREED_16a.npz\n",
      "../preprocessed_data/gaze_pos_dist/DEEPB_13a.npz\n",
      "../preprocessed_data/gaze_pos_dist/APPAL_5a.npz\n",
      "../preprocessed_data/gaze_pos_dist/MICRO_3a.npz\n",
      "../preprocessed_data/gaze_pos_dist/BATM_15a.npz\n",
      "../preprocessed_data/gaze_pos_dist/APPAL_2a.npz\n",
      "../preprocessed_data/gaze_pos_dist/JULIE_10a.npz\n",
      "../preprocessed_data/gaze_pos_dist/BURY_5b.npz\n",
      "../preprocessed_data/gaze_pos_dist/GERIS_a.npz\n",
      "../preprocessed_data/gaze_pos_dist/SHREK_10b.npz\n",
      "../preprocessed_data/gaze_pos_dist/SHREK_8a.npz\n",
      "../preprocessed_data/gaze_pos_dist/SHREK_5a.npz\n",
      "../preprocessed_data/gaze_pos_dist/STARD_4a.npz\n",
      "../preprocessed_data/gaze_pos_dist/Cloud_6a.npz\n",
      "../preprocessed_data/gaze_pos_dist/BURY_1b.npz\n",
      "../preprocessed_data/gaze_pos_dist/STARD_2a.npz\n",
      "../preprocessed_data/gaze_pos_dist/RECOUNT_2a.npz\n",
      "../preprocessed_data/gaze_pos_dist/SQUID_2a.npz\n",
      "../preprocessed_data/gaze_pos_dist/MARCH_8a.npz\n",
      "../preprocessed_data/gaze_pos_dist/OCTOB_7a.npz\n",
      "../preprocessed_data/gaze_pos_dist/EASTE_11a.npz\n",
      "../preprocessed_data/gaze_pos_dist/SHAKE_28a.npz\n",
      "../preprocessed_data/gaze_pos_dist/FREED_12a.npz\n",
      "../preprocessed_data/gaze_pos_dist/OCTOB_11c.npz\n",
      "../preprocessed_data/gaze_pos_dist/Spide_40a.npz\n",
      "../preprocessed_data/gaze_pos_dist/Cloud_13a.npz\n",
      "../preprocessed_data/gaze_pos_dist/DEEPB_3a.npz\n",
      "../preprocessed_data/gaze_pos_dist/APPAL_10a.npz\n",
      "../preprocessed_data/gaze_pos_dist/ADVEN_9a.npz\n",
      "../preprocessed_data/gaze_pos_dist/NANN_6a.npz\n",
      "../preprocessed_data/gaze_pos_dist/HURT_5a.npz\n",
      "../preprocessed_data/gaze_pos_dist/SIMPS_9a.npz\n",
      "../preprocessed_data/gaze_pos_dist/AMAZI_20a.npz\n",
      "../preprocessed_data/gaze_pos_dist/FOODI_6a.npz\n",
      "../preprocessed_data/gaze_pos_dist/BOOKC_23a.npz\n",
      "../preprocessed_data/gaze_pos_dist/SIMPS_22b.npz\n",
      "../preprocessed_data/gaze_pos_dist/BATM_21a.npz\n",
      "../preprocessed_data/gaze_pos_dist/ADVEN_12a.npz\n",
      "../preprocessed_data/gaze_pos_dist/WINGE_18a.npz\n",
      "../preprocessed_data/gaze_pos_dist/MICRO_2b.npz\n",
      "../preprocessed_data/gaze_pos_dist/WINGE_15a.npz\n",
      "../preprocessed_data/gaze_pos_dist/AMAZI_2b.npz\n",
      "../preprocessed_data/gaze_pos_dist/SHREK_3a.npz\n",
      "../preprocessed_data/gaze_pos_dist/SQUID_4a.npz\n",
      "../preprocessed_data/gaze_pos_dist/MARGO_8a.npz\n",
      "../preprocessed_data/gaze_pos_dist/Cloud_24a.npz\n",
      "../preprocessed_data/gaze_pos_dist/SIMPS_19a.npz\n",
      "../preprocessed_data/gaze_pos_dist/MARCH_16a.npz\n",
      "../preprocessed_data/gaze_pos_dist/FORGE_14a.npz\n",
      "../preprocessed_data/gaze_pos_dist/SIMPS_11a.npz\n",
      "../preprocessed_data/gaze_pos_dist/PAYIT_3a.npz\n",
      "../preprocessed_data/gaze_pos_dist/SQUID_12c.npz\n",
      "../preprocessed_data/gaze_pos_dist/MARCH_6a.npz\n",
      "../preprocessed_data/gaze_pos_dist/LARS_12a.npz\n",
      "../preprocessed_data/gaze_pos_dist/MARGO_2a.npz\n",
      "../preprocessed_data/gaze_pos_dist/BATM_6a.npz\n",
      "../preprocessed_data/gaze_pos_dist/MICRO_2a.npz\n",
      "../preprocessed_data/gaze_pos_dist/LARS_20a.npz\n",
      "../preprocessed_data/gaze_pos_dist/SHREK_13b.npz\n",
      "../preprocessed_data/gaze_pos_dist/RECOUNT_4b.npz\n",
      "../preprocessed_data/gaze_pos_dist/SHAKE_24a.npz\n",
      "../preprocessed_data/gaze_pos_dist/ADVEN_15a.npz\n",
      "../preprocessed_data/gaze_pos_dist/BOOKC_15a.npz\n",
      "../preprocessed_data/gaze_pos_dist/AMAZI_14a.npz\n",
      "../preprocessed_data/gaze_pos_dist/SIMPS_17a.npz\n",
      "../preprocessed_data/gaze_pos_dist/HESJU_16b.npz\n",
      "../preprocessed_data/gaze_pos_dist/BATM_18a.npz\n",
      "../preprocessed_data/gaze_pos_dist/JULIE_6a.npz\n",
      "../preprocessed_data/gaze_pos_dist/FOODI_2b.npz\n",
      "../preprocessed_data/gaze_pos_dist/SHREK_15a.npz\n",
      "../preprocessed_data/gaze_pos_dist/MISSP_6a.npz\n",
      "../preprocessed_data/gaze_pos_dist/SQUID_6a.npz\n",
      "../preprocessed_data/gaze_pos_dist/SIMPS_3a.npz\n",
      "../preprocessed_data/gaze_pos_dist/LOOP_5a.npz\n",
      "../preprocessed_data/gaze_pos_dist/DEEPB_7a.npz\n",
      "../preprocessed_data/gaze_pos_dist/DREAMG_3a.npz\n",
      "../preprocessed_data/gaze_pos_dist/STEPF_4a.npz\n",
      "../preprocessed_data/gaze_pos_dist/FOODI_10a.npz\n",
      "../preprocessed_data/gaze_pos_dist/CORAL_14a.npz\n",
      "../preprocessed_data/gaze_pos_dist/BATM_9a.npz\n",
      "../preprocessed_data/gaze_pos_dist/STEPF_23a.npz\n",
      "../preprocessed_data/gaze_pos_dist/JULIE_22a.npz\n",
      "../preprocessed_data/gaze_pos_dist/ADVEN_18a.npz\n",
      "../preprocessed_data/gaze_pos_dist/CORAL_11a.npz\n",
      "../preprocessed_data/gaze_pos_dist/LARS_4a.npz\n",
      "../preprocessed_data/gaze_pos_dist/BOOKC_3a.npz\n",
      "../preprocessed_data/gaze_pos_dist/Cloud_20a.npz\n",
      "../preprocessed_data/gaze_pos_dist/WINGE_12a.npz\n",
      "../preprocessed_data/gaze_pos_dist/JULIE_10b.npz\n",
      "../preprocessed_data/gaze_pos_dist/DREAMG_9a.npz\n",
      "../preprocessed_data/gaze_pos_dist/DEEPB_5a.npz\n",
      "../preprocessed_data/gaze_pos_dist/Spide_4a.npz\n",
      "../preprocessed_data/gaze_pos_dist/SIMPS_6a.npz\n",
      "../preprocessed_data/gaze_pos_dist/LARS_24a.npz\n",
      "../preprocessed_data/gaze_pos_dist/WINGE_3a.npz\n",
      "../preprocessed_data/gaze_pos_dist/NANN_15a.npz\n",
      "../preprocessed_data/gaze_pos_dist/MISSP_12a.npz\n",
      "../preprocessed_data/gaze_pos_dist/SHREK_5b.npz\n",
      "../preprocessed_data/gaze_pos_dist/HURT_7a.npz\n",
      "../preprocessed_data/gaze_pos_dist/MARCH_3a.npz\n",
      "../preprocessed_data/gaze_pos_dist/WINGE_21a.npz\n",
      "../preprocessed_data/gaze_pos_dist/OCTOB_13a.npz\n",
      "../preprocessed_data/gaze_pos_dist/EASTE_15a.npz\n",
      "../preprocessed_data/gaze_pos_dist/CORAL_17a.npz\n",
      "../preprocessed_data/gaze_pos_dist/FREED_14a.npz\n",
      "../preprocessed_data/gaze_pos_dist/OCTOB_3a.npz\n",
      "../preprocessed_data/gaze_pos_dist/BOOKC_27a.npz\n",
      "../preprocessed_data/gaze_pos_dist/SQUID_8a.npz\n",
      "../preprocessed_data/gaze_pos_dist/STARD_7a.npz\n",
      "../preprocessed_data/gaze_pos_dist/Cloud_3a.npz\n",
      "../preprocessed_data/gaze_pos_dist/MISSP_15a.npz\n",
      "../preprocessed_data/gaze_pos_dist/FOODI_8a.npz\n",
      "../preprocessed_data/gaze_pos_dist/SHAKE_20a.npz\n",
      "../preprocessed_data/gaze_pos_dist/MICRO_5a.npz\n",
      "../preprocessed_data/gaze_pos_dist/MARGO_4b.npz\n",
      "../preprocessed_data/gaze_pos_dist/ADVEN_24a.npz\n",
      "../preprocessed_data/gaze_pos_dist/JULIE_18a.npz\n",
      "../preprocessed_data/gaze_pos_dist/EASTE_8b.npz\n",
      "../preprocessed_data/gaze_pos_dist/CORAL_5a.npz\n",
      "../preprocessed_data/gaze_pos_dist/STARD_16a.npz\n",
      "../preprocessed_data/gaze_pos_dist/MARCH_16b.npz\n",
      "../preprocessed_data/gaze_pos_dist/FORGE_11a.npz\n",
      "../preprocessed_data/gaze_pos_dist/BURY_7a.npz\n",
      "../preprocessed_data/gaze_pos_dist/FORGE_17a.npz\n",
      "../preprocessed_data/gaze_pos_dist/MARGO_6b.npz\n",
      "../preprocessed_data/gaze_pos_dist/DEEPB_11a.npz\n",
      "../preprocessed_data/gaze_pos_dist/OFFIC_4a.npz\n",
      "../preprocessed_data/gaze_pos_dist/DEEPB_5b.npz\n",
      "../preprocessed_data/gaze_pos_dist/AMAZI_2a.npz\n",
      "../preprocessed_data/gaze_pos_dist/Cloud_17b.npz\n",
      "../preprocessed_data/gaze_pos_dist/MARCH_3b.npz\n",
      "../preprocessed_data/gaze_pos_dist/Cloud_9a.npz\n",
      "../preprocessed_data/gaze_pos_dist/LARS_16a.npz\n",
      "../preprocessed_data/gaze_pos_dist/RECOUNT_4a.npz\n",
      "../preprocessed_data/gaze_pos_dist/AMAZI_8a.npz\n",
      "../preprocessed_data/gaze_pos_dist/PAYIT_27a.npz\n",
      "../preprocessed_data/gaze_pos_dist/HESJU_8b.npz\n",
      "../preprocessed_data/gaze_pos_dist/SHREK_10a.npz\n",
      "../preprocessed_data/gaze_pos_dist/Spide_8a.npz\n",
      "../preprocessed_data/gaze_pos_dist/BURY_15a.npz\n",
      "../preprocessed_data/gaze_pos_dist/HESJU_12a.npz\n",
      "../preprocessed_data/gaze_pos_dist/FORGE_8a.npz\n",
      "../preprocessed_data/gaze_pos_dist/FOODI_2a.npz\n",
      "../preprocessed_data/gaze_pos_dist/RECOUNT_8a.npz\n",
      "../preprocessed_data/gaze_pos_dist/FREED_8a.npz\n",
      "../preprocessed_data/gaze_pos_dist/WINGE_18b.npz\n",
      "../preprocessed_data/gaze_pos_dist/SHREK_3b.npz\n",
      "../preprocessed_data/gaze_pos_dist/Spide_30a.npz\n",
      "../preprocessed_data/gaze_pos_dist/BOOKC_11a.npz\n",
      "../preprocessed_data/gaze_pos_dist/Cloud_17a.npz\n",
      "../preprocessed_data/gaze_pos_dist/MARCH_6b.npz\n",
      "../preprocessed_data/gaze_pos_dist/RECOUNT_8c.npz\n",
      "../preprocessed_data/gaze_pos_dist/DEEPB_9c.npz\n",
      "../preprocessed_data/gaze_pos_dist/LIFTE_a.npz\n",
      "../preprocessed_data/gaze_pos_dist/SIMPS_22a.npz\n",
      "../preprocessed_data/gaze_pos_dist/STEPF_16a.npz\n",
      "../preprocessed_data/gaze_pos_dist/NANN_3a.npz\n",
      "../preprocessed_data/gaze_pos_dist/ADVEN_3a.npz\n",
      "../preprocessed_data/gaze_pos_dist/SIMPS_14a.npz\n",
      "../preprocessed_data/gaze_pos_dist/CORAL_5b.npz\n",
      "../preprocessed_data/gaze_pos_dist/MISSP_9a.npz\n",
      "../preprocessed_data/gaze_pos_dist/EASTE_2a.npz\n",
      "../preprocessed_data/gaze_pos_dist/BATM_37a.npz\n",
      "../preprocessed_data/gaze_pos_dist/DEEPB_9b.npz\n",
      "../preprocessed_data/gaze_pos_dist/BLIND_5a.npz\n",
      "../preprocessed_data/gaze_pos_dist/MARCH_10a.npz\n",
      "../preprocessed_data/gaze_pos_dist/JULIE_14a.npz\n",
      "../preprocessed_data/gaze_pos_dist/OCTOB_5b.npz\n",
      "../preprocessed_data/gaze_pos_dist/SHAKE_8c.npz\n",
      "../preprocessed_data/gaze_pos_dist/WINGE_9a.npz\n",
      "../preprocessed_data/gaze_pos_dist/FREED_2a.npz\n",
      "../preprocessed_data/gaze_pos_dist/SHREK_15b.npz\n",
      "../preprocessed_data/gaze_pos_dist/EASTE_19a.npz\n",
      "../preprocessed_data/gaze_pos_dist/MULAN_11a.npz\n",
      "../preprocessed_data/gaze_pos_dist/STEPF_5a.npz\n",
      "../preprocessed_data/gaze_pos_dist/HESJU_30a.npz\n",
      "../preprocessed_data/gaze_pos_dist/MULAN_15a.npz\n",
      "../preprocessed_data/gaze_pos_dist/CORAL_8a.npz\n",
      "../preprocessed_data/gaze_pos_dist/MARGO_4a.npz\n",
      "../preprocessed_data/gaze_pos_dist/MARCH_12a.npz\n",
      "../preprocessed_data/gaze_pos_dist/DEEPB_9a.npz\n",
      "../preprocessed_data/gaze_pos_dist/WINGE_6a.npz\n",
      "../preprocessed_data/gaze_pos_dist/Spide_16a.npz\n",
      "../preprocessed_data/gaze_pos_dist/STARD_4c.npz\n",
      "../preprocessed_data/gaze_pos_dist/PAYIT_13a.npz\n"
     ]
    }
   ],
   "source": [
    "dist_mat_dict = {}\n",
    "for tm in training_methods:\n",
    "    dist_mat_dict[tm] = {}\n",
    "    for depth in depth_list:\n",
    "        dist_mat_dict[tm][str(depth)] = 0\n",
    "\n",
    "for path in tqdm(data_path):\n",
    "    print(path)\n",
    "    dist_dict = np.load(path, allow_pickle=True)\n",
    "    for tm in training_methods:\n",
    "        for depth in depth_list:\n",
    "            dist_mat_dict[tm][str(depth)] += dist_dict[tm].item()[str(depth)]"
   ]
  },
  {
   "cell_type": "code",
   "execution_count": 133,
   "id": "b164ccf3-2186-45c4-8334-b50458825624",
   "metadata": {},
   "outputs": [],
   "source": [
    "num_data = len(data_path)"
   ]
  },
  {
   "cell_type": "code",
   "execution_count": 127,
   "id": "dd86f329-2b2b-4c26-b324-b24c745250c8",
   "metadata": {},
   "outputs": [
    {
     "data": {
      "text/plain": [
       "12"
      ]
     },
     "execution_count": 127,
     "metadata": {},
     "output_type": "execute_result"
    }
   ],
   "source": [
    "num_subject"
   ]
  },
  {
   "cell_type": "code",
   "execution_count": 134,
   "id": "73a54a88-c33b-413b-b909-9dea89c88d2c",
   "metadata": {
    "scrolled": true
   },
   "outputs": [
    {
     "data": {
      "application/vnd.jupyter.widget-view+json": {
       "model_id": "830233646fe94173b78e090051d2228a",
       "version_major": 2,
       "version_minor": 0
      },
      "text/plain": [
       "  0%|          | 0/200 [00:00<?, ?it/s]"
      ]
     },
     "metadata": {},
     "output_type": "display_data"
    }
   ],
   "source": [
    "subj_mean_dist = 0\n",
    "for path in tqdm(data_path):\n",
    "    dist_dict = np.load(path, allow_pickle=True)\n",
    "    num_subject = len(dist_dict[\"subjects\"])\n",
    "    subj_mean_dist += dist_dict[\"subjects\"].sum() / (num_subject*(num_subject-1))\n",
    "subj_mean_dist /= num_data"
   ]
  },
  {
   "cell_type": "code",
   "execution_count": 40,
   "id": "2ef3503c-dafd-4a10-8ebc-c89000f98eab",
   "metadata": {},
   "outputs": [],
   "source": [
    "\n",
    "for tm in training_methods:\n",
    "    for depth in depth_list:\n",
    "        dist_mat_dict[tm][str(depth)] /= num_data"
   ]
  },
  {
   "cell_type": "code",
   "execution_count": 135,
   "id": "907ff30f-7cd5-490b-90f0-22d03cc1bddd",
   "metadata": {},
   "outputs": [
    {
     "data": {
      "text/plain": [
       "109.37364973176143"
      ]
     },
     "execution_count": 135,
     "metadata": {},
     "output_type": "execute_result"
    }
   ],
   "source": [
    "subj_mean_dist"
   ]
  },
  {
   "cell_type": "code",
   "execution_count": 41,
   "id": "52d28839-accd-4bfc-ad9a-3d5f0dd0e5e5",
   "metadata": {
    "scrolled": true
   },
   "outputs": [],
   "source": []
  },
  {
   "cell_type": "code",
   "execution_count": 42,
   "id": "c2d735d6-f043-4f9a-ad11-17596ce671c3",
   "metadata": {},
   "outputs": [],
   "source": []
  },
  {
   "cell_type": "code",
   "execution_count": 43,
   "id": "9b353c55-b435-495a-90c4-11ce6784e50a",
   "metadata": {},
   "outputs": [
    {
     "data": {
      "text/plain": [
       "(6, 12)"
      ]
     },
     "execution_count": 43,
     "metadata": {},
     "output_type": "execute_result"
    }
   ],
   "source": [
    "dist_mat_min.shape"
   ]
  },
  {
   "cell_type": "code",
   "execution_count": 44,
   "id": "448a1fa6-00f1-4581-81fb-823c1afe4d17",
   "metadata": {},
   "outputs": [],
   "source": []
  },
  {
   "cell_type": "code",
   "execution_count": 49,
   "id": "b85df782-a875-4e58-b133-adab63803f89",
   "metadata": {},
   "outputs": [],
   "source": [
    "import seaborn as sns\n",
    "import matplotlib as mpl\n",
    "\n",
    "mpl.rcParams['axes.spines.right'] = False\n",
    "mpl.rcParams['axes.spines.top'] = False"
   ]
  },
  {
   "cell_type": "code",
   "execution_count": 69,
   "id": "d8c4886f-b0f0-4f93-9eb3-f5d9ac0c87e0",
   "metadata": {},
   "outputs": [],
   "source": [
    "colors = [\"Blues\", \"Greens\"]"
   ]
  },
  {
   "cell_type": "code",
   "execution_count": 158,
   "id": "2b26e169-1db8-462d-a2b4-a1d0d3998064",
   "metadata": {},
   "outputs": [
    {
     "data": {
      "image/png": "[encoded data removed]",
      "text/plain": [
       "<Figure size 600x500 with 6 Axes>"
      ]
     },
     "metadata": {},
     "output_type": "display_data"
    }
   ],
   "source": [
    "fig, axes = plt.subplots(2, 3, figsize=(6, 5), sharex='col', sharey='all', width_ratios=[1, 2, 3], tight_layout=True)\n",
    "fig.suptitle(\"All data\")\n",
    "for i, tm in enumerate(training_methods):\n",
    "    for j, depth in enumerate(depth_list):\n",
    "        dist_mat = dist_mat_dict[tm][str(depth)]\n",
    "        dist_mat_min = np.min(dist_mat, axis=2)\n",
    "\n",
    "        df = pd.DataFrame(dist_mat_min)#, columns=np.array2string(np.arange(1, depth+1)))\n",
    "        #sns.stripplot(data=df, jitter=True, linewidth=1, edgecolor='k', palette=colors[i], ax=axes[i, j])\n",
    "        sns.boxplot(data=df,fliersize=0, palette=colors[i], ax=axes[i, j])\n",
    "        axes[i, j].set_title(f\"{tm} {depth}\")\n",
    "        axes[i, j].axhline(subj_mean_dist, linestyle=\"dashed\", color=\"tab:red\", label=\"Dist. between subjects\")\n",
    "        if i == 0 and j == 2:\n",
    "            axes[i, j].legend()\n",
    "        axes[i, j].set_ylim(50, 450)\n",
    "        axes[i, j].grid()\n",
    "\n",
    "fig.supxlabel(\"# layer\")\n",
    "fig.supylabel(\"Median distance from subjects (px)\")\n",
    "plt.savefig(\"hollywood_all_dist.png\")\n",
    "plt.show()"
   ]
  },
  {
   "cell_type": "code",
   "execution_count": 147,
   "id": "d82736f9-04b1-4542-88f1-431abbf2f199",
   "metadata": {},
   "outputs": [],
   "source": [
    "dist_mat_dict_genre = {}\n",
    "video_num = {}\n",
    "subj_mean_dist_genre = {}\n",
    "for gen in genres:\n",
    "    dist_mat_dict_genre[gen] = {}\n",
    "    subj_mean_dist_genre[gen] = 0\n",
    "    video_num[gen] = 0\n",
    "    for tm in training_methods:\n",
    "        dist_mat_dict_genre[gen][tm] = {}\n",
    "        for depth in depth_list:\n",
    "            dist_mat_dict_genre[gen][tm][str(depth)] = 0"
   ]
  },
  {
   "cell_type": "code",
   "execution_count": 104,
   "id": "6d996c6b-126c-49ac-bf82-32dca4922c0e",
   "metadata": {},
   "outputs": [
    {
     "data": {
      "text/plain": [
       "{'cartoon/animation': {'dino': {'4': 0, '8': 0, '12': 0},\n",
       "  'supervised': {'4': 0, '8': 0, '12': 0}},\n",
       " 'doc/nature': {'dino': {'4': 0, '8': 0, '12': 0},\n",
       "  'supervised': {'4': 0, '8': 0, '12': 0}},\n",
       " 'drama/other': {'dino': {'4': 0, '8': 0, '12': 0},\n",
       "  'supervised': {'4': 0, '8': 0, '12': 0}}}"
      ]
     },
     "execution_count": 104,
     "metadata": {},
     "output_type": "execute_result"
    }
   ],
   "source": [
    "dist_mat_dict_genre "
   ]
  },
  {
   "cell_type": "code",
   "execution_count": 148,
   "id": "f34af1b7-5448-4eef-abc3-718671bb0c3c",
   "metadata": {},
   "outputs": [
    {
     "data": {
      "application/vnd.jupyter.widget-view+json": {
       "model_id": "c39341e1561a4d73938789269662ed66",
       "version_major": 2,
       "version_minor": 0
      },
      "text/plain": [
       "  0%|          | 0/200 [00:00<?, ?it/s]"
      ]
     },
     "metadata": {},
     "output_type": "display_data"
    }
   ],
   "source": [
    "for filepath in tqdm(data_path):\n",
    "    video_name = os.path.splitext(os.path.basename(filepath))[0]\n",
    "    gen = data_info[data_info[\"file name\"] == video_name][\"genre category\"].item()\n",
    "    video_num[gen] += 1\n",
    "    dist_dict = np.load(filepath, allow_pickle=True)\n",
    "    num_subject = len(dist_dict[\"subjects\"])\n",
    "    subj_mean_dist_genre[gen] += dist_dict[\"subjects\"].sum() / (num_subject*(num_subject-1))\n",
    "    for tm in training_methods:\n",
    "        for depth in depth_list:\n",
    "            dist_mat_dict_genre[gen][tm][str(depth)] += dist_dict[tm].item()[str(depth)]"
   ]
  },
  {
   "cell_type": "code",
   "execution_count": 149,
   "id": "89751f73-1035-4089-b86d-1a5aaac22cfb",
   "metadata": {},
   "outputs": [],
   "source": [
    "for gen in genres:\n",
    "    subj_mean_dist_genre[gen] /= video_num[gen]\n",
    "    for tm in training_methods:\n",
    "        for depth in depth_list:\n",
    "            dist_mat_dict_genre[gen][tm][str(depth)] /= video_num[gen]"
   ]
  },
  {
   "cell_type": "code",
   "execution_count": 150,
   "id": "f3546303-eb9a-46d8-9ee4-609f16e0cbd5",
   "metadata": {},
   "outputs": [
    {
     "data": {
      "text/plain": [
       "{'cartoon/animation': 100.40894936828775,\n",
       " 'doc/nature': 129.74675486935584,\n",
       " 'drama/other': 105.57084814038772}"
      ]
     },
     "execution_count": 150,
     "metadata": {},
     "output_type": "execute_result"
    }
   ],
   "source": [
    "subj_mean_dist_genre"
   ]
  },
  {
   "cell_type": "code",
   "execution_count": 160,
   "id": "3c1e0c65-03db-4310-bab0-7c347e546eec",
   "metadata": {},
   "outputs": [
    {
     "data": {
      "image/png": "[encoded data removed]",
      "text/plain": [
       "<Figure size 600x500 with 6 Axes>"
      ]
     },
     "metadata": {},
     "output_type": "display_data"
    },
    {
     "data": {
      "image/png": "[encoded data removed]",
      "text/plain": [
       "<Figure size 600x500 with 6 Axes>"
      ]
     },
     "metadata": {},
     "output_type": "display_data"
    },
    {
     "data": {
      "image/png": "[encoded data removed]",
      "text/plain": [
       "<Figure size 600x500 with 6 Axes>"
      ]
     },
     "metadata": {},
     "output_type": "display_data"
    }
   ],
   "source": [
    "for gen in genres:\n",
    "    fig, axes = plt.subplots(2, 3, figsize=(6, 5), sharex='col', sharey='all', width_ratios=[1, 2, 3], tight_layout=True)\n",
    "    fig.suptitle(gen)\n",
    "    for i, tm in enumerate(training_methods):\n",
    "        for j, depth in enumerate(depth_list):\n",
    "            dist_mat = dist_mat_dict_genre[gen][tm][str(depth)]\n",
    "            dist_mat_min = np.min(dist_mat, axis=2)\n",
    "    \n",
    "            df = pd.DataFrame(dist_mat_min)#, columns=np.array2string(np.arange(1, depth+1)))\n",
    "            #sns.stripplot(data=df, jitter=True, linewidth=1, edgecolor='k', palette=colors[i], ax=axes[i, j])\n",
    "            sns.boxplot(data=df,fliersize=0, palette=colors[i], ax=axes[i, j])\n",
    "            axes[i, j].set_title(f\"{tm} {depth}\")\n",
    "            axes[i, j].set_ylim(50, 450)\n",
    "            axes[i, j].grid()\n",
    "            axes[i, j].axhline(subj_mean_dist_genre[gen], linestyle=\"dashed\", color=\"tab:red\")\n",
    "    \n",
    "    fig.supxlabel(\"# layer\")\n",
    "    fig.supylabel(\"Median distance from subjects (px)\")\n",
    "    plt.savefig(f\"hollywood_{gen[:3]}.png\")\n",
    "    plt.show()"
   ]
  },
  {
   "cell_type": "code",
   "execution_count": null,
   "id": "dd6966d5-0118-4c6b-bf32-12867c5219b3",
   "metadata": {},
   "outputs": [],
   "source": []
  },
  {
   "cell_type": "code",
   "execution_count": null,
   "id": "3dc117ff-4510-4249-84ad-9f6e804d3ffb",
   "metadata": {},
   "outputs": [],
   "source": [
    "df"
   ]
  },
  {
   "cell_type": "code",
   "execution_count": null,
   "id": "2d36cafd-dbbe-4eea-9f2b-d6093ca7b5b3",
   "metadata": {},
   "outputs": [],
   "source": [
    "\"\"\"\n",
    "plt.scatter(xr, yr)\n",
    "plt.axvline(0, linestyle=\"dashed\", color=\"gray\")\n",
    "plt.axvline(width, linestyle=\"dashed\", color=\"gray\")\n",
    "plt.axhline(0, linestyle=\"dashed\", color=\"gray\")\n",
    "plt.axhline(height, linestyle=\"dashed\", color=\"gray\")\n",
    "\"\"\""
   ]
  },
  {
   "cell_type": "code",
   "execution_count": null,
   "id": "ee1f8728-2d40-43fa-8a5a-9614c85f5e2d",
   "metadata": {},
   "outputs": [],
   "source": []
  },
  {
   "cell_type": "code",
   "execution_count": null,
   "id": "15a8d6b9-4776-4ebf-aa7f-f8dafd5da78d",
   "metadata": {},
   "outputs": [],
   "source": []
  },
  {
   "cell_type": "code",
   "execution_count": null,
   "id": "2b5bcb8d-785b-406c-beae-d6180653dc8b",
   "metadata": {},
   "outputs": [],
   "source": [
    "mp.shape"
   ]
  },
  {
   "cell_type": "code",
   "execution_count": null,
   "id": "e2d89909-5ff2-4d8f-a6e7-344a7ac88da9",
   "metadata": {},
   "outputs": [],
   "source": [
    "plt.scatter(mp[0, -1, 4, :, 0], mp[0, -1, 4, :, 1])\n",
    "plt.axvline(0, linestyle=\"dashed\", color=\"gray\")\n",
    "plt.axvline(width, linestyle=\"dashed\", color=\"gray\")\n",
    "plt.axhline(0, linestyle=\"dashed\", color=\"gray\")\n",
    "plt.axhline(height, linestyle=\"dashed\", color=\"gray\")"
   ]
  },
  {
   "cell_type": "code",
   "execution_count": null,
   "id": "f5672d18-d490-43e9-9706-adbdd80ec199",
   "metadata": {},
   "outputs": [],
   "source": [
    "np.sum(frame_flag)"
   ]
  },
  {
   "cell_type": "code",
   "execution_count": null,
   "id": "8df645ee-cbaa-4bf6-b444-c7ab678c44d2",
   "metadata": {},
   "outputs": [],
   "source": []
  },
  {
   "cell_type": "code",
   "execution_count": null,
   "id": "97c0e5d9-3112-4a35-93c5-cc1460985b40",
   "metadata": {},
   "outputs": [],
   "source": [
    "yr[frame_flag]"
   ]
  },
  {
   "cell_type": "code",
   "execution_count": null,
   "id": "7ef39aae-1873-4190-a52d-f9100f63e805",
   "metadata": {},
   "outputs": [],
   "source": [
    "plt.scatter(x, y)"
   ]
  },
  {
   "cell_type": "code",
   "execution_count": null,
   "id": "1e992c8a-fe6c-4297-aafe-16ea21597d1e",
   "metadata": {},
   "outputs": [],
   "source": []
  },
  {
   "cell_type": "code",
   "execution_count": null,
   "id": "0849de59-83ce-4f48-b10f-0b15888986b3",
   "metadata": {},
   "outputs": [],
   "source": []
  },
  {
   "cell_type": "code",
   "execution_count": null,
   "id": "f8635882-9d4b-438e-a44e-0280599e1d76",
   "metadata": {},
   "outputs": [],
   "source": []
  },
  {
   "cell_type": "code",
   "execution_count": null,
   "id": "bc2aaac9-4efd-47e4-8c50-eb8d3877a761",
   "metadata": {},
   "outputs": [],
   "source": []
  },
  {
   "cell_type": "code",
   "execution_count": null,
   "id": "ac291245-2f2d-4a5b-8078-14449d606f8f",
   "metadata": {
    "scrolled": true
   },
   "outputs": [],
   "source": [
    "movie_info.files"
   ]
  },
  {
   "cell_type": "code",
   "execution_count": null,
   "id": "c7101970-ea3f-482a-b9f4-65fa9b3e6825",
   "metadata": {},
   "outputs": [],
   "source": []
  },
  {
   "cell_type": "code",
   "execution_count": null,
   "id": "c57c20b5-62bf-4b6d-9c77-b3630e3bca61",
   "metadata": {},
   "outputs": [],
   "source": []
  },
  {
   "cell_type": "code",
   "execution_count": null,
   "id": "5de30594-cf78-4f89-be05-0f5fc1c4f4dc",
   "metadata": {},
   "outputs": [],
   "source": [
    "num_frames * fps"
   ]
  },
  {
   "cell_type": "code",
   "execution_count": null,
   "id": "75c021af-3605-4590-875e-22eb7219c1be",
   "metadata": {},
   "outputs": [],
   "source": [
    "duration * fps"
   ]
  },
  {
   "cell_type": "code",
   "execution_count": null,
   "id": "333cdb99-3ac8-46fc-a7e7-75048eeef41a",
   "metadata": {},
   "outputs": [],
   "source": []
  },
  {
   "cell_type": "code",
   "execution_count": null,
   "id": "54f90e77-d76a-411d-98ef-d1decb12798e",
   "metadata": {},
   "outputs": [],
   "source": []
  },
  {
   "cell_type": "code",
   "execution_count": null,
   "id": "5d7eae0b-29c2-4e14-b25e-9d1e018ab910",
   "metadata": {},
   "outputs": [],
   "source": []
  },
  {
   "cell_type": "code",
   "execution_count": null,
   "id": "31f1e1bc-fd54-48ed-b73d-db957c079e26",
   "metadata": {
    "scrolled": true
   },
   "outputs": [],
   "source": [
    "np.arange(num_frames) / fps * 1e3"
   ]
  },
  {
   "cell_type": "code",
   "execution_count": null,
   "id": "a8282e6c-568b-41c7-9278-c60bb48ca437",
   "metadata": {},
   "outputs": [],
   "source": [
    "num_frames[m_idx] / fps[m_idx]"
   ]
  },
  {
   "cell_type": "code",
   "execution_count": null,
   "id": "cd861b4e-6630-4641-a109-73391b36b938",
   "metadata": {},
   "outputs": [],
   "source": [
    "num_frames[m_idx] / 30"
   ]
  },
  {
   "cell_type": "code",
   "execution_count": null,
   "id": "05e21838-7669-4825-8ec3-2a52c18f15fc",
   "metadata": {},
   "outputs": [],
   "source": [
    "gaze_file_path"
   ]
  },
  {
   "cell_type": "code",
   "execution_count": null,
   "id": "51c75b9e-d305-48ad-9457-aedad9290f4e",
   "metadata": {},
   "outputs": [],
   "source": []
  },
  {
   "cell_type": "code",
   "execution_count": null,
   "id": "a945a17d",
   "metadata": {},
   "outputs": [],
   "source": [
    "mat = loadmat(files[1])"
   ]
  },
  {
   "cell_type": "code",
   "execution_count": null,
   "id": "f0b34ccc",
   "metadata": {},
   "outputs": [],
   "source": [
    "mat"
   ]
  },
  {
   "cell_type": "code",
   "execution_count": null,
   "id": "fb5c7781",
   "metadata": {},
   "outputs": [],
   "source": [
    "mat[\"movieFileName\"]"
   ]
  },
  {
   "cell_type": "code",
   "execution_count": null,
   "id": "a7e5b28b",
   "metadata": {},
   "outputs": [],
   "source": []
  },
  {
   "cell_type": "code",
   "execution_count": null,
   "id": "f4628b36-4e9c-43fd-b115-4c64e9759cdc",
   "metadata": {},
   "outputs": [],
   "source": []
  },
  {
   "cell_type": "code",
   "execution_count": null,
   "id": "548861b2",
   "metadata": {},
   "outputs": [],
   "source": []
  },
  {
   "cell_type": "code",
   "execution_count": null,
   "id": "0be1c6d8-b407-4692-af50-cad8b4ab07d8",
   "metadata": {},
   "outputs": [],
   "source": []
  },
  {
   "cell_type": "code",
   "execution_count": null,
   "id": "b8a53f2c-69a7-4d30-97f8-887a83581b62",
   "metadata": {},
   "outputs": [],
   "source": [
    "x.max()"
   ]
  },
  {
   "cell_type": "code",
   "execution_count": null,
   "id": "9cf42157-649d-448f-88f9-b2e6f77bc4fc",
   "metadata": {},
   "outputs": [],
   "source": [
    "t = eyetrackRecord[\"t\"][0, 0][0]\n",
    "print(t-t[0])"
   ]
  },
  {
   "cell_type": "code",
   "execution_count": null,
   "id": "60465b77-95a4-491f-a9a3-d6026706b9d8",
   "metadata": {},
   "outputs": [],
   "source": [
    "t.shape"
   ]
  },
  {
   "cell_type": "code",
   "execution_count": null,
   "id": "2e6492a8-a1dd-494b-b2b3-dc94567ded69",
   "metadata": {},
   "outputs": [],
   "source": []
  },
  {
   "cell_type": "code",
   "execution_count": null,
   "id": "ef4eb9ea-6436-40d0-bf33-ea316f55f593",
   "metadata": {},
   "outputs": [],
   "source": [
    "x.shape"
   ]
  },
  {
   "cell_type": "code",
   "execution_count": null,
   "id": "f66c4889-6ce2-4825-8b8a-b77060ee923d",
   "metadata": {},
   "outputs": [],
   "source": [
    "y.shape"
   ]
  },
  {
   "cell_type": "code",
   "execution_count": null,
   "id": "a181ea42",
   "metadata": {},
   "outputs": [],
   "source": [
    "missing = eyetrackRecord[\"missing\"][0, 0][0]\n",
    "idx = missing == 0"
   ]
  },
  {
   "cell_type": "code",
   "execution_count": null,
   "id": "41425f76",
   "metadata": {},
   "outputs": [],
   "source": [
    "x[idx].shape"
   ]
  },
  {
   "cell_type": "code",
   "execution_count": null,
   "id": "ec343e76",
   "metadata": {},
   "outputs": [],
   "source": [
    "plt.scatter(x[idx], y[idx])"
   ]
  },
  {
   "cell_type": "markdown",
   "id": "a8e97e84",
   "metadata": {},
   "source": [
    "動画ごとに視点データを集める．動画ごとにファイル名を保存したリストをtxtで作成する．"
   ]
  },
  {
   "cell_type": "code",
   "execution_count": null,
   "id": "cdf5164f",
   "metadata": {},
   "outputs": [],
   "source": [
    "video_number = np.loadtxt(dirname + \"/\" + dirs[i] + \"_videos.txt\", dtype=int)"
   ]
  },
  {
   "cell_type": "code",
   "execution_count": null,
   "id": "9c4cdd10",
   "metadata": {},
   "outputs": [],
   "source": [
    "video_number"
   ]
  },
  {
   "cell_type": "code",
   "execution_count": null,
   "id": "c0c5b9a4",
   "metadata": {},
   "outputs": [],
   "source": [
    "filename_list = [list() for _ in range(206)]"
   ]
  },
  {
   "cell_type": "code",
   "execution_count": null,
   "id": "3f57a1b0",
   "metadata": {},
   "outputs": [],
   "source": [
    "for j in range(len(files)):\n",
    "    filename_list[video_number[j]].append(files[j])"
   ]
  },
  {
   "cell_type": "code",
   "execution_count": null,
   "id": "219d821d",
   "metadata": {},
   "outputs": [],
   "source": [
    "filename_list"
   ]
  }
 ],
 "metadata": {
  "kernelspec": {
   "display_name": "Python 3 (ipykernel)",
   "language": "python",
   "name": "python3"
  },
  "language_info": {
   "codemirror_mode": {
    "name": "ipython",
    "version": 3
   },
   "file_extension": ".py",
   "mimetype": "text/x-python",
   "name": "python",
   "nbconvert_exporter": "python",
   "pygments_lexer": "ipython3",
   "version": "3.10.11"
  }
 },
 "nbformat": 4,
 "nbformat_minor": 5
}
