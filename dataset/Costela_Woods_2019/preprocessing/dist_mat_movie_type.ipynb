{
 "cells": [
  {
   "cell_type": "code",
   "execution_count": 1,
   "id": "f2250cb8-0338-4d09-8614-74261cc22af9",
   "metadata": {},
   "outputs": [],
   "source": [
    "import numpy as np\n",
    "import matplotlib.pyplot as plt\n",
    "from scipy.io import loadmat, savemat\n",
    "import os\n",
    "import glob\n",
    "import pandas as pd\n",
    "from tqdm.notebook import tqdm"
   ]
  },
  {
   "cell_type": "code",
   "execution_count": 2,
   "id": "e8e28c35-8fb3-4823-8f09-2a3829286567",
   "metadata": {},
   "outputs": [],
   "source": [
    "subj2subj_dist = np.load(\"../preprocessed_data/subj2subj_dist.npz\", allow_pickle=True)\n",
    "subj2vit_dist = np.load(\"../preprocessed_data/subj2vit_dist.npz\", allow_pickle=True)\n",
    "subj2vit_official_dist = np.load(\"../preprocessed_data/subj2vit_official_dist.npz\", allow_pickle=True)\n",
    "subj2gbvs_dist = np.load(\"../preprocessed_data/subj2gbvs_dist.npz\", allow_pickle=True)"
   ]
  },
  {
   "cell_type": "code",
   "execution_count": 3,
   "id": "1a18c83a-628b-4309-869a-65b4061671c7",
   "metadata": {},
   "outputs": [],
   "source": [
    "data_info = pd.read_csv(\"../30s_segment_description.csv\")"
   ]
  },
  {
   "cell_type": "code",
   "execution_count": 4,
   "id": "fd62a03a-0156-40cd-b311-de86bce86f00",
   "metadata": {
    "scrolled": true
   },
   "outputs": [
    {
     "data": {
      "text/html": [
       "<div>\n",
       "<style scoped>\n",
       "    .dataframe tbody tr th:only-of-type {\n",
       "        vertical-align: middle;\n",
       "    }\n",
       "\n",
       "    .dataframe tbody tr th {\n",
       "        vertical-align: top;\n",
       "    }\n",
       "\n",
       "    .dataframe thead th {\n",
       "        text-align: right;\n",
       "    }\n",
       "</style>\n",
       "<table border=\"1\" class=\"dataframe\">\n",
       "  <thead>\n",
       "    <tr style=\"text-align: right;\">\n",
       "      <th></th>\n",
       "      <th>index</th>\n",
       "      <th>file name</th>\n",
       "      <th>movie name</th>\n",
       "      <th>ch</th>\n",
       "      <th>location in ch (min/frames)</th>\n",
       "      <th>length</th>\n",
       "      <th>AR (approx)</th>\n",
       "      <th>size</th>\n",
       "      <th>genre (IMDB)</th>\n",
       "      <th>genre category</th>\n",
       "      <th>...</th>\n",
       "      <th>human figures (0-5)</th>\n",
       "      <th>nature (0-5)</th>\n",
       "      <th>man-made objects (0-5)</th>\n",
       "      <th>environment</th>\n",
       "      <th>light (0-5)</th>\n",
       "      <th>light category</th>\n",
       "      <th>aud. Info</th>\n",
       "      <th>possible question</th>\n",
       "      <th>possible answers</th>\n",
       "      <th>content elements</th>\n",
       "    </tr>\n",
       "  </thead>\n",
       "  <tbody>\n",
       "    <tr>\n",
       "      <th>0</th>\n",
       "      <td>NaN</td>\n",
       "      <td>STEPF_3a</td>\n",
       "      <td>The Stepfather</td>\n",
       "      <td>3</td>\n",
       "      <td>00:33.03/792-01:03.05/1511</td>\n",
       "      <td>30.01s</td>\n",
       "      <td>21x9</td>\n",
       "      <td>853x360</td>\n",
       "      <td>mystery/thriller</td>\n",
       "      <td>a demo (drama/other)</td>\n",
       "      <td>...</td>\n",
       "      <td>3</td>\n",
       "      <td>0</td>\n",
       "      <td>2</td>\n",
       "      <td>indoor</td>\n",
       "      <td>2</td>\n",
       "      <td>low</td>\n",
       "      <td>4</td>\n",
       "      <td>NaN</td>\n",
       "      <td>NaN</td>\n",
       "      <td>NaN</td>\n",
       "    </tr>\n",
       "    <tr>\n",
       "      <th>1</th>\n",
       "      <td>NaN</td>\n",
       "      <td>APPAL_7a</td>\n",
       "      <td>Appaloosa</td>\n",
       "      <td>7</td>\n",
       "      <td>00:01.70/41-00:31.73/761</td>\n",
       "      <td>30.03s</td>\n",
       "      <td>21x9</td>\n",
       "      <td>853x360</td>\n",
       "      <td>action/crime/drama (Western?)</td>\n",
       "      <td>a demo (drama/other)</td>\n",
       "      <td>...</td>\n",
       "      <td>4</td>\n",
       "      <td>3</td>\n",
       "      <td>0</td>\n",
       "      <td>outdoor</td>\n",
       "      <td>5</td>\n",
       "      <td>high</td>\n",
       "      <td>3</td>\n",
       "      <td>its hard to tell which characters are speaking...</td>\n",
       "      <td>NaN</td>\n",
       "      <td>NaN</td>\n",
       "    </tr>\n",
       "    <tr>\n",
       "      <th>2</th>\n",
       "      <td>NaN</td>\n",
       "      <td>STARD_2b</td>\n",
       "      <td>Stardust</td>\n",
       "      <td>2</td>\n",
       "      <td>04:05.52/5886-04:35.57/6607</td>\n",
       "      <td>30.04s</td>\n",
       "      <td>21x9</td>\n",
       "      <td>853x356</td>\n",
       "      <td>adventure/comedy/family (fantasy?)</td>\n",
       "      <td>a demo (drama/other)</td>\n",
       "      <td>...</td>\n",
       "      <td>3</td>\n",
       "      <td>3</td>\n",
       "      <td>2</td>\n",
       "      <td>outdoor</td>\n",
       "      <td>1</td>\n",
       "      <td>low</td>\n",
       "      <td>3</td>\n",
       "      <td>describe what the characters are doing</td>\n",
       "      <td>candlelight picnic, candles on branches, champ...</td>\n",
       "      <td>NaN</td>\n",
       "    </tr>\n",
       "    <tr>\n",
       "      <th>3</th>\n",
       "      <td>1.0</td>\n",
       "      <td>Cloud_13a</td>\n",
       "      <td>Cloudy with a Chance of Meatballs</td>\n",
       "      <td>13</td>\n",
       "      <td>00:48.36/1160-01:18.38/1880</td>\n",
       "      <td>30.01s</td>\n",
       "      <td>16x9 (may be 1.77:1 to 1.85:1)</td>\n",
       "      <td>853x480</td>\n",
       "      <td>animation/comedy/family</td>\n",
       "      <td>cartoon/animation</td>\n",
       "      <td>...</td>\n",
       "      <td>3</td>\n",
       "      <td>2</td>\n",
       "      <td>1</td>\n",
       "      <td>outdoor</td>\n",
       "      <td>4</td>\n",
       "      <td>high</td>\n",
       "      <td>3</td>\n",
       "      <td>describe the man's expressions and body langua...</td>\n",
       "      <td>NaN</td>\n",
       "      <td>NaN</td>\n",
       "    </tr>\n",
       "    <tr>\n",
       "      <th>4</th>\n",
       "      <td>2.0</td>\n",
       "      <td>Cloud_17a</td>\n",
       "      <td>Cloudy with a Chance of Meatballs</td>\n",
       "      <td>17</td>\n",
       "      <td>00:00.00/0-00:30.02/720</td>\n",
       "      <td>30.02s</td>\n",
       "      <td>16x9 (may be 1.77:1 to 1.85:1)</td>\n",
       "      <td>853x480</td>\n",
       "      <td>animation/comedy/family</td>\n",
       "      <td>cartoon/animation</td>\n",
       "      <td>...</td>\n",
       "      <td>4</td>\n",
       "      <td>0</td>\n",
       "      <td>4</td>\n",
       "      <td>outdoor</td>\n",
       "      <td>4</td>\n",
       "      <td>high</td>\n",
       "      <td>3</td>\n",
       "      <td>describe the mayor</td>\n",
       "      <td>extremely obese, white shirt, grey/blue jacket...</td>\n",
       "      <td>NaN</td>\n",
       "    </tr>\n",
       "    <tr>\n",
       "      <th>...</th>\n",
       "      <td>...</td>\n",
       "      <td>...</td>\n",
       "      <td>...</td>\n",
       "      <td>...</td>\n",
       "      <td>...</td>\n",
       "      <td>...</td>\n",
       "      <td>...</td>\n",
       "      <td>...</td>\n",
       "      <td>...</td>\n",
       "      <td>...</td>\n",
       "      <td>...</td>\n",
       "      <td>...</td>\n",
       "      <td>...</td>\n",
       "      <td>...</td>\n",
       "      <td>...</td>\n",
       "      <td>...</td>\n",
       "      <td>...</td>\n",
       "      <td>...</td>\n",
       "      <td>...</td>\n",
       "      <td>...</td>\n",
       "      <td>...</td>\n",
       "    </tr>\n",
       "    <tr>\n",
       "      <th>204</th>\n",
       "      <td>202.0</td>\n",
       "      <td>BLUE_10a_POR</td>\n",
       "      <td>Blue Planet</td>\n",
       "      <td>10</td>\n",
       "      <td>00:00/00-00:30:00/922</td>\n",
       "      <td>30:00s</td>\n",
       "      <td>NaN</td>\n",
       "      <td>480x240</td>\n",
       "      <td>documentary</td>\n",
       "      <td>doc/nature</td>\n",
       "      <td>...</td>\n",
       "      <td>0</td>\n",
       "      <td>5</td>\n",
       "      <td>0</td>\n",
       "      <td>outdoor</td>\n",
       "      <td>4</td>\n",
       "      <td>high</td>\n",
       "      <td>4</td>\n",
       "      <td>NaN</td>\n",
       "      <td>NaN</td>\n",
       "      <td>NaN</td>\n",
       "    </tr>\n",
       "    <tr>\n",
       "      <th>205</th>\n",
       "      <td>203.0</td>\n",
       "      <td>NETW_7a_POR</td>\n",
       "      <td>Network</td>\n",
       "      <td>7</td>\n",
       "      <td>00:00/00-00:30:00/922</td>\n",
       "      <td>30:00s</td>\n",
       "      <td>NaN</td>\n",
       "      <td>480x240</td>\n",
       "      <td>drama/history</td>\n",
       "      <td>drama/other</td>\n",
       "      <td>...</td>\n",
       "      <td>5</td>\n",
       "      <td>0</td>\n",
       "      <td>5</td>\n",
       "      <td>indoor</td>\n",
       "      <td>3</td>\n",
       "      <td>medium</td>\n",
       "      <td>3</td>\n",
       "      <td>NaN</td>\n",
       "      <td>NaN</td>\n",
       "      <td>NaN</td>\n",
       "    </tr>\n",
       "    <tr>\n",
       "      <th>206</th>\n",
       "      <td>204.0</td>\n",
       "      <td>QUIZ_8a_POR</td>\n",
       "      <td>Quiz Show</td>\n",
       "      <td>8</td>\n",
       "      <td>00:00/00-00:29:00/893</td>\n",
       "      <td>29:00s</td>\n",
       "      <td>NaN</td>\n",
       "      <td>480x256</td>\n",
       "      <td>drama/history</td>\n",
       "      <td>drama/other</td>\n",
       "      <td>...</td>\n",
       "      <td>5</td>\n",
       "      <td>0</td>\n",
       "      <td>5</td>\n",
       "      <td>indoor</td>\n",
       "      <td>3</td>\n",
       "      <td>medium</td>\n",
       "      <td>3</td>\n",
       "      <td>NaN</td>\n",
       "      <td>NaN</td>\n",
       "      <td>NaN</td>\n",
       "    </tr>\n",
       "    <tr>\n",
       "      <th>207</th>\n",
       "      <td>205.0</td>\n",
       "      <td>SHAKE_11a_POR</td>\n",
       "      <td>Shakespeare in Love</td>\n",
       "      <td>11</td>\n",
       "      <td>00:00/00-00:30:00/910</td>\n",
       "      <td>30:00s</td>\n",
       "      <td>NaN</td>\n",
       "      <td>480x192</td>\n",
       "      <td>drama/romance</td>\n",
       "      <td>drama/other</td>\n",
       "      <td>...</td>\n",
       "      <td>4</td>\n",
       "      <td>3</td>\n",
       "      <td>1</td>\n",
       "      <td>outdoor</td>\n",
       "      <td>2</td>\n",
       "      <td>low</td>\n",
       "      <td>3</td>\n",
       "      <td>NaN</td>\n",
       "      <td>NaN</td>\n",
       "      <td>NaN</td>\n",
       "    </tr>\n",
       "    <tr>\n",
       "      <th>208</th>\n",
       "      <td>206.0</td>\n",
       "      <td>SUND_36a_POR</td>\n",
       "      <td>Any Given Sunday</td>\n",
       "      <td>36</td>\n",
       "      <td>00:00/00-00:30:00/916</td>\n",
       "      <td>30:00s</td>\n",
       "      <td>NaN</td>\n",
       "      <td>480x176</td>\n",
       "      <td>drama/sports</td>\n",
       "      <td>drama/other</td>\n",
       "      <td>...</td>\n",
       "      <td>5</td>\n",
       "      <td>1</td>\n",
       "      <td>5</td>\n",
       "      <td>outdoor</td>\n",
       "      <td>5</td>\n",
       "      <td>high</td>\n",
       "      <td>4</td>\n",
       "      <td>NaN</td>\n",
       "      <td>NaN</td>\n",
       "      <td>NaN</td>\n",
       "    </tr>\n",
       "  </tbody>\n",
       "</table>\n",
       "<p>209 rows × 22 columns</p>\n",
       "</div>"
      ],
      "text/plain": [
       "     index      file name                         movie name  ch  \\\n",
       "0      NaN       STEPF_3a                     The Stepfather   3   \n",
       "1      NaN       APPAL_7a                          Appaloosa   7   \n",
       "2      NaN       STARD_2b                           Stardust   2   \n",
       "3      1.0      Cloud_13a  Cloudy with a Chance of Meatballs  13   \n",
       "4      2.0      Cloud_17a  Cloudy with a Chance of Meatballs  17   \n",
       "..     ...            ...                                ...  ..   \n",
       "204  202.0   BLUE_10a_POR                        Blue Planet  10   \n",
       "205  203.0    NETW_7a_POR                            Network   7   \n",
       "206  204.0    QUIZ_8a_POR                          Quiz Show   8   \n",
       "207  205.0  SHAKE_11a_POR                Shakespeare in Love  11   \n",
       "208  206.0   SUND_36a_POR                   Any Given Sunday  36   \n",
       "\n",
       "     location in ch (min/frames)  length                     AR (approx)  \\\n",
       "0     00:33.03/792-01:03.05/1511  30.01s                            21x9   \n",
       "1       00:01.70/41-00:31.73/761  30.03s                            21x9   \n",
       "2    04:05.52/5886-04:35.57/6607  30.04s                            21x9   \n",
       "3    00:48.36/1160-01:18.38/1880  30.01s  16x9 (may be 1.77:1 to 1.85:1)   \n",
       "4        00:00.00/0-00:30.02/720  30.02s  16x9 (may be 1.77:1 to 1.85:1)   \n",
       "..                           ...     ...                             ...   \n",
       "204        00:00/00-00:30:00/922  30:00s                             NaN   \n",
       "205        00:00/00-00:30:00/922  30:00s                             NaN   \n",
       "206        00:00/00-00:29:00/893  29:00s                             NaN   \n",
       "207        00:00/00-00:30:00/910  30:00s                             NaN   \n",
       "208        00:00/00-00:30:00/916  30:00s                             NaN   \n",
       "\n",
       "        size                        genre (IMDB)        genre category  ...  \\\n",
       "0    853x360                    mystery/thriller  a demo (drama/other)  ...   \n",
       "1    853x360       action/crime/drama (Western?)  a demo (drama/other)  ...   \n",
       "2    853x356  adventure/comedy/family (fantasy?)  a demo (drama/other)  ...   \n",
       "3    853x480             animation/comedy/family     cartoon/animation  ...   \n",
       "4    853x480             animation/comedy/family     cartoon/animation  ...   \n",
       "..       ...                                 ...                   ...  ...   \n",
       "204  480x240                         documentary            doc/nature  ...   \n",
       "205  480x240                       drama/history           drama/other  ...   \n",
       "206  480x256                       drama/history           drama/other  ...   \n",
       "207  480x192                       drama/romance           drama/other  ...   \n",
       "208  480x176                        drama/sports           drama/other  ...   \n",
       "\n",
       "     human figures (0-5)  nature (0-5) man-made objects (0-5)  environment  \\\n",
       "0                      3             0                      2       indoor   \n",
       "1                      4             3                      0      outdoor   \n",
       "2                      3             3                      2      outdoor   \n",
       "3                      3             2                      1      outdoor   \n",
       "4                      4             0                      4      outdoor   \n",
       "..                   ...           ...                    ...          ...   \n",
       "204                    0             5                      0      outdoor   \n",
       "205                    5             0                      5       indoor   \n",
       "206                    5             0                      5       indoor   \n",
       "207                    4             3                      1      outdoor   \n",
       "208                    5             1                      5      outdoor   \n",
       "\n",
       "     light (0-5) light category  aud. Info  \\\n",
       "0              2            low          4   \n",
       "1              5           high          3   \n",
       "2              1            low          3   \n",
       "3              4           high          3   \n",
       "4              4           high          3   \n",
       "..           ...            ...        ...   \n",
       "204            4           high          4   \n",
       "205            3         medium          3   \n",
       "206            3         medium          3   \n",
       "207            2            low          3   \n",
       "208            5           high          4   \n",
       "\n",
       "                                     possible question  \\\n",
       "0                                                  NaN   \n",
       "1    its hard to tell which characters are speaking...   \n",
       "2               describe what the characters are doing   \n",
       "3    describe the man's expressions and body langua...   \n",
       "4                                   describe the mayor   \n",
       "..                                                 ...   \n",
       "204                                                NaN   \n",
       "205                                                NaN   \n",
       "206                                                NaN   \n",
       "207                                                NaN   \n",
       "208                                                NaN   \n",
       "\n",
       "                                      possible answers content elements  \n",
       "0                                                  NaN              NaN  \n",
       "1                                                  NaN              NaN  \n",
       "2    candlelight picnic, candles on branches, champ...              NaN  \n",
       "3                                                  NaN              NaN  \n",
       "4    extremely obese, white shirt, grey/blue jacket...              NaN  \n",
       "..                                                 ...              ...  \n",
       "204                                                NaN              NaN  \n",
       "205                                                NaN              NaN  \n",
       "206                                                NaN              NaN  \n",
       "207                                                NaN              NaN  \n",
       "208                                                NaN              NaN  \n",
       "\n",
       "[209 rows x 22 columns]"
      ]
     },
     "execution_count": 4,
     "metadata": {},
     "output_type": "execute_result"
    }
   ],
   "source": [
    "data_info"
   ]
  },
  {
   "cell_type": "code",
   "execution_count": 5,
   "id": "cdd42693-f35a-4662-ae18-121830e1e05c",
   "metadata": {},
   "outputs": [],
   "source": [
    "dist_nanmedian = subj2subj_dist[\"dist_nanmedian\"]"
   ]
  },
  {
   "cell_type": "code",
   "execution_count": 6,
   "id": "fb20857e-4dee-4bf6-a436-34437ef6d031",
   "metadata": {},
   "outputs": [],
   "source": [
    "genres = ['cartoon/animation', 'doc/nature', 'drama/other'] # data_info[\"genre category\"].unique()\n",
    "genres_label = ['animation', 'nature', 'drama']"
   ]
  },
  {
   "cell_type": "code",
   "execution_count": 7,
   "id": "7af4b069-3af4-4ead-893d-191f9f501a28",
   "metadata": {},
   "outputs": [],
   "source": [
    "video_names = subj2subj_dist[\"video_names\"]"
   ]
  },
  {
   "cell_type": "code",
   "execution_count": 8,
   "id": "28ce25fe-11d7-49a9-8f00-97f47cc51bf5",
   "metadata": {},
   "outputs": [
    {
     "data": {
      "text/plain": [
       "200"
      ]
     },
     "execution_count": 8,
     "metadata": {},
     "output_type": "execute_result"
    }
   ],
   "source": [
    "len(video_names)"
   ]
  },
  {
   "cell_type": "code",
   "execution_count": 9,
   "id": "8e5fd9fa-787c-45dc-97fe-b419e177a2f3",
   "metadata": {},
   "outputs": [
    {
     "data": {
      "application/vnd.jupyter.widget-view+json": {
       "model_id": "1b8c52ad9eb64c3c84daec9e4ecbce11",
       "version_major": 2,
       "version_minor": 0
      },
      "text/plain": [
       "0it [00:00, ?it/s]"
      ]
     },
     "metadata": {},
     "output_type": "display_data"
    },
    {
     "name": "stderr",
     "output_type": "stream",
     "text": [
      "/tmp/ipykernel_26560/3161433254.py:16: RuntimeWarning: Mean of empty slice\n",
      "  subj2subj_dist_mean_genres[gen] = np.nanmean(subj2subj_dist_genres[gen], axis=0)\n"
     ]
    }
   ],
   "source": [
    "subj2subj_dist_genres = {}\n",
    "for gen in genres:\n",
    "    subj2subj_dist_genres[gen] = []\n",
    "    \n",
    "for i, video_name in tqdm(enumerate(video_names)):\n",
    "    dist_mat = subj2subj_dist[video_name]\n",
    "    gen = data_info[data_info[\"file name\"] == video_name][\"genre category\"].item()\n",
    "    normalized_dist_mat = dist_mat / dist_nanmedian[i]\n",
    "    subj2subj_dist_genres[gen].append(normalized_dist_mat)\n",
    "\n",
    "for gen in genres:\n",
    "    subj2subj_dist_genres[gen] = np.array(subj2subj_dist_genres[gen])\n",
    "\n",
    "subj2subj_dist_mean_genres = {}\n",
    "for gen in genres:\n",
    "    subj2subj_dist_mean_genres[gen] = np.nanmean(subj2subj_dist_genres[gen], axis=0)\n",
    "\n",
    "subj2subj_dist_mean_filled_genres = {}\n",
    "for gen in genres:\n",
    "    df = pd.DataFrame(data=subj2subj_dist_mean_genres[gen])\n",
    "    df = df.fillna(df.median())\n",
    "    subj2subj_fillnan = (df.values + df.values.T)/2\n",
    "    subj2subj_dist_mean_filled_genres[gen] = subj2subj_fillnan"
   ]
  },
  {
   "cell_type": "code",
   "execution_count": 10,
   "id": "89f21966-09dc-4763-9a8f-62c093fd40f3",
   "metadata": {},
   "outputs": [],
   "source": [
    "gbvs_keys = ['All', 'Intensity', 'Orientation', 'Contrast', 'Flicker', 'Motion', 'DKL_Color']"
   ]
  },
  {
   "cell_type": "code",
   "execution_count": 11,
   "id": "8e4b134f-db1d-440f-b5f5-e275272aaf12",
   "metadata": {
    "scrolled": true
   },
   "outputs": [
    {
     "data": {
      "application/vnd.jupyter.widget-view+json": {
       "model_id": "dd4d37647ed549208c1c5be06bb38ba5",
       "version_major": 2,
       "version_minor": 0
      },
      "text/plain": [
       "0it [00:00, ?it/s]"
      ]
     },
     "metadata": {},
     "output_type": "display_data"
    },
    {
     "data": {
      "application/vnd.jupyter.widget-view+json": {
       "model_id": "11e8b7ed93e048e88c22b407304e329d",
       "version_major": 2,
       "version_minor": 0
      },
      "text/plain": [
       "0it [00:00, ?it/s]"
      ]
     },
     "metadata": {},
     "output_type": "display_data"
    },
    {
     "data": {
      "application/vnd.jupyter.widget-view+json": {
       "model_id": "1a8bc6c911ef4cca897a1a28c3011327",
       "version_major": 2,
       "version_minor": 0
      },
      "text/plain": [
       "0it [00:00, ?it/s]"
      ]
     },
     "metadata": {},
     "output_type": "display_data"
    },
    {
     "data": {
      "application/vnd.jupyter.widget-view+json": {
       "model_id": "c0b22ba9fb5045228cc04f80135c0be7",
       "version_major": 2,
       "version_minor": 0
      },
      "text/plain": [
       "0it [00:00, ?it/s]"
      ]
     },
     "metadata": {},
     "output_type": "display_data"
    },
    {
     "data": {
      "application/vnd.jupyter.widget-view+json": {
       "model_id": "72037fafd57741289f3cb912e3eb7a2c",
       "version_major": 2,
       "version_minor": 0
      },
      "text/plain": [
       "0it [00:00, ?it/s]"
      ]
     },
     "metadata": {},
     "output_type": "display_data"
    },
    {
     "data": {
      "application/vnd.jupyter.widget-view+json": {
       "model_id": "b5bbea96b9f54666bbbca5b702ea9186",
       "version_major": 2,
       "version_minor": 0
      },
      "text/plain": [
       "0it [00:00, ?it/s]"
      ]
     },
     "metadata": {},
     "output_type": "display_data"
    },
    {
     "data": {
      "application/vnd.jupyter.widget-view+json": {
       "model_id": "6d8f9b9f949341e1a88557c91b1c9b2b",
       "version_major": 2,
       "version_minor": 0
      },
      "text/plain": [
       "0it [00:00, ?it/s]"
      ]
     },
     "metadata": {},
     "output_type": "display_data"
    }
   ],
   "source": [
    "subj2gbvs_dist_genres = {}\n",
    "subj2gbvs_dist_mean_genres = {}\n",
    "for gen in genres:\n",
    "    subj2gbvs_dist_genres[gen] = {}\n",
    "    subj2gbvs_dist_mean_genres[gen] = {}\n",
    "    for gbvs_key in gbvs_keys:\n",
    "        subj2gbvs_dist_genres[gen][gbvs_key] = []\n",
    "    \n",
    "for gbvs_key in gbvs_keys:\n",
    "    for i, v in tqdm(enumerate(video_names)):\n",
    "        dist_mat = subj2gbvs_dist[v].item()[gbvs_key]\n",
    "        gen = data_info[data_info[\"file name\"] == v][\"genre category\"].item()\n",
    "        normalized_dist_mat = dist_mat / dist_nanmedian[i]\n",
    "        subj2gbvs_dist_genres[gen][gbvs_key].append(normalized_dist_mat)\n",
    "\n",
    "for gen in genres:\n",
    "    for gbvs_key in gbvs_keys:\n",
    "        dist_mat = np.array(subj2gbvs_dist_genres[gen][gbvs_key])\n",
    "        subj2gbvs_dist_mean_genres[gen][gbvs_key] = np.nanmean(dist_mat, axis=0)"
   ]
  },
  {
   "cell_type": "code",
   "execution_count": 12,
   "id": "82065f53-afc3-4639-b627-90bedc6ca312",
   "metadata": {},
   "outputs": [],
   "source": [
    "training_methods = [\"dino\", \"supervised\"] \n",
    "depth_list = [4, 8, 12]\n",
    "official_model_keys = ['dino_deit_small16', 'supervised_deit_small16']"
   ]
  },
  {
   "cell_type": "code",
   "execution_count": 13,
   "id": "2e329ea2-0f1e-4fbe-b898-eeec16afd78c",
   "metadata": {},
   "outputs": [],
   "source": [
    "subj2vit_dist_genres = {}\n",
    "subj2vit_dist_mean_genres = {}\n",
    "for gen in genres:\n",
    "    subj2vit_dist_genres[gen] = {}\n",
    "    subj2vit_dist_mean_genres[gen] = {}\n",
    "    for tm in training_methods:\n",
    "        subj2vit_dist_genres[gen][tm] = {}\n",
    "        subj2vit_dist_mean_genres[gen][tm] = {}\n",
    "        for depth in depth_list:\n",
    "            subj2vit_dist_genres[gen][tm][str(depth)] = []\n",
    "    for key in official_model_keys:\n",
    "        subj2vit_dist_genres[gen][key] = []"
   ]
  },
  {
   "cell_type": "code",
   "execution_count": 14,
   "id": "60cf2030-fa1c-41d2-8b03-d4fcf8203568",
   "metadata": {},
   "outputs": [
    {
     "data": {
      "application/vnd.jupyter.widget-view+json": {
       "model_id": "cad693ee98d14f229348000ae67882c2",
       "version_major": 2,
       "version_minor": 0
      },
      "text/plain": [
       "0it [00:00, ?it/s]"
      ]
     },
     "metadata": {},
     "output_type": "display_data"
    },
    {
     "data": {
      "application/vnd.jupyter.widget-view+json": {
       "model_id": "ba2c08841b1e4773a358d4dfa2fea135",
       "version_major": 2,
       "version_minor": 0
      },
      "text/plain": [
       "0it [00:00, ?it/s]"
      ]
     },
     "metadata": {},
     "output_type": "display_data"
    },
    {
     "data": {
      "application/vnd.jupyter.widget-view+json": {
       "model_id": "9f098053665c4e0baaa3bd2ef05c7755",
       "version_major": 2,
       "version_minor": 0
      },
      "text/plain": [
       "0it [00:00, ?it/s]"
      ]
     },
     "metadata": {},
     "output_type": "display_data"
    },
    {
     "data": {
      "application/vnd.jupyter.widget-view+json": {
       "model_id": "3625405717b54c1fa67185d186673586",
       "version_major": 2,
       "version_minor": 0
      },
      "text/plain": [
       "0it [00:00, ?it/s]"
      ]
     },
     "metadata": {},
     "output_type": "display_data"
    },
    {
     "data": {
      "application/vnd.jupyter.widget-view+json": {
       "model_id": "8c32c82d15b9472fa2f19d12b4a0335e",
       "version_major": 2,
       "version_minor": 0
      },
      "text/plain": [
       "0it [00:00, ?it/s]"
      ]
     },
     "metadata": {},
     "output_type": "display_data"
    },
    {
     "data": {
      "application/vnd.jupyter.widget-view+json": {
       "model_id": "984b08f7c1f84c52882a5b480ca1470a",
       "version_major": 2,
       "version_minor": 0
      },
      "text/plain": [
       "0it [00:00, ?it/s]"
      ]
     },
     "metadata": {},
     "output_type": "display_data"
    }
   ],
   "source": [
    "for tm in training_methods:\n",
    "    for depth in depth_list:\n",
    "        for i, v in tqdm(enumerate(video_names)):\n",
    "            dist_mat = subj2vit_dist[v].item()[tm][str(depth)]\n",
    "            gen = data_info[data_info[\"file name\"] == v][\"genre category\"].item()\n",
    "            normalized_dist_mat = dist_mat / dist_nanmedian[i]\n",
    "            subj2vit_dist_genres[gen][tm][str(depth)].append(normalized_dist_mat)"
   ]
  },
  {
   "cell_type": "code",
   "execution_count": 15,
   "id": "929a2b59-76d4-4537-a64d-16c8c7c4d3ee",
   "metadata": {},
   "outputs": [
    {
     "data": {
      "application/vnd.jupyter.widget-view+json": {
       "model_id": "e1d5516b376b455887a969aac57b98f1",
       "version_major": 2,
       "version_minor": 0
      },
      "text/plain": [
       "0it [00:00, ?it/s]"
      ]
     },
     "metadata": {},
     "output_type": "display_data"
    },
    {
     "data": {
      "application/vnd.jupyter.widget-view+json": {
       "model_id": "decf850bc937473a920d0f202d19627c",
       "version_major": 2,
       "version_minor": 0
      },
      "text/plain": [
       "0it [00:00, ?it/s]"
      ]
     },
     "metadata": {},
     "output_type": "display_data"
    }
   ],
   "source": [
    "for key in official_model_keys:\n",
    "    for i, v in tqdm(enumerate(video_names)):\n",
    "        dist_mat = subj2vit_official_dist[v].item()[key]\n",
    "        gen = data_info[data_info[\"file name\"] == v][\"genre category\"].item()\n",
    "        normalized_dist_mat = dist_mat / dist_nanmedian[i]\n",
    "        subj2vit_dist_genres[gen][key].append(normalized_dist_mat)"
   ]
  },
  {
   "cell_type": "code",
   "execution_count": 16,
   "id": "03f23a68-f5bf-40ca-a19d-ac5124d674d9",
   "metadata": {},
   "outputs": [
    {
     "data": {
      "text/plain": [
       "dict_keys(['dino', 'supervised', 'dino_deit_small16', 'supervised_deit_small16'])"
      ]
     },
     "execution_count": 16,
     "metadata": {},
     "output_type": "execute_result"
    }
   ],
   "source": [
    "subj2vit_dist_genres[gen].keys()"
   ]
  },
  {
   "cell_type": "code",
   "execution_count": 17,
   "id": "122fd857-d516-4d7e-accc-efea9ec8c596",
   "metadata": {},
   "outputs": [],
   "source": [
    "for gen in genres:\n",
    "    for tm in training_methods:\n",
    "        for depth in depth_list:\n",
    "            dist_mat = np.array(subj2vit_dist_genres[gen][tm][str(depth)])\n",
    "            subj2vit_dist_mean_genres[gen][tm][str(depth)] = np.nanmean(dist_mat, axis=0)\n",
    "    for key in official_model_keys:\n",
    "        dist_mat = np.array(subj2vit_dist_genres[gen][key])\n",
    "        subj2vit_dist_mean_genres[gen][key] = np.nanmean(dist_mat, axis=0)"
   ]
  },
  {
   "cell_type": "markdown",
   "id": "53ddd5a6-cd1f-469d-a095-04f6df48f3ee",
   "metadata": {},
   "source": [
    "official modelのNaNが取れない？"
   ]
  },
  {
   "cell_type": "code",
   "execution_count": 18,
   "id": "95755f43-07e5-4250-b288-c3ef8a4d5e5e",
   "metadata": {},
   "outputs": [
    {
     "name": "stdout",
     "output_type": "stream",
     "text": [
      "dict_keys(['subj', 'dino_4', 'dino_8', 'dino_12', 'supervised_4', 'supervised_8', 'supervised_12', 'dino_deit_small16', 'supervised_deit_small16', 'gbvs'])\n",
      "dict_keys(['subj', 'dino_4', 'dino_8', 'dino_12', 'supervised_4', 'supervised_8', 'supervised_12', 'dino_deit_small16', 'supervised_deit_small16', 'gbvs'])\n",
      "dict_keys(['subj', 'dino_4', 'dino_8', 'dino_12', 'supervised_4', 'supervised_8', 'supervised_12', 'dino_deit_small16', 'supervised_deit_small16', 'gbvs'])\n"
     ]
    }
   ],
   "source": [
    "for g, gen in enumerate(genres):\n",
    "    dist_mat_all_dict = {}\n",
    "    # subj to subj\n",
    "    dist_mat_all_dict[\"subj\"] = subj2subj_dist_mean_filled_genres[gen]\n",
    "    \n",
    "    # subj to vit\n",
    "    for tm in training_methods:\n",
    "        for depth in depth_list:\n",
    "            dist_mat_all_dict[f\"{tm}_{str(depth)}\"] = subj2vit_dist_mean_genres[gen][tm][str(depth)]\n",
    "    for key in official_model_keys:\n",
    "            dist_mat_all_dict[key] = subj2vit_dist_mean_genres[gen][key]\n",
    "            \n",
    "    # subj to gbvs\n",
    "    subj2gbvs_mean_dist_concat = np.array([subj2gbvs_dist_mean_genres[gen][key] for key in gbvs_keys])\n",
    "    dist_mat_all_dict[\"gbvs\"] = subj2gbvs_mean_dist_concat.T\n",
    "    print(dist_mat_all_dict.keys())\n",
    "    savemat(f\"../preprocessed_data/subj2subj_vit_gbvs_CW2019_{genres_label[g]}.mat\", dist_mat_all_dict)"
   ]
  }
 ],
 "metadata": {
  "kernelspec": {
   "display_name": "Python 3 (ipykernel)",
   "language": "python",
   "name": "python3"
  },
  "language_info": {
   "codemirror_mode": {
    "name": "ipython",
    "version": 3
   },
   "file_extension": ".py",
   "mimetype": "text/x-python",
   "name": "python",
   "nbconvert_exporter": "python",
   "pygments_lexer": "ipython3",
   "version": "3.10.11"
  }
 },
 "nbformat": 4,
 "nbformat_minor": 5
}
