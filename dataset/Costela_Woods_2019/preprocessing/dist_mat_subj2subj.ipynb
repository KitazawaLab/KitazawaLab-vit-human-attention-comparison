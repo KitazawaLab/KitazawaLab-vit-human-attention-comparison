{
 "cells": [
  {
   "cell_type": "code",
   "execution_count": 3,
   "id": "acdbb3de-2279-410e-a44c-7756cad72a52",
   "metadata": {},
   "outputs": [],
   "source": [
    "import numpy as np\n",
    "import matplotlib.pyplot as plt\n",
    "from scipy.io import loadmat \n",
    "import os\n",
    "import glob"
   ]
  },
  {
   "cell_type": "code",
   "execution_count": 4,
   "id": "348d860e-9c09-43b3-9f07-b18a8ee989c0",
   "metadata": {},
   "outputs": [],
   "source": [
    "import pandas as pd\n",
    "from tqdm.notebook import tqdm\n",
    "from scipy import interpolate"
   ]
  },
  {
   "cell_type": "code",
   "execution_count": 5,
   "id": "d65860e0-c941-4eb6-9ce5-136fcf57357f",
   "metadata": {},
   "outputs": [],
   "source": [
    "movie_info = np.load(\"../preprocessed_data/clips_png/movie_info.npz\", allow_pickle=True)"
   ]
  },
  {
   "cell_type": "code",
   "execution_count": 20,
   "id": "a32eae35-f90e-4128-b5a1-845ee00e73fb",
   "metadata": {},
   "outputs": [],
   "source": [
    "subj_data_dir = \"../preprocessed_data/subj_gaze_pos_upsampled/\"\n",
    "dirs = os.listdir(subj_data_dir)\n",
    "video_names = sorted([os.path.splitext(os.path.basename(f))[0] for f in dirs])"
   ]
  },
  {
   "cell_type": "code",
   "execution_count": 24,
   "id": "b20a9ed0-ca8a-4951-a522-8d15b4170b72",
   "metadata": {},
   "outputs": [],
   "source": [
    "gaze_path = \"../GazeData/NV/\"\n",
    "dirs = os.listdir(gaze_path)\n",
    "subj_names = sorted([f for f in dirs if os.path.isdir(os.path.join(gaze_path, f))])"
   ]
  },
  {
   "cell_type": "code",
   "execution_count": null,
   "id": "ef0a6b14-c20f-4fc9-8c92-3a7115968c18",
   "metadata": {},
   "outputs": [],
   "source": [
    "num_subj = len(subj_names)"
   ]
  },
  {
   "cell_type": "code",
   "execution_count": 61,
   "id": "4f42751b-5cda-4f09-91ef-7ac9a73eb232",
   "metadata": {},
   "outputs": [
    {
     "data": {
      "application/vnd.jupyter.widget-view+json": {
       "model_id": "d93f1921224c48b4a57bca5ed11be90f",
       "version_major": 2,
       "version_minor": 0
      },
      "text/plain": [
       "  0%|          | 0/200 [00:00<?, ?it/s]"
      ]
     },
     "metadata": {},
     "output_type": "display_data"
    }
   ],
   "source": [
    "dist_mat_dict = {}\n",
    "for v in tqdm(video_names):\n",
    "    gaze_pos = np.load(f\"{subj_data_dir}/{v}.npz\", allow_pickle=True)\n",
    "    dist_mat = np.zeros((num_subj, num_subj))\n",
    "    for i in range(num_subj):\n",
    "        for j in range(num_subj):\n",
    "            if i > j:\n",
    "                si = subj_names[i]\n",
    "                sj = subj_names[j]\n",
    "                if gaze_pos.get(si) is None or gaze_pos.get(sj) is None:\n",
    "                    dist_mat[i, j] = np.nan\n",
    "                else:\n",
    "                    gaze_diff = gaze_pos[si] - gaze_pos[sj]\n",
    "                    diff_norm = np.linalg.norm(gaze_diff, axis=0)\n",
    "                    dist_mat[i, j] = np.nanmedian(diff_norm)\n",
    "    dist_mat_dict[v] = dist_mat + dist_mat.T"
   ]
  },
  {
   "cell_type": "code",
   "execution_count": 72,
   "id": "2af94a4d-1d56-49ef-afa6-e23855ce6d5a",
   "metadata": {},
   "outputs": [
    {
     "data": {
      "application/vnd.jupyter.widget-view+json": {
       "model_id": "7a61f008805942c3adcb5cd3940ac6c4",
       "version_major": 2,
       "version_minor": 0
      },
      "text/plain": [
       "  0%|          | 0/200 [00:00<?, ?it/s]"
      ]
     },
     "metadata": {},
     "output_type": "display_data"
    }
   ],
   "source": [
    "dist_mat_all = []\n",
    "dist_median_all = []\n",
    "for v in tqdm(video_names):\n",
    "    dist_mat = dist_mat_dict[v]\n",
    "    utril_dist = np.tril(dist_mat)\n",
    "    utril_dist[utril_dist == 0] = np.nan\n",
    "    dist_median = np.nanmedian(utril_dist)\n",
    "    dist_mat_normalized = dist_mat / dist_median\n",
    "    dist_mat_all.append(dist_mat_normalized)\n",
    "    dist_median_all.append(dist_median)"
   ]
  },
  {
   "cell_type": "code",
   "execution_count": 73,
   "id": "b625a3c8-521f-4f42-85b8-4aaa62a56b42",
   "metadata": {},
   "outputs": [],
   "source": [
    "dist_mat_all = np.array(dist_mat_all)\n",
    "dist_median_all = np.array(dist_median_all)\n",
    "dist_mat_all_mean = np.nanmean(dist_mat_all, axis=0)"
   ]
  },
  {
   "cell_type": "code",
   "execution_count": 81,
   "id": "7e0987ea-9828-41f6-a6d6-bb995fbe950c",
   "metadata": {},
   "outputs": [],
   "source": [
    "dist_mat_dict[\"all_nanmean\"] = dist_mat_all_mean\n",
    "dist_mat_dict[\"dist_nanmedian\"] = dist_median_all\n",
    "dist_mat_dict[\"video_names\"] = video_names"
   ]
  },
  {
   "cell_type": "code",
   "execution_count": 82,
   "id": "37476bbb-a00e-47e3-a31e-91b95bdcafd8",
   "metadata": {},
   "outputs": [],
   "source": [
    "np.savez_compressed(\"../preprocessed_data/subj2subj_dist.npz\", **dist_mat_dict)"
   ]
  },
  {
   "cell_type": "code",
   "execution_count": 77,
   "id": "eaa1bbff-36d4-460c-8a8e-545dbbf7760b",
   "metadata": {},
   "outputs": [
    {
     "data": {
      "text/plain": [
       "<matplotlib.image.AxesImage at 0x7f2ef7e0c910>"
      ]
     },
     "execution_count": 77,
     "metadata": {},
     "output_type": "execute_result"
    },
    {
     "data": {
      "image/png": "[encoded data removed]",
      "text/plain": [
       "<Figure size 640x480 with 1 Axes>"
      ]
     },
     "metadata": {},
     "output_type": "display_data"
    }
   ],
   "source": [
    "plt.imshow(dist_mat_all_mean)"
   ]
  }
 ],
 "metadata": {
  "kernelspec": {
   "display_name": "Python 3 (ipykernel)",
   "language": "python",
   "name": "python3"
  },
  "language_info": {
   "codemirror_mode": {
    "name": "ipython",
    "version": 3
   },
   "file_extension": ".py",
   "mimetype": "text/x-python",
   "name": "python",
   "nbconvert_exporter": "python",
   "pygments_lexer": "ipython3",
   "version": "3.10.11"
  }
 },
 "nbformat": 4,
 "nbformat_minor": 5
}
