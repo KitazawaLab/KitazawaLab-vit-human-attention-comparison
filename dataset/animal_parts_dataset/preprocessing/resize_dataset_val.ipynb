{
 "cells": [
  {
   "cell_type": "code",
   "execution_count": 1,
   "id": "0266e9ab-eb3b-458c-9e92-61eacae10a01",
   "metadata": {},
   "outputs": [],
   "source": [
    "import numpy as np\n",
    "import matplotlib.pyplot as plt\n",
    "import glob\n",
    "import os\n",
    "from scipy.io import loadmat\n",
    "from PIL import Image\n",
    "import cv2\n",
    "from tqdm.notebook import tqdm"
   ]
  },
  {
   "cell_type": "code",
   "execution_count": 2,
   "id": "f4199eb7-d55e-4bed-93bb-9a4ae1bd54e6",
   "metadata": {},
   "outputs": [],
   "source": [
    "matfile = loadmat(\"../original_data/imdb-animalParts-eye.mat\")"
   ]
  },
  {
   "cell_type": "code",
   "execution_count": 3,
   "id": "eff298f2-6833-42c1-b60e-fba5f073efc2",
   "metadata": {},
   "outputs": [
    {
     "data": {
      "text/plain": [
       "dict_keys(['__header__', '__version__', '__globals__', 'images', 'bbx', 'kp', 'classes', 'imageDir'])"
      ]
     },
     "execution_count": 3,
     "metadata": {},
     "output_type": "execute_result"
    }
   ],
   "source": [
    "matfile.keys()"
   ]
  },
  {
   "cell_type": "code",
   "execution_count": 4,
   "id": "e1cba831-ff35-478e-9ea0-7ed4c5a19a65",
   "metadata": {},
   "outputs": [],
   "source": [
    "image_names = matfile[\"images\"][\"name\"][0][0][0]\n",
    "image_id = matfile[\"images\"][\"id\"][0][0][0]\n",
    "bbx_id = matfile[\"bbx\"][\"id\"][0][0][0]\n",
    "bbx_imageId = matfile[\"bbx\"][\"imageId\"][0][0][0]\n",
    "kp_boxId = matfile[\"kp\"][\"boxId\"][0][0][0]\n",
    "kp_pos = matfile[\"kp\"][\"pos\"][0][0].T"
   ]
  },
  {
   "cell_type": "code",
   "execution_count": 5,
   "id": "445df17b-a47e-4b56-bdd5-d4cfabfe205d",
   "metadata": {},
   "outputs": [
    {
     "data": {
      "text/plain": [
       "14711"
      ]
     },
     "execution_count": 5,
     "metadata": {},
     "output_type": "execute_result"
    }
   ],
   "source": [
    "len(image_names)"
   ]
  },
  {
   "cell_type": "code",
   "execution_count": 6,
   "id": "1729e856-9c45-4874-8b8f-25c9418c0f5b",
   "metadata": {},
   "outputs": [],
   "source": [
    "rh, rw = 256, 256"
   ]
  },
  {
   "cell_type": "code",
   "execution_count": 7,
   "id": "d232e069-bfd7-4a24-8c91-a774f1567e89",
   "metadata": {},
   "outputs": [
    {
     "data": {
      "application/vnd.jupyter.widget-view+json": {
       "model_id": "b1dcf5766f404ab788411e6d6c1eca77",
       "version_major": 2,
       "version_minor": 0
      },
      "text/plain": [
       "  0%|          | 0/14711 [00:00<?, ?it/s]"
      ]
     },
     "metadata": {},
     "output_type": "display_data"
    }
   ],
   "source": [
    "im_count = 0\n",
    "eye_pos_shifts = []\n",
    "kp_img_id = []\n",
    "for img_idx in tqdm(range(len(image_names))):\n",
    "    im_name = image_names[img_idx][0]\n",
    "    im_dir = im_name.split(\"/\")[0]\n",
    "    if im_dir == \"val\":\n",
    "        img_path = f\"/data/dataset/imagenet/ILSVRC2012_{image_names[img_idx][0]}\"\n",
    "        im = cv2.imread(img_path)\n",
    "        \"\"\"\n",
    "        if im.mode == \"L\":\n",
    "            im = im.convert('RGB')\n",
    "        im = np.array(im)\n",
    "        \"\"\"\n",
    "        im_id = image_id[img_idx]\n",
    "        kp_indices = bbx_id[im_id == bbx_imageId][0] == kp_boxId\n",
    "        num_kp = np.sum(kp_indices)\n",
    "        if num_kp > 0:\n",
    "            eye_pos = kp_pos[kp_indices]\n",
    "            mean_eye_pos = np.mean(eye_pos, axis=0)\n",
    "            h, w, _ = im.shape\n",
    "            eye_pos_shift = np.copy(eye_pos)\n",
    "            if h == w:\n",
    "                min_hw = h\n",
    "                im_crop_resize = cv2.resize(im, (rw, rh), interpolation=cv2.INTER_AREA)\n",
    "            else:\n",
    "                min_hw = min(h, w)\n",
    "                if h == min_hw:\n",
    "                    x = np.arange(0, w - min_hw)\n",
    "                    xm = x + w/2\n",
    "                    min_idx = np.argmin(np.abs(mean_eye_pos[0] - xm))\n",
    "                    cx = x[min_idx]\n",
    "                    im_crop = im[:, cx:cx+min_hw]\n",
    "                    eye_pos_shift[:, 0] -= cx\n",
    "                else:\n",
    "                    y = np.arange(0, h - min_hw)\n",
    "                    ym = y + h/2\n",
    "                    min_idx = np.argmin(np.abs(mean_eye_pos[1] - ym))\n",
    "                    cy = y[min_idx]\n",
    "                    im_crop = im[cy:cy+min_hw]\n",
    "                    eye_pos_shift[:, 1] -= cy\n",
    "                im_crop_resize = cv2.resize(im_crop, (rw, rh), interpolation=cv2.INTER_AREA)\n",
    "            eye_pos_shift[:, 0] *= rw / min_hw\n",
    "            eye_pos_shift[:, 1] *= rh / min_hw\n",
    "            eye_pos_shifts.append(eye_pos_shift)\n",
    "            kp_img_id += [im_count] * num_kp\n",
    "    \n",
    "            cv2.imwrite(f\"../preprocessed_data/resized_images_val/{im_count:05d}.png\", im_crop_resize)\n",
    "            im_count += 1\n",
    "eye_pos_shifts = np.vstack(eye_pos_shifts)\n",
    "kp_img_id = np.hstack(kp_img_id)"
   ]
  },
  {
   "cell_type": "code",
   "execution_count": 9,
   "id": "9580a3ab-0bba-4bf6-a23b-bc96410943ec",
   "metadata": {},
   "outputs": [
    {
     "data": {
      "text/plain": [
       "1067"
      ]
     },
     "execution_count": 9,
     "metadata": {},
     "output_type": "execute_result"
    }
   ],
   "source": [
    "im_count"
   ]
  },
  {
   "cell_type": "code",
   "execution_count": 8,
   "id": "05641fff-1c7b-477f-8732-8847c8a44628",
   "metadata": {},
   "outputs": [],
   "source": [
    "np.savez_compressed(\"../preprocessed_data/shifted_eye_pos_val.npz\", \n",
    "                    eye_pos=eye_pos_shifts, img_id=kp_img_id)"
   ]
  },
  {
   "cell_type": "code",
   "execution_count": 10,
   "id": "975fab0d-a0bc-4ce8-a039-158b00a9cb6b",
   "metadata": {},
   "outputs": [
    {
     "data": {
      "text/plain": [
       "array([   0,    1,    1, ..., 1064, 1065, 1066])"
      ]
     },
     "execution_count": 10,
     "metadata": {},
     "output_type": "execute_result"
    }
   ],
   "source": [
    "kp_img_id"
   ]
  }
 ],
 "metadata": {
  "kernelspec": {
   "display_name": "Python 3 (ipykernel)",
   "language": "python",
   "name": "python3"
  },
  "language_info": {
   "codemirror_mode": {
    "name": "ipython",
    "version": 3
   },
   "file_extension": ".py",
   "mimetype": "text/x-python",
   "name": "python",
   "nbconvert_exporter": "python",
   "pygments_lexer": "ipython3",
   "version": "3.10.11"
  }
 },
 "nbformat": 4,
 "nbformat_minor": 5
}
